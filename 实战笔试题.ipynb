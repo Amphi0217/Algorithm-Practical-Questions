{
 "cells": [
  {
   "cell_type": "markdown",
   "metadata": {},
   "source": [
    "1. 输出最大点\n",
    "2. 求最大矩阵\n",
    "3. 选数组序列的区间, 使该区间内 最小数 * 区间所有数的和 最大\n",
    "4. 判断列表的连续数字范围并分块\n",
    "5. 硬币拼凑题\n",
    "6. 小Q吃巧克力\n",
    "7. 小Q的歌单\n",
    "8. 安排机器\n",
    "9. 画家小q\n",
    "10. 美团2018.9.6笔试 最长全1串\n",
    "11. 美团2018.9.6笔试 图的遍历\n",
    "12. 美团2018.9.6笔试 外卖满减\n",
    "13. 美团2018.9.6笔试 种花\n",
    "14. 美团2018.9.6笔试 考试策略\n",
    "15. 美团2018.9.6笔试 路由器   附加问题：火车站台\n",
    "16. 美团2018.9.6笔试 D塔2\n",
    "17. 网易2019 瞌睡\n",
    "18. 网易2019 丰收\n",
    "19. 网易2019 表达式求值\n",
    "20. 网易编程题2109 塔\n",
    "21. 网易编程题2019 整理房间\n",
    "22. 网易编程题2019 小易的字典\n",
    "23. 美团2017秋招 拼凑钱币\n",
    "24. 美团2017秋招 最大矩形面积 (栈）\n",
    "25. 美团2017秋招 最长公共连续子串\n",
    "26. 滴滴2017秋招 餐馆 \n",
    "27. 滴滴2017秋招 地下迷宫\n",
    "28. 滴滴2017秋招 进制转换\n",
    "29. 滴滴2017秋招 数字和为sum的方法数\n",
    "30. 网易2019编程题 牛牛找工作"
   ]
  },
  {
   "cell_type": "markdown",
   "metadata": {},
   "source": [
    "31. 网易2019编程题 被3整除\n",
    "32. 网易2019编程题 安置路灯\n",
    "33. 网易2019编程题 数对\n",
    "34. 网易2019编程题 牛牛的背包问题 \n",
    "35. 网易2019编程题 矩形重叠\n",
    "36. 网易2019编程题 篮球队\n",
    "37. 网易2019编程题 字母卡片\n",
    "38. 网易2019编程题 N-GCD\n",
    "39. 网易2019编程题 分贝壳\n",
    "40. 网易2019编程题 美妙的约会\n",
    "41. 拼多多编程题 选靓号\n",
    "42. 拼多多编程题 种树\n",
    "43. 拼多多编程题 回合制游戏\n",
    "44. 腾讯2017编程题 编码\n",
    "45. 小红书编程题 薯券使用问题\n",
    "46. 腾讯2017编程题 geohash编码\n",
    "47. 度小满笔试编程题 链式边权\n",
    "48. 度小满笔试编程题 商品交易\n",
    "49. 2020腾讯笔试 健身房\n",
    "50. 腾讯2020编程题 冰淇淋\n",
    "51. 腾讯2020编程题 拔栏杆\n",
    "52. b站2019编程题 扭蛋机\n",
    "53. b站2019编程题 脸滚键盘\n",
    "54. b站2019编程题 小A最多会新认识的多少人\n",
    "55. b站2019编程题 简单表达式计算\n",
    "56. b站2019编程题 山寨金闪闪\n",
    "57. 快手编程题 将满二叉树转换为求和树\n",
    "58. 快手编程题 搭积木\n",
    "59. 快手编程题 获得最多的奖金\n",
    "60. 京东编程题 紧急疏散"
   ]
  },
  {
   "cell_type": "markdown",
   "metadata": {},
   "source": [
    "61. 小红书编程题 树的不同形态\n",
    "62. 快手编程题 判断一棵满二叉树是否为二叉搜索树\n",
    "63. 连续子区间和\n",
    "64. 字节跳动编程题\n",
    "65. 机器人走方格\n",
    "66. 约瑟夫环\n",
    "67. 蘑菇街编程题 字符串的排列\n",
    "68. 小米编程题 爬楼梯\n",
    "69. 拼多多2018编程题 拼多多周年庆\n",
    "70. 幸运子序列\n",
    "71. 最小栈\n",
    "72. 航线\n",
    "73. shopee编程题 建物流中转站\n",
    "74. 滴滴编程题 几个岛\n",
    "75. 走迷宫 \n",
    "76. 基础迷宫题\n",
    "77. 小米编程题 计算题\n",
    "78. Unix路径简化\n",
    "79. 高度最小的BST\n",
    "80. 度小满2019编程题 字符串替换\n",
    "81. 挑选镇长\n",
    "82. 快手2019编程题 机器人移动范围\n",
    "83. 字节跳动2019 毕业旅行问题\n",
    "84. 字节跳动2019 机器人跳跃问题\n",
    "85. shopee编程题 实现字通配符*\n",
    "86. bilibili编程题  ん...红茶？\n",
    "87. 滴滴2020笔试 算法转移\n",
    "88. 滴滴2020笔试 多源D点\n",
    "89. 顺丰科技2020笔试题 学习机 （并查集算法相关）\n",
    "90. 流利说编程题 连续子数组最大和"
   ]
  },
  {
   "cell_type": "markdown",
   "metadata": {},
   "source": [
    "91. shopee2019编程题 shopee的办公室（二）\n",
    "92. 寒武纪编程题 回文数索引\n",
    "93. 京东2019编程题 寻找子串\n",
    "94. 好奇的薯队长\n",
    "95. 配比\n",
    "96. 雀魂启动！"
   ]
  },
  {
   "cell_type": "markdown",
   "metadata": {},
   "source": [
    "### 1. 输出最大点 @@"
   ]
  },
  {
   "cell_type": "code",
   "execution_count": null,
   "metadata": {},
   "outputs": [],
   "source": [
    "n=int(input(\"输入点的个数\"))\n",
    "points=[]\n",
    "for i in range(n):\n",
    "    tmp = input(\"输入点坐标\")\n",
    "    points.append(tuple(map(int,tmp.split())))\n",
    "points=sorted(points)\n",
    "\n",
    "\n",
    "res = []\n",
    "res.append(points[0])\n",
    "for i in  range(1,len(points)):\n",
    "    if points[i][0] > res[-1][0]:\n",
    "        res.append(points[i])\n",
    "    else:\n",
    "        continue\n",
    "res.sort(key=lambda k:k[0])\n",
    "for i in res:\n",
    "    print (i[0],i[1])"
   ]
  },
  {
   "cell_type": "code",
   "execution_count": null,
   "metadata": {},
   "outputs": [],
   "source": [
    "x=[]\n",
    "print()"
   ]
  },
  {
   "cell_type": "markdown",
   "metadata": {},
   "source": [
    "### 2. 求最大矩阵 @@  （以每个长条作为最短的矩阵不断更新）"
   ]
  },
  {
   "cell_type": "code",
   "execution_count": null,
   "metadata": {},
   "outputs": [],
   "source": [
    "def LargestArea(histogram):\n",
    "    histogram.append(-1)\n",
    "    index=0\n",
    "    stack=[]\n",
    "    max_area=0\n",
    "    \n",
    "    while (index<len(histogram)):\n",
    "        if (len(stack)==0 or histogram[index]>=histogram[stack[-1]]):\n",
    "            stack.append(index)\n",
    "            index+=1\n",
    "        else:\n",
    "            top=stack.pop()\n",
    "            area=0\n",
    "            if (len(stack)==0):\n",
    "                area=histogram[top]*index\n",
    "            else:\n",
    "                area=histogram[top]*(index-stack[-1]-1)\n",
    "            if (area>max_area):\n",
    "                max_area=area\n",
    "        #print(stack)\n",
    "    return max_area   "
   ]
  },
  {
   "cell_type": "code",
   "execution_count": null,
   "metadata": {},
   "outputs": [],
   "source": [
    "class MaxInnerRec:\n",
    "    def countArea(self, A, n):\n",
    "        # write code here\n",
    "        result = []\n",
    "        for i in range(n):\n",
    "            a=1\n",
    "            for k in range(i)[::-1]:\n",
    "                if A[k]>=A[i]:\n",
    "                    a += 1\n",
    "                else:\n",
    "                    break\n",
    "            for j in range(i+1,n):\n",
    "                if A[j]>=A[i]:\n",
    "                    a += 1\n",
    "                else:\n",
    "                    break\n",
    "            result.append(A[i]*a)\n",
    "        return max(result)"
   ]
  },
  {
   "cell_type": "code",
   "execution_count": null,
   "metadata": {},
   "outputs": [],
   "source": [
    "LargestArea([2,1,5,6,2,3])"
   ]
  },
  {
   "cell_type": "code",
   "execution_count": null,
   "metadata": {},
   "outputs": [],
   "source": [
    "LargestArea([2,1,5,6,2,3])"
   ]
  },
  {
   "cell_type": "markdown",
   "metadata": {},
   "source": [
    "### 3. 选数组序列的区间, 使该区间内 最小数 * 区间所有数的和 最大 （以上的变形）@@"
   ]
  },
  {
   "cell_type": "code",
   "execution_count": null,
   "metadata": {},
   "outputs": [],
   "source": [
    "n=int(input())\n",
    "array = list(map(int,input().split()))\n",
    "\n",
    "array.append(-1)\n",
    "index=0\n",
    "stack=[]\n",
    "max_num=0\n",
    "while (index<len(array)):\n",
    "    if (len(stack)==0 or array[stack[-1]]<=array[index]):\n",
    "        stack.append(index)\n",
    "        index+=1\n",
    "    else:\n",
    "        top=stack.pop()\n",
    "        num=0\n",
    "        if (len(stack)==0):\n",
    "            num=array[top]*sum(array[:index])\n",
    "        else:\n",
    "            num=array[top]*sum(array[(stack[-1]+1):index])\n",
    "        if (num>max_num):\n",
    "            max_num=num\n",
    "print(max_num)\n",
    "        \n",
    "        "
   ]
  },
  {
   "cell_type": "markdown",
   "metadata": {},
   "source": [
    "##### 别人的"
   ]
  },
  {
   "cell_type": "code",
   "execution_count": null,
   "metadata": {},
   "outputs": [],
   "source": [
    "n=int(input())\n",
    "arr=[int(x) for x in input().split(' ')]\n",
    " \n",
    "i=0\n",
    "stack_pop_before=[]\n",
    "stack=[]\n",
    "ans=0\n",
    "arr.append(-1)\n",
    "while i<=n:\n",
    "    num=arr[i]\n",
    "    pop_sum=0\n",
    "    pop_before=0\n",
    "    while stack and num<stack[-1]:\n",
    "        pop_num=stack.pop()\n",
    "        pop_sum+=pop_num\n",
    "        pop_before+=stack_pop_before.pop()\n",
    "        ans=max(ans,(pop_before+pop_sum)*pop_num)\n",
    "    stack_pop_before.append(pop_before+pop_sum)\n",
    "    stack.append(num)\n",
    "    i+=1\n",
    "print (ans)"
   ]
  },
  {
   "cell_type": "markdown",
   "metadata": {},
   "source": [
    "### 4. 判断列表的连续数字范围并分块 @@"
   ]
  },
  {
   "cell_type": "code",
   "execution_count": null,
   "metadata": {},
   "outputs": [],
   "source": [
    "from itertools import groupby\n",
    "\n",
    "lst = [1, 2, 3, 5, 6, 7, 8, 11, 12, 13, 19]    \n",
    "\n",
    "fun = lambda x: x[1]-x[0]\n",
    "for k, g in groupby(enumerate(lst), fun):\n",
    "    l1 = [j for i, j in g]    # 连续数字的列表\n",
    "    if len(l1) > 1:\n",
    "        scop = str(min(l1)) + '-' + str(max(l1))    # 将连续数字范围用\"-\"连接\n",
    "    else:\n",
    "        scop = l1[0]\n",
    "    print(\"连续数字范围：{}\".format(scop))\n"
   ]
  },
  {
   "cell_type": "markdown",
   "metadata": {},
   "source": [
    "### 5. 硬币拼凑题"
   ]
  },
  {
   "cell_type": "markdown",
   "metadata": {},
   "source": [
    "#### 小Q非常富有，拥有非常多的硬币，小Q的拥有的硬币是有规律的，对于所有的非负整数K,小Q恰好各有两个数值为2k，的硬币，所以小Q拥有的硬币是1，1，2，2，4，4…，小Q卖东西需要支付n元钱，请问小Q想知道有多少种组合方案。 输入：一个n(1≤n≤1018),代表要付的钱 输出：表示小Q可以拼凑的方案数目\n"
   ]
  },
  {
   "cell_type": "markdown",
   "metadata": {},
   "source": [
    "#### 思路：将硬币分为两份：1，2，4，8，16，.....和1，2，4，8，16....。组成两个数值为a,b的两个数字，他们的和是a+b=n; a在每一份中只可能有一种组合方式（二进制的思想）。将a和b使用二进制表示，那么对于n=11，有a=101，b=110这种组合，即a=1+0+4=5,b=0+2+4=6。但是，请注意，对于a和b，在相同位取不同值，只有一种组合方法。如111+100和101+110（即交换中间位）本质上都是同一种组合方法，因此对于该类型可以使用二进制异或进行去重。\n"
   ]
  },
  {
   "cell_type": "code",
   "execution_count": null,
   "metadata": {},
   "outputs": [],
   "source": [
    "def Coins_Con_Num(n):\n",
    "    solutionset=set()\n",
    "    stop=n//2\n",
    "    for i in range(stop+1):\n",
    "        result=i^(n-i)\n",
    "        solutionset.add(result)\n",
    "    return len(solutionset)\n",
    "        \n",
    "        \n",
    "        "
   ]
  },
  {
   "cell_type": "code",
   "execution_count": null,
   "metadata": {},
   "outputs": [],
   "source": [
    "Coins_Con_Num(6)"
   ]
  },
  {
   "cell_type": "markdown",
   "metadata": {},
   "source": [
    "### 6. 小Q吃巧克力 （贪心/ 查找/ 递归） 认识到这是一个排序数组比较重要"
   ]
  },
  {
   "cell_type": "markdown",
   "metadata": {},
   "source": [
    "#### 这题的思路我完全想歪了，想得太复杂而且也根本理不清自己的思路，应该用二分查找法。"
   ]
  },
  {
   "cell_type": "markdown",
   "metadata": {},
   "source": [
    "#### 发现自己在做题的时候总是在想一些细节问题，然后太关注他们"
   ]
  },
  {
   "cell_type": "code",
   "execution_count": null,
   "metadata": {},
   "outputs": [],
   "source": [
    "tmp=input().split()\n",
    "d,choco=(int(i) for i in tmp)\n",
    "\n",
    "def sum_ifs(s,days):\n",
    "    choco_needed=0\n",
    "    for i in range(days):\n",
    "        choco_needed+=s\n",
    "        s=(s+1)>>1\n",
    "    return choco_needed\n",
    "def find_s(days,choco):\n",
    "    low_s=1\n",
    "    high_s=choco\n",
    "    while low_s<=high_s:\n",
    "        middle=(low_s + high_s + 1)>>1\n",
    "        if sum_ifs(middle,days)==choco:\n",
    "            return middle\n",
    "        if sum_ifs(middle,days)<choco:\n",
    "            low_s=middle+1\n",
    "        else:high_s=middle-1\n",
    "    return high_s\n",
    "    \n",
    "print(find_s(d,choco))      \n",
    "    \n",
    "    "
   ]
  },
  {
   "cell_type": "markdown",
   "metadata": {},
   "source": [
    "#### 该题细节非常多"
   ]
  },
  {
   "cell_type": "markdown",
   "metadata": {},
   "source": [
    "### 7. 小Q的歌单"
   ]
  },
  {
   "cell_type": "markdown",
   "metadata": {},
   "source": [
    "#### 小Q有X首长度为A的不同的歌和Y首长度为B的不同的歌，现在小Q想用这些歌组成一个总长度正好为K的歌单，每首歌最多只能在歌单中出现一次，在不考虑歌单内歌曲的先后顺序的情况下，请问有多少种组成歌单的方法。"
   ]
  },
  {
   "cell_type": "code",
   "execution_count": null,
   "metadata": {},
   "outputs": [],
   "source": [
    "##我写的代码，超出内存，ac70%\n",
    "from itertools import combinations\n",
    "k = int(input())\n",
    "arr=[int(i) for i in input().split()]\n",
    "a_len=arr[0]\n",
    "b_len=arr[2]\n",
    "a_max=min(k//a_len,arr[1])\n",
    "b_max=min(k//b_len,arr[3])\n",
    "total_num=0\n",
    "for i in range(a_max+1):\n",
    "    if (k-i*a_len)%b_len==0:\n",
    "        num_a = len(list(combinations(range(arr[1]),i)))\n",
    "        num_b = len(list(combinations(range(arr[3]),(k-i*a_len)//b_len)))\n",
    "        total_num+=num_a*num_b\n",
    "print(total_num%1000000007)"
   ]
  },
  {
   "cell_type": "markdown",
   "metadata": {},
   "source": [
    "#### 动态规划的压缩空间是值得好好思考"
   ]
  },
  {
   "cell_type": "code",
   "execution_count": null,
   "metadata": {},
   "outputs": [],
   "source": [
    "##正解 ac100%\n",
    "\n",
    "## 01背包+压缩空间\n",
    "k = int(input())\n",
    "arr=[int(i) for i in input().split()]\n",
    "a_len=arr[0]\n",
    "a_num=arr[1]\n",
    "b_len=arr[2]\n",
    "b_num=arr[3]\n",
    "dp=[0 for i in range(k+1)]\n",
    "dp[0]=1\n",
    "spe_num=1000000007\n",
    "#只考虑长度为a的\n",
    "for i in range(a_num):\n",
    "    for j in range(k,a_len-1,-1):\n",
    "        dp[j]=(dp[j]+dp[j-a_len])%spe_num\n",
    "#只考虑长度为b的\n",
    "for i in range(b_num):\n",
    "    for j in range(k,b_len-1,-1):\n",
    "        dp[j]=(dp[j]+dp[j-b_len])%spe_num\n",
    "print(dp[k])\n",
    "        \n"
   ]
  },
  {
   "cell_type": "markdown",
   "metadata": {},
   "source": [
    "### 8. 安排机器  （数据结构的融合运用）（贪心/模拟/排序）"
   ]
  },
  {
   "cell_type": "markdown",
   "metadata": {},
   "source": [
    "#### 小Q的公司最近接到m个任务, 第i个任务需要xi的时间去完成, 难度等级为yi。小Q拥有n台机器, 每台机器最长工作时间zi, 机器等级wi。对于一个任务,它只能交由一台机器来完成, 如果安排给它的机器的最长工作时间小于任务需要的时间, 则不能完成,如果完成这个任务将获得200 * xi + 3 * yi收益。对于一台机器,它一天只能完成一个任务, 如果它的机器等级小于安排给它的任务难度等级, 则不能完成。小Q想在今天尽可能的去完成任务, 即完成的任务数量最大。如果有多种安排方案,小Q还想找到收益最大的那个方案。小Q需要你来帮助他计算一下。"
   ]
  },
  {
   "cell_type": "code",
   "execution_count": null,
   "metadata": {},
   "outputs": [],
   "source": [
    "#别人的\n",
    "n,m=[int(i) for i in input().strip().split()]\n",
    "machines,tasks=[],[]\n",
    "for i in range(n):\n",
    "    hours,level=[int(i) for i in input().strip().split()]\n",
    "    machines.append([hours,level])\n",
    "\n",
    "for i in range(m):\n",
    "    hours,level=[int(i) for i in input().strip().split()]\n",
    "    tasks.append([hours,level])\n",
    "\n",
    "machines.sort(key=lambda x: (x[0],x[1]),reverse=True)\n",
    "tasks.sort(key=lambda x: (x[0],x[1]),reverse=True)\n",
    "\n",
    "dp=[0 for i in range(101)]\n",
    "j=0\n",
    "count=0\n",
    "res=0\n",
    "for tktime,tklev in tasks:\n",
    "    while j<len(machines) and machines[j][0]>=tktime:\n",
    "        dp[machines[j][1]]+=1\n",
    "        j+=1\n",
    "    \n",
    "    for i in range(tklev,101):\n",
    "        if dp[i]>0:\n",
    "            dp[i]-=1\n",
    "            res += 200*tktime+3*tklev\n",
    "            count+=1\n",
    "            break\n",
    "print(\"%d %d\" %(count,res))"
   ]
  },
  {
   "cell_type": "code",
   "execution_count": null,
   "metadata": {},
   "outputs": [],
   "source": [
    "##我自己再写一遍\n",
    "\n",
    "n,m = (int(i) for i in input().split())\n",
    "machine=[]\n",
    "task=[]\n",
    "for i in range(n):\n",
    "    machine.append([int(i) for i in input().split()])\n",
    "for i in range(m):\n",
    "    task.append([int(i) for i in input().split()]) \n",
    "machine=sorted(machine,key=lambda x:x[0],reverse=True)\n",
    "task=sorted(task,key=lambda x:x[0],reverse=True)\n",
    "\n",
    "sum_return=0\n",
    "sum_task=0\n",
    "j=0\n",
    "tmp_dict=[0]*101\n",
    "for i in task:\n",
    "    while j<len(machine) and machine[j][0]>=i[0]:\n",
    "        tmp_dict[machine[j][1]]+=1\n",
    "        j+=1\n",
    "    for p in range(i[1],101):\n",
    "        if tmp_dict[p]>0:\n",
    "            tmp_dict[p]-=1\n",
    "            sum_task+=1\n",
    "            sum_return+=200*i[0]+3*i[1]\n",
    "            break\n",
    "            \n",
    "print(sum_task,sum_return)\n",
    "\n",
    "\n",
    "###写的过程小错误不断，思路很好，要好好掌握"
   ]
  },
  {
   "cell_type": "markdown",
   "metadata": {},
   "source": [
    "### 到此有一总结，有些题目纯按计算机思维（本质是遍历）来解决，有些问题先要有自己的先验判断，再依据各个数据结构的特点选取合适的盛放数据选择最优解。所以要大胆想。安排机器属于一个贪心算法。"
   ]
  },
  {
   "cell_type": "markdown",
   "metadata": {},
   "source": [
    "### 9. 画家小q （贪心/ 模拟/ 递归）"
   ]
  },
  {
   "cell_type": "code",
   "execution_count": null,
   "metadata": {},
   "outputs": [],
   "source": [
    "#mine\n",
    "def draw_b(matrix,i,j,n,m):\n",
    "    while i>=0 and i<n and j>=0 and j<m and (matrix[i][j]=='B' or matrix[i][j]=='G'):\n",
    "        if matrix[i][j]=='B':\n",
    "            matrix[i][j]='X'\n",
    "        elif matrix[i][j]=='G':\n",
    "            matrix[i][j]='Y'\n",
    "        \n",
    "        draw_b(matrix,i+1,j-1,n,m)\n",
    "        draw_b(matrix,i-1,j+1,n,m)\n",
    "\n",
    "def draw_y(matrix,i,j,n,m):\n",
    "    while i>=0 and i<n and j>=0 and j<m and (matrix[i][j]=='Y' or matrix[i][j]=='G'):\n",
    "        if matrix[i][j]=='Y':\n",
    "            matrix[i][j]='X'\n",
    "        elif matrix[i][j]=='G':\n",
    "            matrix[i][j]='B'\n",
    "        \n",
    "        draw_y(matrix,i-1,j-1,n,m)\n",
    "        draw_y(matrix,i+1,j+1,n,m)\n",
    "        \n",
    "def draw_from_beginning(matrix,n,m):\n",
    "    count=0\n",
    "    for i in range(n):\n",
    "        for j in range(m):\n",
    "            if matrix[i][j]=='B':\n",
    "                draw_b(matrix,i,j,n,m)\n",
    "                count+=1\n",
    "            \n",
    "            if matrix[i][j]=='Y':\n",
    "                draw_y(matrix,i,j,n,m)\n",
    "                count+=1\n",
    "            \n",
    "            if matrix[i][j]=='G':\n",
    "                draw_y(matrix,i,j,n,m)\n",
    "                draw_b(matrix,i,j,n,m)\n",
    "                count+=2\n",
    "    return count\n"
   ]
  },
  {
   "cell_type": "code",
   "execution_count": null,
   "metadata": {},
   "outputs": [],
   "source": [
    "##接受输入\n",
    "n,m = (int(i) for i in input().split())\n",
    "matrix=[0]*n\n",
    "for i in range(n):\n",
    "    matrix[i]=list(input()) \n",
    "\n",
    "print(draw_from_beginning(matrix,n,m))"
   ]
  },
  {
   "cell_type": "markdown",
   "metadata": {},
   "source": [
    "### 10. 美团2018.9.6笔试 最长全1串 （数组，贪心） @@"
   ]
  },
  {
   "cell_type": "markdown",
   "metadata": {},
   "source": [
    "#### 给你一个01字符串，定义答案=该串中最长的连续1的长度，现在你有至多K次机会，每次机会可以将串中的某个0改成1，现在问最大的可能答案"
   ]
  },
  {
   "cell_type": "code",
   "execution_count": null,
   "metadata": {},
   "outputs": [],
   "source": [
    "## ac只有60%，不需要找ac 100%的了，笔试时时间有限，这已经是非常好的代码了。\n",
    "\n",
    "N = 10\n",
    "K = 2\n",
    "num = [1, 0, 0, 1, 1, 1, 0, 1, 0, 1]\n",
    "\n",
    "\n",
    "def checkInterval(possible,sumvalue):\n",
    "\n",
    "    startmax = N - possible\n",
    "    for start in range(0,startmax+1):\n",
    "        #start范围是从start到startmax\n",
    "        end = start + possible\n",
    "        #start和end指分片的开始与结束\n",
    "        if sum(num[start:end]) >= sumvalue:\n",
    "            return True\n",
    "    return False\n",
    "\n",
    "\n",
    "if(1 not in num):#如果数组里没有1，那么最长也就是机会个数\n",
    "    print(K)\n",
    "elif(K>=N-1):\n",
    "    print(N)\n",
    "else:\n",
    "    #找出最长1的长度\n",
    "    maxleng = 0\n",
    "    tempmaxleng = 0\n",
    "    for i in num:\n",
    "        if(i == 1):\n",
    "            tempmaxleng += 1\n",
    "        else:\n",
    "            if(tempmaxleng>maxleng):\n",
    "                maxleng = tempmaxleng\n",
    "            tempmaxleng = 0\n",
    "    maxleng=max(maxleng,tempmaxleng)\n",
    "    #得到了最长连续1的长度\n",
    "    sumvalue = maxleng#滑动窗口求和至少为sumvalue\n",
    "    possible = sumvalue+K#滑动窗口的长度至少为possible\n",
    "\n",
    "    while(True):\n",
    "        if(not checkInterval(possible,sumvalue)):\n",
    "            break \n",
    "        sumvalue += 1\n",
    "        possible += 1\n",
    "    print(possible -1)\n"
   ]
  },
  {
   "cell_type": "code",
   "execution_count": null,
   "metadata": {},
   "outputs": [],
   "source": [
    "##自己再写一遍,ac是66.67%\n",
    "\n",
    "def Contin_one(arr):\n",
    "    max_len=0\n",
    "    tmp_len=0\n",
    "    for i in range(len(arr)):\n",
    "        if arr[i]==1:\n",
    "            tmp_len+=1\n",
    "        else:\n",
    "            max_len=max(max_len,tmp_len)\n",
    "            tmp_len=0\n",
    "    max_len=max(max_len,tmp_len)\n",
    "    return max_len\n",
    "            \n",
    "def Check_Interval(slide,sumval,arr):\n",
    "    start=0\n",
    "    end=len(arr)-slide\n",
    "    for i in range(start,end+1):\n",
    "        if sum(arr[i:i+slide])>=sumval:\n",
    "            return True\n",
    "    return False\n",
    "\n",
    "def solution(arr,k):\n",
    "    if 1 not in arr:\n",
    "        return k\n",
    "    if sum(arr)+k>=len(arr):\n",
    "        return len(arr)\n",
    "    max_1_len=Contin_one(arr)\n",
    "    slide=max_1_len+k\n",
    "    sumval=max_1_len\n",
    "    \n",
    "    while True:\n",
    "        if not Check_Interval(slide,sumval,arr):\n",
    "            break\n",
    "        slide+=1\n",
    "        sumval+=1\n",
    "    return slide-1\n",
    "\n",
    "N,K=(int(i) for i in input().split())\n",
    "arr=[int(i) for i in input().split()]\n",
    "print(solution(arr,K))\n",
    "    "
   ]
  },
  {
   "cell_type": "markdown",
   "metadata": {},
   "source": [
    "#### 用 l代表左指针, r代表右指针。当 k非 0时，我们就让右指针一直右移，遇到 1就直接右移，遇到 0时从 k中选一个来填充该位，k就变成了 k−1。当 k为 0时，右指针遇到 1 依旧右移，遇到 0 时，需要停下来，因为此时的 k不够用了，左指针要动了。左指针一定要遇到首个 0 时再停下来，此时左指针和右指针之间的数字长度就是指针 j的最长全1子串 。记录此时的结果后，我们接着右移右指针，重复上述过程即可。代码更清晰！其中最后的代码 res=max(res,j−i)包含了 k用不完的情况以及数字的最后一位是1的情况。\n"
   ]
  },
  {
   "cell_type": "code",
   "execution_count": null,
   "metadata": {},
   "outputs": [],
   "source": [
    "##ac 100%\n",
    "\n",
    "n,k = list(map(int,input().split()))\n",
    "num = list(map(int,input().split()))\n",
    "i,j =0,0\n",
    "res = 0\n",
    "while j<n:\n",
    "    if num[j]==1:\n",
    "        j += 1\n",
    "    elif k > 0:\n",
    "        k -= 1\n",
    "        j += 1\n",
    "    else:\n",
    "        res = max(res,j-i)\n",
    "        while i<j and num[i]==1:\n",
    "            i += 1\n",
    "        j += 1\n",
    "        i += 1\n",
    "res = max(res,j-i)\n",
    "print(res)"
   ]
  },
  {
   "cell_type": "code",
   "execution_count": null,
   "metadata": {},
   "outputs": [],
   "source": [
    "##思路就是先把k个机会都用掉，记录连续1串的长度。然后保持中间0的数量情况为k不变移左右两指针。\n",
    "n,k = [int(i) for i in input().split()]\n",
    "data = [int(i) for i in input().split()]\n",
    " \n",
    "def greedy_search(n,k,data):\n",
    "    #从左边起，全部填0，获取初始值\n",
    "    count = 0\n",
    "    cur = 0\n",
    "    while cur < n and count < k:\n",
    "        if data[cur] == 0:\n",
    "            count += 1\n",
    "        cur += 1\n",
    "     \n",
    "    res = cur\n",
    "    cur_val = cur\n",
    "    cur_left = 0\n",
    "     \n",
    "    while cur < n:\n",
    "        if data[cur] == 1:\n",
    "            cur_val += 1       ##每移一次记录一次当前值cur_val\n",
    "        else:\n",
    "            while data[cur_left] != 0:    ##移左指针，遇到0才停下来\n",
    "                cur_left += 1\n",
    "            cur_val = cur - cur_left      ##记录当前连续1串长度cur_val\n",
    "            cur_left += 1\n",
    "        cur += 1\n",
    "        res = max(res,cur_val)\n",
    "    return res\n",
    "print(greedy_search(n,k,data))\n"
   ]
  },
  {
   "cell_type": "markdown",
   "metadata": {},
   "source": [
    "### 11. 美团2018.9.6笔试 图的遍历 （连通图的结构，实际也可看作树，关键在于怎样存储该树的结构）@@"
   ]
  },
  {
   "cell_type": "markdown",
   "metadata": {},
   "source": [
    "#### 给定一张包含N个点、N-1条边的无向连通图，节点从1到N编号，每条边的长度均为1。假设你从1号节点出发并打算遍历所有节点，那么总路程至少是多少？"
   ]
  },
  {
   "cell_type": "markdown",
   "metadata": {},
   "source": [
    "****************"
   ]
  },
  {
   "cell_type": "markdown",
   "metadata": {},
   "source": [
    "#### 输入描述:第一行包含一个整数N，1≤N≤10^5。接下来N-1行，每行包含两个整数X和Y，表示X号节点和Y号节点之间有一条边，1≤X，Y≤N。\n",
    "#### 输出描述:输出总路程的最小值。"
   ]
  },
  {
   "cell_type": "code",
   "execution_count": null,
   "metadata": {},
   "outputs": [],
   "source": [
    "##别人的，ac 66.67%\n",
    "\n",
    "n=int(input())\n",
    "edge=[]\n",
    "for i in range(n-1):\n",
    "    edge.append([int(j) for j in input().split()])\n",
    "    \n",
    "from collections import defaultdict\n",
    "\n",
    "d =defaultdict(list)#邻接表\n",
    "for i in edge:\n",
    "    #无向图添加两条边\n",
    "    d[i[0]].append(i[1])\n",
    "    d[i[1]].append(i[0])\n",
    "#建立好了邻接表\n",
    "#深度遍历\n",
    "\n",
    "visited = [False]*(n+1)#使用索引从1开始\n",
    "\n",
    "deep = [0]*(n+1)#记录每个节点的深度\n",
    "parent = [-1]*(n+1)#记录每个节点的父节点\n",
    "\n",
    "def recursion(d,n,tempdeep):\n",
    "    tempdeep += 1\n",
    "    visited[n] = True\n",
    "    if d[n] == []:#已经为空了，就回溯\n",
    "        return \n",
    "    for i in d[n]:\n",
    "        if (visited[i] == False):\n",
    "            deep[i] = tempdeep\n",
    "            parent[i] = n\n",
    "            recursion(d,i,tempdeep)\n",
    "recursion(d,1,0)\n",
    "\n",
    "#找到最大深度的路线的长度，即路线上有多少条边\n",
    "maxdeep = max(deep)\n",
    "print( maxdeep + (n-1-maxdeep)*2 )\n"
   ]
  },
  {
   "cell_type": "code",
   "execution_count": null,
   "metadata": {},
   "outputs": [],
   "source": [
    "##ac 100%\n",
    "from collections import defaultdict, deque\n",
    "N = int(input())\n",
    "graph = defaultdict(list)\n",
    "for _ in range(N-1):\n",
    "    u, v = map(int, input().split())\n",
    "    graph[u].append(v)\n",
    "    graph[v].append(u)\n",
    "queue = deque()\n",
    "queue.append((1, 0))\n",
    "visit = set([1])\n",
    "max_depth = 0\n",
    "while queue:\n",
    "    node, depth = queue.popleft()\n",
    "    max_depth = max(depth, max_depth)\n",
    "    for child in graph[node]:\n",
    "        if child not in visit:\n",
    "            visit.add(child)\n",
    "            queue.append((child, depth+1))\n",
    "print (2*(N-1)-max_depth)"
   ]
  },
  {
   "cell_type": "code",
   "execution_count": null,
   "metadata": {},
   "outputs": [],
   "source": [
    "##another\n",
    "class Solution:\n",
    "    def dfs_max(self,s,graph,paths):\n",
    "        self.maxlen = 0\n",
    "        def dfs(s,graph,paths):\n",
    "            while len(s)>0:\n",
    "                vi,w = s.pop()\n",
    "                for vj in graph[vi]:\n",
    "                    if paths[vj] is None:\n",
    "                        paths[vj] = w+1\n",
    "                        self.maxlen = max(self.maxlen,w+1)\n",
    "                        s.append((vj,w+1))\n",
    "        dfs(s,graph,paths)\n",
    "        return self.maxlen\n",
    "if __name__ == '__main__':\n",
    "    vnum = int(input())\n",
    "    graph = [[] for i in range(vnum+1)]\n",
    "    paths = [None for i in range(vnum+1)]\n",
    "    s = [(1,0)]\n",
    "    paths[1] = 0\n",
    "    for i in range(vnum-1):\n",
    "        a,b = list(map(int,input().split(\" \")))\n",
    "        graph[a].append(b)\n",
    "        graph[b].append(a)\n",
    "    A = Solution()\n",
    "    print(2*(vnum-1)-A.dfs_max(s,graph,paths))"
   ]
  },
  {
   "cell_type": "markdown",
   "metadata": {},
   "source": [
    "### 12. 美团2018.9.6笔试 外卖满减  (动态规划，好题）"
   ]
  },
  {
   "cell_type": "markdown",
   "metadata": {},
   "source": [
    "#### 你打开了美了么外卖，选择了一家店，你手里有一张满X元减10元的券，店里总共有n种菜，第i种菜一份需要A_i元，因为你不想吃太多份同一种菜，所以每种菜你最多只能点一份，现在问你最少需要选择多少元的商品才能使用这张券。"
   ]
  },
  {
   "cell_type": "code",
   "execution_count": null,
   "metadata": {},
   "outputs": [],
   "source": [
    "##接受输入\n",
    "N,X=(int(i) for i in input().split())\n",
    "arr=[int(i) for i in input().split()]"
   ]
  },
  {
   "cell_type": "code",
   "execution_count": null,
   "metadata": {},
   "outputs": [],
   "source": [
    "def solution(arr,N,X):\n",
    "    dp=  [[0 for i in range(X+1)] for i in range(N)]\n",
    "    \n",
    "    ##设定dp的初始值\n",
    "    for i in range(1,X+1):\n",
    "        if arr[0]>=i:\n",
    "            dp[0][i]=arr[0]\n",
    "        else:\n",
    "            dp[0][i]=10001\n",
    "\n",
    "    for i in range(1,N):\n",
    "        for j in range(1,X+1):\n",
    "            if arr[i]>=j:\n",
    "                dp[i][j]=min(arr[i],dp[i-1][j])\n",
    "            else:\n",
    "                dp[i][j]=min(dp[i-1][j],dp[i-1][j-arr[i]]+arr[i])\n",
    "    return dp[N-1][X]"
   ]
  },
  {
   "cell_type": "code",
   "execution_count": null,
   "metadata": {},
   "outputs": [],
   "source": [
    "print(solution(arr,N,X))"
   ]
  },
  {
   "cell_type": "markdown",
   "metadata": {},
   "source": [
    "### 13. 美团2018.9.6笔试 种花 （贪心）（类似股票类型的题目）@@"
   ]
  },
  {
   "cell_type": "markdown",
   "metadata": {},
   "source": [
    "#### 公园里有N个花园，初始时每个花园里都没有种花，园丁将花园从1到N编号并计划在编号为i的花园里恰好种A_i朵花，他每天会选择一个区间[L，R]（1≤L≤R≤N）并在编号为L到R的花园里各种一朵花，那么园丁至少要花多少天才能完成计划？"
   ]
  },
  {
   "cell_type": "markdown",
   "metadata": {},
   "source": [
    "#### 思路：我们仔细考虑一下   ：① 3  0  7  1  4 ②  3  0  6  0  3 。结果就是3 + 6 + 3   + 2。我们可以看到 每个数就是找出右边比他小的第一个数即可，特殊情况就是最后一个数 那他的大小无关紧要 他一定是自身的大小。因为无论左边的数有比他大 比他小还是一样大 最后加的结果都是他自身。按照贪心的思想 每一步都取到最小"
   ]
  },
  {
   "cell_type": "code",
   "execution_count": null,
   "metadata": {},
   "outputs": [],
   "source": [
    "N=int(input())\n",
    "arr=[int(i) for i in input().split()]\n",
    "sum=0\n",
    "for i in range(len(arr)-1):\n",
    "    if arr[i]>arr[i+1]:\n",
    "        sum+=arr[i]-arr[i+1]\n",
    "print(sum+arr[-1])"
   ]
  },
  {
   "cell_type": "markdown",
   "metadata": {},
   "source": [
    "#### 贪心算法有一点难总结"
   ]
  },
  {
   "cell_type": "markdown",
   "metadata": {},
   "source": [
    "### 14. 美团2018.9.6笔试 考试策略 （动态规划）"
   ]
  },
  {
   "cell_type": "markdown",
   "metadata": {},
   "source": [
    "#### 小明同学在参加一场考试，考试时间2个小时。试卷上一共有n道题目，小明要在规定时间内，完成一定数量的题目。  考试中不限制试题作答顺序，对于 i 第道题目，小明有三种不同的策略可以选择:  (1)直接跳过这道题目，不花费时间，本题得0分。(2)只做一部分题目，花费pi分钟的时间，本题可以得到ai分。  (3)做完整个题目，花费qi分钟的时间，本题可以得到bi分。 小明想知道，他最多能得到多少分。"
   ]
  },
  {
   "cell_type": "code",
   "execution_count": null,
   "metadata": {},
   "outputs": [],
   "source": [
    "n=int(input())\n",
    "p,a,q,b=[],[],[],[]\n",
    "for i in range(n):\n",
    "    tmp=[int(i) for i in input().split()]\n",
    "    p.append(tmp[0])\n",
    "    a.append(tmp[1])\n",
    "    q.append(tmp[2])\n",
    "    b.append(tmp[3])\n",
    "\n",
    "dp=[[0 for i in range(121)] for j in range(n)]\n",
    "#初始化dp\n",
    "for i in range(121):\n",
    "    if i <p[0]:\n",
    "        dp[0][i]=0\n",
    "    elif i>=p[0] and i<q[0]:\n",
    "        dp[0][i]=a[0]\n",
    "    else:\n",
    "        dp[0][i]=b[0]\n",
    "        \n",
    "#状态转移\n",
    "for i in range(1,n):\n",
    "    for j in range(1,121):\n",
    "        if j<p[i]:\n",
    "            dp[i][j]=dp[i-1][j]\n",
    "        elif j>=p[i] and j<q[i]:\n",
    "            dp[i][j]=max(dp[i-1][j],dp[i-1][j-p[i]]+a[i])\n",
    "        else:\n",
    "            dp[i][j]=max(dp[i-1][j],dp[i-1][j-p[i]]+a[i],dp[i-1][j-q[i]]+b[i])\n",
    "print(dp[n-1][120])"
   ]
  },
  {
   "cell_type": "markdown",
   "metadata": {},
   "source": [
    "### 15. 美团2018.9.6笔试 路由器 （数组操作上的遍历穷组，善于用索引）@@"
   ]
  },
  {
   "cell_type": "markdown",
   "metadata": {},
   "source": [
    "#### 一条直线上等距离放置了n台路由器。路由器自左向右从1到n编号。第i台路由器到第j台路由器的距离为| i-j |。  每台路由器都有自己的信号强度，第i台路由器的信号强度为ai。所有与第i台路由器距离不超过ai的路由器可以收到第i台路由器的信号（注意，每台路由器都能收到自己的信号）。问一共有多少台路由器可以收到至少k台不同路由器的信号。"
   ]
  },
  {
   "cell_type": "markdown",
   "metadata": {},
   "source": [
    "*************"
   ]
  },
  {
   "cell_type": "markdown",
   "metadata": {},
   "source": [
    "#### 输入描述:输入第一行两个数n , k（1≤n , k≤10^5）。第二行n个数, a1 , a2 , a3……… , an（0≤ai≤10^9）\n",
    "#### 输出描述:输出一个数，一共有多少台路由器可以收到至少k台不同路由器的信号。"
   ]
  },
  {
   "cell_type": "code",
   "execution_count": null,
   "metadata": {},
   "outputs": [],
   "source": [
    "##通过率只有13.33%，运行时间过长，时间复杂度为O(n*n)\n",
    "n,k = (int(i) for i in input().split())\n",
    "arr=[int(i) for i in input().split()]\n",
    "count2=0\n",
    "for i in range(len(arr)):\n",
    "    count1=0\n",
    "    for j in range(len(arr)):\n",
    "        if abs(i-j)<=arr[i]:\n",
    "            count1+=1\n",
    "            if count1==k:\n",
    "                break\n",
    "    if count1==k:\n",
    "        count2+=1\n",
    "\n",
    "        \n",
    "print(count2)"
   ]
  },
  {
   "cell_type": "code",
   "execution_count": null,
   "metadata": {},
   "outputs": [],
   "source": [
    "#ac 100%\n",
    "n,k = (int(i) for i in input().split())\n",
    "arr=[int(i) for i in input().split()]\n",
    "b=[0]*n\n",
    "for i in range(n):\n",
    "    if i-arr[i]<0:\n",
    "        b[0]+=1\n",
    "    else:\n",
    "        b[i-arr[i]]+=1\n",
    "    if i+arr[i]<n-1:\n",
    "        b[i+arr[i]+1]-=1\n",
    "tmp=0\n",
    "num=0\n",
    "for i in b:\n",
    "    tmp+=i\n",
    "    if tmp>=k:\n",
    "        num+=1\n",
    "print(num)\n",
    "        "
   ]
  },
  {
   "cell_type": "code",
   "execution_count": null,
   "metadata": {},
   "outputs": [],
   "source": [
    "if __name__=='__main__':\n",
    "    n,k = list(map(int,input().split()))\n",
    "    num = list(map(int,input().split()))\n",
    "    res = []\n",
    "    for i in range(n):\n",
    "        l = max(0,i-num[i])\n",
    "        r = min(n,i+num[i]+1)\n",
    "        res.append((l,r))\n",
    "    dp = [0 for _ in range(n+1)]\n",
    "    for i in range(n):\n",
    "        dp[res[i][0]] += 1\n",
    "        dp[res[i][1]] -= 1\n",
    "    count = 0\n",
    "    temp = 0\n",
    "    for i in range(len(dp)):\n",
    "        temp += dp[i]\n",
    "        if temp >= k:\n",
    "            count += 1\n",
    "    print(count)"
   ]
  },
  {
   "cell_type": "markdown",
   "metadata": {},
   "source": [
    "### 类似问题：火车站台"
   ]
  },
  {
   "cell_type": "markdown",
   "metadata": {},
   "source": [
    "#### 在Z省，有若干个个城市坐落在一条直线上，从左到右依次标号1,2,3,…，其中每个城市有一个火车站点，现今已经开放了n条火车路线，第i条火车路线是从第Yi个城市到第Xi个城市，因为Z省地势奇特，标号小的城市地势较低，所以火车是从高往低开的，再通过神秘力量传送回高地，即Yi一定大于Xi，它在沿途的所有城市都会停靠（显然不包括起点Yi，但是包括终点Xi），火车停靠就需要火车站台来运营维护。火车站台随着运营线路的数量不同，其损耗速度、维护成本也各异，现在我们想知道所有站台中，所运营的线路数最大是多少。"
   ]
  },
  {
   "cell_type": "markdown",
   "metadata": {},
   "source": [
    "******************"
   ]
  },
  {
   "cell_type": "markdown",
   "metadata": {},
   "source": [
    "#### 输入描述:第一行一个数n。（1≤n≤100000）接下来n行每行两个数Xi和Yi，分别代表第i条火车路线的终点和起点。（1≤Xi<Yi≤1e5）\n",
    "#### 输出描述:共一行，一个非负整数，表示最大运营路线数。"
   ]
  },
  {
   "cell_type": "code",
   "execution_count": null,
   "metadata": {},
   "outputs": [],
   "source": [
    "n=int(input())\n",
    "route=[]\n",
    "for i in range(n):\n",
    "    route.append([int(i) for i in input().split()])\n",
    "dp=[0 for _ in range(100001)]\n",
    "for each in route:\n",
    "    dp[each[0]]+=1\n",
    "    dp[each[1]]-=1\n",
    "count=0\n",
    "max_num=0\n",
    "for i in dp:\n",
    "    count+=i\n",
    "    max_num=max(max_num,count)\n",
    "print(max_num)\n",
    "    \n",
    "    \n",
    "        \n",
    "        "
   ]
  },
  {
   "cell_type": "code",
   "execution_count": null,
   "metadata": {},
   "outputs": [],
   "source": [
    "#别人的，代码思路是一样的\n",
    "import sys\n",
    "if __name__ == '__main__':\n",
    "    n = int(input())\n",
    "    count =[0 for i in range(100001)]\n",
    "    for i in range(int(n)):\n",
    "        x,y = sys.stdin.readline().strip().split()\n",
    "        count[int(x)]+=1\n",
    "        count[int(y)]-=1\n",
    "    ans = 0\n",
    "    add = 0\n",
    "    for k in count:\n",
    "        add = add+k\n",
    "        ans = max(ans, add)\n",
    "    print(ans)\n"
   ]
  },
  {
   "cell_type": "markdown",
   "metadata": {},
   "source": [
    "### 16. 美团2018.9.6笔试 D塔2  （模拟，一点数学知识）"
   ]
  },
  {
   "cell_type": "markdown",
   "metadata": {},
   "source": [
    "#### 在D塔2这款游戏中，英雄和小兵都可以对对方的防御塔造成伤害，但是只有当对敌方防御塔最后的伤害是由英雄造成时，才会得到相应的金钱奖励。  现在小明正在玩D塔2，操作英雄带着一波兵进入了对方的塔下进行攻击。\n",
    "#### 1. 一共有n个小兵，小兵的攻击力为d，所有小兵对塔的攻击是同时进行的，小兵的攻击冷却为t0。  2. 小明的英雄有一个技能可以对塔造成伤害，伤害值为x；英雄的普通攻击也可以对塔造成的伤害，伤害值为y。小明的英雄普通攻击的冷却为t1，技能冷却为t2。  3. 小兵的攻击，小明的普通攻击和小明的技能攻击，只要冷却时间一到，就会马上攻击；小明的普通攻击和技能攻击可以同时施展；如果小兵和英雄同时攻击，小兵的伤害算在前。  已知现在对方的塔还剩下s的血量，所有小兵的第一次攻击和英雄的第一次普通攻击和技能攻击在初始时刻同时进行，问小明可以得到破坏该塔的金钱奖励么？  \n",
    "#### 注意：这里冷却是指连续两次攻击之间的等待时间，英雄的普通攻击和技能攻击的冷却两者互不干预。如果冷却是1，某次攻击发生在时间2，那么时间3才可以继续攻击。假定攻击立即生效。"
   ]
  },
  {
   "cell_type": "markdown",
   "metadata": {},
   "source": [
    "*********"
   ]
  },
  {
   "cell_type": "markdown",
   "metadata": {},
   "source": [
    "#### 输入描述:第一行一个整数T，表示测试组数，1≤T≤10；接下来一行一个整数s，表示塔的剩余血量，1≤s≤10000；接下来一行4个整数n,d,x,y，含义如题面，1≤n,d,x,y≤100；接下来一行3个整数t0,t1,t2,含义如题面，1≤t0,t1,t2≤100。\n",
    "#### 输出描述:对于每组测试数据输出”YES”表示小明的英雄可以补到，”NO”表示不能。（输出不包括引号）\n"
   ]
  },
  {
   "cell_type": "code",
   "execution_count": null,
   "metadata": {},
   "outputs": [],
   "source": [
    "n = int(input())\n",
    "for i in range(n):\n",
    "    blood = int(input())\n",
    "    soldier_n, soldier_a, hero_a_s, hero_a_c=(int(i) for i in input().split())\n",
    "    soldier_t, hero_t_c, hero_t_s = (int(i) for i in input().split())\n",
    "    time = 0\n",
    "    flag = False\n",
    "    while blood > 0:\n",
    "        if(time % soldier_t == 0):\n",
    "            blood -= soldier_a * soldier_n\n",
    "            if(blood <= 0):\n",
    "                flag = False\n",
    "                break\n",
    "               \n",
    "        if(time % hero_t_c == 0):\n",
    "            blood -= hero_a_c\n",
    "            if(blood <= 0):\n",
    "                flag = True\n",
    "                break\n",
    "               \n",
    "        if(time % hero_t_s == 0):\n",
    "            blood -= hero_a_s\n",
    "            if(blood <= 0):\n",
    "                flag = True\n",
    "                break\n",
    "       \n",
    "        time+=1\n",
    "\n",
    "    if(flag):print(\"YES\")\n",
    "    else:print(\"NO\")\n"
   ]
  },
  {
   "cell_type": "markdown",
   "metadata": {},
   "source": [
    "### 17. 网易2019 瞌睡"
   ]
  },
  {
   "cell_type": "markdown",
   "metadata": {},
   "source": [
    "#### 小易觉得高数课太无聊了，决定睡觉。不过他对课上的一些内容挺感兴趣，所以希望你在老师讲到有趣的部分的时候叫醒他一下。你知道了小易对一堂课每分钟知识点的感兴趣程度，并以分数量化，以及他在这堂课上每分钟是否会睡着，你可以叫醒他一次，这会使得他在接下来的k分钟内保持清醒。你需要选择一种方案最大化小易这堂课听到的知识点分值。"
   ]
  },
  {
   "cell_type": "markdown",
   "metadata": {},
   "source": [
    "#### 输入描述:第一行 n, k (1 <= n, k <= 105) ，表示这堂课持续多少分钟，以及叫醒小易一次使他能够保持清醒的时间。第二行 n 个数，a1, a2, ... , an(1 <= ai <= 104) 表示小易对每分钟知识点的感兴趣评分。第三行 n 个数，t1, t2, ... , tn 表示每分钟小易是否清醒, 1表示清醒。\n",
    "#### 输出描述:小易这堂课听到的知识点的最大兴趣值。"
   ]
  },
  {
   "cell_type": "code",
   "execution_count": null,
   "metadata": {},
   "outputs": [],
   "source": [
    "#ac 50%，超时，写的时候非常多错误\n",
    "n,k = (int(i) for i in input().split())\n",
    "arr_a=[int(i) for i in input().split()]\n",
    "arr_t=[int(i) for i in input().split()]\n",
    "new=[]\n",
    "for i in range(n):\n",
    "    new.append(arr_a[i]*arr_t[i])\n",
    "\n",
    "tmp=0\n",
    "maxsum=0\n",
    "for i in range(n):\n",
    "    if i+k<n:\n",
    "        tmp=sum(arr_a[i:(i+k)])+sum(new[(i+k):])+sum(new[:i])\n",
    "    else:\n",
    "        tmp=sum(arr_a[i:])+sum(new[:i])\n",
    "    maxsum=max(maxsum,tmp)\n",
    "    \n",
    "print(maxsum)\n",
    "    "
   ]
  },
  {
   "cell_type": "code",
   "execution_count": null,
   "metadata": {},
   "outputs": [],
   "source": [
    "##ac 100%，将最终结果分成两部分有自己想到，但关键是提前终止条件才能减少运行时间\n",
    "\"\"\"\n",
    "思路：从左到右遍历，比较k长度内睡着0状态对应兴趣值的和，即叫醒一下提升的兴趣值。\n",
    "    总值分为两部分：醒着的固定值 + 睡着的提升值的最大值\n",
    "\"\"\"\n",
    "n,k =list(map(int, input().split()))\n",
    "values =list(map(int, input().split()))\n",
    "awakes =list(map(int, input().split()))\n",
    "#n,k = [6,3]\n",
    "#values = [1, 3, 5, 2, 5, 4]\n",
    "#awakes = [1, 1, 0, 1, 0, 0]\n",
    "  \n",
    "base_score =0\n",
    "for i in range(n):\n",
    "    if awakes[i]:\n",
    "        base_score += values[i]\n",
    "        values[i] =0\n",
    "          \n",
    "max_boost_score =0\n",
    "for i in range(n):\n",
    "    if not awakes[i]:\n",
    "        boost_score =sum(values[i:min(i+k,n)])\n",
    "        max_boost_score =max(boost_score,max_boost_score)\n",
    "        # 加了下面的break语句，才使这个代码时间上终于达标\n",
    "        # 扫描到距结尾不足k距离范围内的第一个睡着状态即可，后面的肯定不如这个的提升值大，没必要再跑，可提前结束\n",
    "        if i > n-k+1:\n",
    "            break\n",
    "print(base_score +max_boost_score)"
   ]
  },
  {
   "cell_type": "markdown",
   "metadata": {},
   "source": [
    "### 18. 网易2019 丰收 （主要在于合理设置新数组，用最少的循环操作找到解）"
   ]
  },
  {
   "cell_type": "markdown",
   "metadata": {},
   "source": [
    "#### 又到了丰收的季节，恰逢小易去牛牛的果园里游玩。牛牛常说他对整个果园的每个地方都了如指掌，小易不太相信，所以他想考考牛牛。在果园里有N堆苹果，每堆苹果的数量为ai，小易希望知道从左往右数第x个苹果是属于哪一堆的。牛牛觉得这个问题太简单，所以希望你来替他回答。"
   ]
  },
  {
   "cell_type": "markdown",
   "metadata": {},
   "source": [
    "#### 输入描述:第一行一个数n(1 <= n <= 105)。第二行n个数ai(1 <= ai <= 1000)，表示从左往右数第i堆有多少苹果第三行一个数m(1 <= m <= 105)，表示有m次询问。第四行m个数qi，表示小易希望知道第qi个苹果属于哪一堆。\n",
    "#### 输出描述:m行，第i行输出第qi个苹果属于哪一堆。"
   ]
  },
  {
   "cell_type": "code",
   "execution_count": null,
   "metadata": {},
   "outputs": [],
   "source": [
    "##我最初做的，ac只有30%\n",
    "n=int(input())\n",
    "arr=[int(i) for i in input().split()]\n",
    "m=int(input())\n",
    "query=[int(i) for i in input().split()]\n",
    "cum_sum=[]\n",
    "tmp=0\n",
    "for i in range(len(arr)):\n",
    "    tmp+=arr[i]\n",
    "    cum_sum.append(tmp)\n",
    "\n",
    "for i in range(m):\n",
    "    k=0\n",
    "    while query[i]>cum_sum[k]:\n",
    "        k+=1\n",
    "    print(k+1)\n"
   ]
  },
  {
   "cell_type": "code",
   "execution_count": null,
   "metadata": {},
   "outputs": [],
   "source": [
    "##ac 还是只有30%\n",
    "\n",
    "n=int(input())\n",
    "arr=[int(i) for i in input().split()]\n",
    "m=int(input())\n",
    "query=[int(i) for i in input().split()]\n",
    "\n",
    "##先用一个数组\n",
    "\n",
    "##记苹果总数\n",
    "count=0\n",
    "for i in arr:\n",
    "    count+=i\n",
    "tmp=[0]*(count+1)\n",
    "end=0\n",
    "start=1\n",
    "for i in range(n):\n",
    "    end+=arr[i]\n",
    "    for j in range(start,end+1):  ##这里很巧妙\n",
    "        tmp[j]=i\n",
    "    start+=arr[i]\n",
    "    \n",
    "for i in query:\n",
    "    print(tmp[i]+1)\n",
    "    "
   ]
  },
  {
   "cell_type": "code",
   "execution_count": null,
   "metadata": {},
   "outputs": [],
   "source": [
    "##ac 100%\n",
    "\n",
    "##该题的思路是 苹果的堆可以转换成一个累计堆，那么这就是一个排序数组，可以用变异的二分法。\n",
    "\n",
    "n=int(input())\n",
    "num=list(map(int,input().strip().split()))\n",
    "m=int(input())\n",
    "weight=list(map(int,input().strip().split()))\n",
    "for i in range(1,n):\n",
    "    num[i]+=num[i-1]\n",
    "for w in weight:\n",
    "    l, r=0,n-1\n",
    "    while l<r:\n",
    "        mid=(l+r)>>1\n",
    "        if num[mid]<w:\n",
    "            l=mid+1\n",
    "        else:\n",
    "            r=mid\n",
    "    print(r+1)"
   ]
  },
  {
   "cell_type": "code",
   "execution_count": null,
   "metadata": {},
   "outputs": [],
   "source": [
    "##自己写一遍，变异二分法，ac 100%\n",
    "\n",
    "n=int(input())\n",
    "arr=[int(i) for i in input().split()]\n",
    "arr_new=[0 for i in range(n)]; arr_new[0]=arr[0]\n",
    "for i in range(1,n):\n",
    "    arr_new[i]=arr_new[i-1]+arr[i]\n",
    "m=int(input())\n",
    "query=[int(i) for i in input().split()]\n",
    "\n",
    "\n",
    "for i in query:\n",
    "    l,r=0,n-1\n",
    "    while(l<r):\n",
    "        middle=(l+r)>>1\n",
    "        if i>arr_new[middle]:      ##很有必要回头再多看几遍\n",
    "            l=middle+1\n",
    "        else:\n",
    "            r=middle\n",
    "    print(r+1)  ##最终打印结果加一是因为 下标总是从0开始的缘故\n"
   ]
  },
  {
   "cell_type": "markdown",
   "metadata": {},
   "source": [
    "### 19. 网易2019 表达式求值  （很简单的一题）"
   ]
  },
  {
   "cell_type": "markdown",
   "metadata": {},
   "source": [
    "#### 小易希望你帮他计算给定3个数a，b，c，在它们中间添加\"+\"， \"*\"， \"(\"， \")\"符号，能够获得的最大值。"
   ]
  },
  {
   "cell_type": "code",
   "execution_count": null,
   "metadata": {},
   "outputs": [],
   "source": [
    "a,b,c=(int(i) for i in input().split())\n",
    "def two_num(m,n):\n",
    "    if m==1 or n==1:\n",
    "        return m+n\n",
    "    else:\n",
    "        return m*n\n",
    "first_before=two_num(a,b)\n",
    "result1=two_num(first_before,c)\n",
    "later_before=two_num(b,c)\n",
    "result2=two_num(a,later_before)\n",
    "if result1>=result2:\n",
    "    print(result1)\n",
    "else:\n",
    "    print(result2)"
   ]
  },
  {
   "cell_type": "markdown",
   "metadata": {},
   "source": [
    "### 20. 网易编程题2109 塔"
   ]
  },
  {
   "cell_type": "markdown",
   "metadata": {},
   "source": [
    "#### 小易有一些立方体，每个立方体的边长为1，他用这些立方体搭了一些塔。现在小易定义：这些塔的不稳定值为它们之中最高的塔与最低的塔的高度差。小易想让这些塔尽量稳定，所以他进行了如下操作：每次从某座塔上取下一块立方体，并把它放到另一座塔上。注意，小易不会把立方体放到它原本的那座塔上，因为他认为这样毫无意义。现在小易想要知道，他进行了不超过k次操作之后，不稳定值最小是多少。"
   ]
  },
  {
   "cell_type": "code",
   "execution_count": null,
   "metadata": {},
   "outputs": [],
   "source": [
    "#mine，ac 100%\n",
    "n,k = (int(i) for i in input().split())\n",
    "height = [int(i) for i in input().split()]\n",
    "count=0\n",
    "record_h=[]\n",
    "record_l=[]\n",
    "while count<k:\n",
    "    max_index=height.index(max(height))\n",
    "    min_index=height.index(min(height))\n",
    "    record_h.append(max_index+1)\n",
    "    record_l.append(min_index+1)\n",
    "    height[max_index]-=1\n",
    "    height[min_index]+=1\n",
    "    count+=1\n",
    "    now=max(height)-min(height)\n",
    "    if now==0 or now==1:\n",
    "        break\n",
    "now=max(height)-min(height)    ##不加这条ac就是80%，不知道为什么\n",
    "print(now,count)  \n",
    "for i in range(count):\n",
    "    print(record_h[i],record_l[i])\n",
    "    \n",
    "    "
   ]
  },
  {
   "cell_type": "code",
   "execution_count": null,
   "metadata": {},
   "outputs": [],
   "source": [
    "#ac 100%\n",
    "\n",
    "# 为后面排序定义一个方法\n",
    "def by_value(t):\n",
    "    return t[1]\n",
    "  \n",
    "# 读入数据\n",
    "n,k = list(map(int, input().split()))\n",
    "A = list(map(int, input().split())) \n",
    "#eg：\n",
    "#n,k = [3,2]\n",
    "#A = [5,8,5]\n",
    "  \n",
    "# A_ = [[1, 5], [2, 8], [3, 5]] 其中每个元素表示：[第i堆，对应塔数]\n",
    "A_ = [list(i) for i in zip (range(1,len(A)+1),A)]\n",
    "  \n",
    "# 先对A_从大到小排一次序\n",
    "sorted_A =sorted(A_, key = by_value, reverse = True)\n",
    "count = 0\n",
    "move_record = [] # 缓存搬移的记录\n",
    "  \n",
    "while sorted_A[0][1]-1 >= sorted_A[-1][1]+1 and count+1 <= k:\n",
    "    max_index = sorted_A[0][0]\n",
    "    min_index = sorted_A[-1][0]\n",
    "    sorted_A[0][1] -=1    # 从最多堆搬走一个\n",
    "    sorted_A[-1][1] +=1  # 往最少堆搬来一个\n",
    "    count +=1\n",
    "    move_record.append([max_index, min_index])\n",
    "    sorted_A = sorted(sorted_A, key = by_value, reverse = True)\n",
    "      \n",
    "s = sorted_A[0][1]-sorted_A[-1][1]     # s:最小的不稳定值，即最小的差\n",
    "print('{} {}'.format(s,count))\n",
    "for i in move_record:\n",
    "    print('{} {}'.format(i[0],i[1]))"
   ]
  },
  {
   "cell_type": "markdown",
   "metadata": {},
   "source": [
    "### 21. 网易编程题2019 整理房间   （模拟+数学）"
   ]
  },
  {
   "cell_type": "markdown",
   "metadata": {},
   "source": [
    "#### 又到了周末，小易的房间乱得一团糟。他希望将地上的杂物稍微整理下，使每团杂物看起来都紧凑一些，没有那么乱。地上一共有n团杂物，每团杂物都包含4个物品。第i物品的坐标用(ai,bi)表示，小易每次都可以将它绕着(xi,yi)逆时针旋转90度，这将消耗他的一次移动次数。如果一团杂物的4个点构成了一个面积不为0的正方形，我们说它是紧凑的。因为小易很懒，所以他希望你帮助他计算一下每团杂物最少需要多少步移动能使它变得紧凑。"
   ]
  },
  {
   "cell_type": "markdown",
   "metadata": {},
   "source": [
    "#### 输入描述:第一行一个数n(1 <= n <= 100)，表示杂物的团数。接下来4n行，每4行表示一团杂物，每行4个数ai, bi，xi, yi, (-104 <= xi, yi, ai, bi <= 104)，表示第i个物品旋转的它本身的坐标和中心点坐标。\n",
    "#### 输出描述:n行，每行1个数，表示最少移动次数。"
   ]
  },
  {
   "cell_type": "code",
   "execution_count": null,
   "metadata": {},
   "outputs": [],
   "source": [
    "def change(i, x, y):  ##这个函数重要\n",
    "    return[x +y -i[1], y -x +i[0]]\n",
    "def dis(a, b):\n",
    "    return(a[0] -b[0])**2+(a[1] -b[1])**2\n",
    "def square(a, b, c, d):  ##这个函数重要\n",
    "    q =[dis(a, b), dis(a, c), dis(a, d), dis(b, c), dis(b, d), dis(c, d)]\n",
    "    q.sort()\n",
    "    if q[0]!=0 and q[0] ==q[1] and q[1] ==q[2] and q[2] ==q[3] and q[4] ==q[5] and q[4] ==2*q[3]:\n",
    "        return True\n",
    "    return False\n",
    "  \n",
    "n =int(input().strip())\n",
    "for w in range(n):\n",
    "    best =100\n",
    "    p =[]\n",
    "    for i in range(4):\n",
    "        a, b, x, y =map(int, input().strip().split())\n",
    "        temp1 =[[a, b]]\n",
    "        for j in range(3):\n",
    "            temp1.append(change(temp1[-1], x, y))\n",
    "        p.append(temp1)\n",
    "      \n",
    "    for i in range(4):\n",
    "        for j in range(4):\n",
    "            for k in range(4):\n",
    "                for l in range(4):\n",
    "                    if square(p[0][i], p[1][j], p[2][k], p[3][l]):\n",
    "                        best =min(best, i +j +k +l)\n",
    "    if best ==100:\n",
    "        best =-1\n",
    "    print(best)"
   ]
  },
  {
   "cell_type": "code",
   "execution_count": null,
   "metadata": {},
   "outputs": [],
   "source": [
    "#测试用例：\n",
    "4\n",
    "1 1 0 0\n",
    "-1 1 0 0\n",
    "-1 1 0 0\n",
    "1 -1 0 0\n",
    "1 1 0 0\n",
    "-2 1 0 0\n",
    "-1 1 0 0\n",
    "1 -1 0 0\n",
    "1 1 0 0\n",
    "-1 1 0 0\n",
    "-1 1 0 0\n",
    "-1 1 0 0\n",
    "2 2 0 1\n",
    "-1 0 0 -2\n",
    "3 0 0 -2\n",
    "-1 1 -2 0\n"
   ]
  },
  {
   "cell_type": "markdown",
   "metadata": {},
   "source": [
    "### 22. 网易编程题2019 小易的字典  @@"
   ]
  },
  {
   "cell_type": "markdown",
   "metadata": {},
   "source": [
    "#### 小易在学校中学习了关于字符串的理论, 于是他基于此完成了一个字典的项目。小易的这个字典很奇特, 字典内的每个单词都包含n个'a'和m个'z', 并且所有单词按照字典序排列。小易现在希望你能帮他找出第k个单词是什么。"
   ]
  },
  {
   "cell_type": "code",
   "execution_count": null,
   "metadata": {},
   "outputs": [],
   "source": [
    "def Cnm(a, b):\n",
    "    ans =1\n",
    "    for i in range(a+1, a + b +1):\n",
    "        ans *=i\n",
    "    for i in range(1, b +1):\n",
    "        ans //=i\n",
    "    return ans\n",
    " \n",
    "n, m, k =map(int, input().strip().split())\n",
    "if Cnm(n, m) < k:\n",
    "    print(-1)\n",
    "else:\n",
    "    ans =\"\"\n",
    "    while n > 0 and m > 0:\n",
    "        temp =Cnm(n -1, m)\n",
    "        if temp <k:\n",
    "            k-=temp\n",
    "            ans +=\"z\"\n",
    "            m -=1\n",
    "        else:\n",
    "            ans +=\"a\"\n",
    "            n -=1\n",
    "    ans +=\"a\"*n\n",
    "    ans +=\"z\"*m\n",
    "    print(ans)"
   ]
  },
  {
   "cell_type": "markdown",
   "metadata": {},
   "source": [
    "### 23. 美团2017秋招 拼凑钱币 (动态规划)"
   ]
  },
  {
   "cell_type": "markdown",
   "metadata": {},
   "source": [
    "#### 给你六种面额 1、5、10、20、50、100 元的纸币，假设每种币值的数量都足够多，编写程序求组成N元（N为0~10000的非负整数）的不同组合的个数。"
   ]
  },
  {
   "cell_type": "code",
   "execution_count": null,
   "metadata": {},
   "outputs": [],
   "source": [
    "#ac 30%，有不必要的计算\n",
    "n = int(input())\n",
    "coins=[1,5,10,20,50,100]\n",
    "dp=[[0 for i in range(n+1)] for j in range(6)]\n",
    "for i in range(n+1):\n",
    "    dp[0][i]=1\n",
    "for i in range(6):\n",
    "    dp[i][0]=1\n",
    "for i in range(1,6):\n",
    "    for j in range(1,n+1):\n",
    "        tmp=j//coins[i]\n",
    "        for num in range(tmp+1):\n",
    "            dp[i][j]+=dp[i-1][j-num*coins[i]]\n",
    "print(dp[5][n])\n",
    "            "
   ]
  },
  {
   "cell_type": "code",
   "execution_count": null,
   "metadata": {},
   "outputs": [],
   "source": [
    "## ac 100%，要细看！！！！！节省不必要的空间。\n",
    "n=int(input())\n",
    "coins=[1,5,10,20,50,100]\n",
    "dp=[[0 for i in range(n+1)] for j in range(6)]\n",
    "for i in range(n+1):\n",
    "    dp[0][i]=1\n",
    "for i in range(6):\n",
    "    dp[i][0]=1\n",
    "for i in range(1,6):\n",
    "    for j in range (1,n+1):\n",
    "        if j>=coins[i]:\n",
    "            \"\"\"这里是指在使用前i种钱币时，只有j>=第i种钱币时，\n",
    "            使用前i种钱币找j元钱的方法methods[i][j]才会改变,\n",
    "            否则和使用前i-1种钱币组成j元钱的方法相同\"\"\"\n",
    "            dp[i][j]=dp[i-1][j]+dp[i][j-coins[i]]\n",
    "        else:\n",
    "            dp[i][j]=dp[i-1][j]        \n",
    "print(dp[5][n])\n"
   ]
  },
  {
   "cell_type": "markdown",
   "metadata": {},
   "source": [
    "### 24. 美团2017秋招 最大矩形面积  (栈） 不太懂，多看几遍多想几遍"
   ]
  },
  {
   "cell_type": "markdown",
   "metadata": {},
   "source": [
    "#### 给定一组非负整数组成的数组h，代表一组柱状图的高度，其中每个柱子的宽度都为1。 在这组柱状图中找到能组成的最大矩形的面积（如图所示）。 入参h为一个整型数组，代表每个柱子的高度，返回面积的值。"
   ]
  },
  {
   "cell_type": "code",
   "execution_count": null,
   "metadata": {},
   "outputs": [],
   "source": [
    "n=int(input())\n",
    "arr=[int(i) for i in input().split()]\n",
    "def LargestArea(histogram):\n",
    "    histogram.append(-1)   ##关键\n",
    "    index=0\n",
    "    stack=[]\n",
    "    max_area=0\n",
    "    \n",
    "    while (index<len(histogram)):\n",
    "        if (len(stack)==0 or histogram[stack[-1]]<=histogram[index]):\n",
    "            ##stack为空或者stack的最近值比当前遍历值小\n",
    "            stack.append(index)\n",
    "            index+=1\n",
    "        else:\n",
    "            top=stack.pop()\n",
    "            area=0\n",
    "            if (len(stack)==0):\n",
    "                area=histogram[top]*index\n",
    "            else:\n",
    "                area=histogram[top]*(index-stack[-1]-1)\n",
    "            if (area>max_area):\n",
    "                max_area=area\n",
    "    return max_area   \n",
    "LargestArea(arr)"
   ]
  },
  {
   "cell_type": "markdown",
   "metadata": {},
   "source": [
    "### 25. 美团2017秋招 最长公共连续子串"
   ]
  },
  {
   "cell_type": "markdown",
   "metadata": {},
   "source": [
    "#### 给出两个字符串（可能包含空格）,找出其中最长的公共连续子串,输出其长度。"
   ]
  },
  {
   "cell_type": "markdown",
   "metadata": {},
   "source": [
    "#### 思路：我们还是像之前一样 “从后向前” 考虑是否能分解这个问题，类似最长公共子序列的分析，这里，我们使用c[i,j] 表示 以 Xi 和 Yj 结尾的最长公共子串的长度，因为要求子串连续，所以对于 Xi 与 Yj 来讲，它们要么与之前的公共子串构成新的公共子串；要么就是不构成公共子串。"
   ]
  },
  {
   "cell_type": "code",
   "execution_count": null,
   "metadata": {},
   "outputs": [],
   "source": [
    "a=input()\n",
    "len_a=len(a)\n",
    "b=input()\n",
    "len_b=len(b)\n",
    "\n",
    "dp=[[0 for i in range(len_b)] for j in range(len_a)]\n",
    "if a[0]==b[0]:\n",
    "    for i in range(len_b):\n",
    "        dp[0][i]=1\n",
    "    for i in range(len_a):\n",
    "        dp[i][0]=1\n",
    "else:\n",
    "    if a[0] in b:\n",
    "        first = b.index(a[0])\n",
    "        for i in range(first):\n",
    "            dp[0][i]=0\n",
    "        for i in range(first,len_b):\n",
    "            dp[0][i]=1\n",
    "    if a[0] not in b:\n",
    "        for i in range(len_b):\n",
    "            dp[0][i]=0\n",
    "    if b[0] in a:\n",
    "        first = a.index(b[0])\n",
    "        for i in range(first):\n",
    "            dp[i][0]=0\n",
    "        for i in range(first,len_a):\n",
    "            dp[i][0]=1\n",
    "    if b[0] not in a:\n",
    "        for i in range(len_a):\n",
    "            dp[i][0]=0\n",
    "            \n",
    "for i in range(1,len_a):\n",
    "    for j in range(1,len_b):\n",
    "        if a[i]==b[j]:\n",
    "            dp[i][j]=dp[i-1][j-1]+1\n",
    "        else:\n",
    "            dp[i][j]=0\n",
    "print(max([j for i in dp for j in i]))   #取中间曾经出现过的最大数或在每一步更新这个数"
   ]
  },
  {
   "cell_type": "code",
   "execution_count": null,
   "metadata": {},
   "outputs": [],
   "source": [
    "##一开始做错了，做成最长公共子序列了\n",
    "a=input()\n",
    "len_a=len(a)\n",
    "b=input()\n",
    "len_b=len(b)\n",
    "\n",
    "dp=[[0 for i in range(len_b)] for j in range(len_a)]\n",
    "if a[0]==b[0]:\n",
    "    for i in range(len_b):\n",
    "        dp[0][i]=1\n",
    "    for i in range(len_a):\n",
    "        dp[i][0]=1\n",
    "else:\n",
    "    if a[0] in b:\n",
    "        first = b.index(a[0])\n",
    "        for i in range(first):\n",
    "            dp[0][i]=0\n",
    "        for i in range(first,len_b):\n",
    "            dp[0][i]=1\n",
    "    if a[0] not in b:\n",
    "        for i in range(len_b):\n",
    "            dp[0][i]=0\n",
    "    if b[0] in a:\n",
    "        first = a.index(b[0])\n",
    "        for i in range(first):\n",
    "            dp[i][0]=0\n",
    "        for i in range(first,len_a):\n",
    "            dp[i][0]=1\n",
    "    if b[0] not in a:\n",
    "        for i in range(len_a):\n",
    "            dp[i][0]=0\n",
    "            \n",
    "for i in range(1,len_a):\n",
    "    for j in range(1,len_b):\n",
    "        if a[i]==b[j]:\n",
    "            dp[i][j]=dp[i-1][j-1]+1\n",
    "        else:\n",
    "            dp[i][j]=max(dp[i-1][j],dp[i][j-1])\n",
    "print(dp[len_a-1][len_b-1])"
   ]
  },
  {
   "cell_type": "markdown",
   "metadata": {},
   "source": [
    "### 26. 滴滴2017秋招 餐馆 （排序/贪心） @@"
   ]
  },
  {
   "cell_type": "markdown",
   "metadata": {},
   "source": [
    "#### 某餐馆有n张桌子，每张桌子有一个参数：a 可容纳的最大人数； 有m批客人，每批客人有两个参数:b人数，c预计消费金额。 在不允许拼桌的情况下，请实现一个算法选择其中一部分客人，使得总预计消费金额最大"
   ]
  },
  {
   "cell_type": "markdown",
   "metadata": {},
   "source": [
    "#### 输入描述:输入包括m+2行。 第一行两个整数n(1 <= n <= 50000),m(1 <= m <= 50000) 第二行为n个参数a,即每个桌子可容纳的最大人数,以空格分隔,范围均在32位int范围内。 接下来m行，每行两个参数b,c。分别表示第i批客人的人数和预计消费金额,以空格分隔,范围均在32位int范围内。\n",
    "#### 输出描述:输出一个整数,表示最大的总预计消费金额"
   ]
  },
  {
   "cell_type": "code",
   "execution_count": null,
   "metadata": {},
   "outputs": [],
   "source": [
    "#ac 70%\n",
    "#这题时间复杂度比较紧\n",
    "n,m = (int(i) for i in input().split())\n",
    "hold_people= [int(i) for i in input().split()]\n",
    "hold_people.sort()\n",
    "customer=[]\n",
    "for k in range(m):\n",
    "    customer.append([int(i) for i in input().split()])\n",
    "customer=sorted(customer,key=lambda x:x[0])\n",
    "store=[]\n",
    "j=0\n",
    "money=0\n",
    "for i in range(n):\n",
    "    while j<m:\n",
    "        if hold_people[i]>=customer[j][0]:\n",
    "            store.append(customer[j])\n",
    "            j+=1\n",
    "        else:break\n",
    "    if store:\n",
    "        store=sorted(store,key=lambda x:x[1])\n",
    "        money+=store.pop()[1]\n",
    "print(money)\n"
   ]
  },
  {
   "cell_type": "code",
   "execution_count": null,
   "metadata": {},
   "outputs": [],
   "source": []
  },
  {
   "cell_type": "code",
   "execution_count": null,
   "metadata": {},
   "outputs": [],
   "source": []
  },
  {
   "cell_type": "code",
   "execution_count": null,
   "metadata": {},
   "outputs": [],
   "source": []
  },
  {
   "cell_type": "code",
   "execution_count": null,
   "metadata": {},
   "outputs": [],
   "source": []
  },
  {
   "cell_type": "code",
   "execution_count": null,
   "metadata": {},
   "outputs": [],
   "source": []
  },
  {
   "cell_type": "markdown",
   "metadata": {},
   "source": [
    "### 27. 滴滴2017秋招 地下迷宫 （查找/递归/回朔）@@"
   ]
  },
  {
   "cell_type": "markdown",
   "metadata": {},
   "source": [
    "##### 小青蛙有一天不小心落入了一个地下迷宫,小青蛙希望用自己仅剩的体力值P跳出这个地下迷宫。为了让问题简单,假设这是一个n*m的格子迷宫。\n",
    "##### 迷宫每个位置为0或者1,0代表这个位置有障碍物,小青蛙达到不了这个位置;1代表小青蛙可以达到的位置。小青蛙初始在(0,0)位置,地下迷宫的出口在(0,m-1)(保证这两个位置都是1,并且保证一定有起点到终点可达的路径)。\n",
    "##### 小青蛙在迷宫中水平移动一个单位距离需要消耗1点体力值,向上爬一个单位距离需要消耗3个单位的体力值,向下移动不消耗体力值,当小青蛙的体力值等于0的时候还没有到达出口,小青蛙将无法逃离迷宫。现在需要你帮助小青蛙计算出能否用仅剩的体力值跳出迷宫(即达到(0,m-1)位置)。"
   ]
  },
  {
   "cell_type": "markdown",
   "metadata": {},
   "source": [
    "***************"
   ]
  },
  {
   "cell_type": "markdown",
   "metadata": {},
   "source": [
    "#### 输入描述:输入包括n+1行:第一行为三个整数n,m(3 <= m,n <= 10),P(1 <= P <= 100)。接下来的n行:每行m个0或者1,以空格分隔\n",
    "#### 输出描述:如果能逃离迷宫,则输出一行体力消耗最小的路径,输出格式见样例所示;如果不能逃离迷宫,则输出\"Can not escape!\"。 测试数据保证答案唯一"
   ]
  },
  {
   "cell_type": "code",
   "execution_count": null,
   "metadata": {},
   "outputs": [],
   "source": [
    "\"\"\"\n",
    "基本思想：典型的迷宫问题，DFS穷举所有路径，找出剩余体力最多的路径\n",
    "\"\"\"\n",
    " \n",
    "m, n, P = (int(i) for i in input().split())\n",
    "int maze[10][10];   // 迷宫地图\n",
    "int dir[4][2] = {{0, -1}, {0, 1}, {-1, 0}, {1, 0}};     // 左，右，上，下移动，例如：{0, -1}代表向左移动一步\n",
    "int cost[4] = {-1, -1, -3, 0};    // 左，右，上，下移动的体力消耗，例如：{0， -1}对应-1\n",
    "int final_P = -200;    // 剩余的体力值，初始为较小的数，保证final_P被正确更新\n",
    " \n",
    "// 存储各点的数据结构\n",
    "struct mazePoint {\n",
    "    mazePoint(int _x, int _y): x(_x), y(_y) {}\n",
    "    int x, y;\n",
    "};\n",
    "// 存储每次遍历到的路径\n",
    "vector<mazePoint> pathStack;\n",
    "// 存储最终的最优路径\n",
    "vector<mazePoint> minCostPath;\n",
    " \n",
    "// 函数：打印路径\n",
    "void printPath(const vector<mazePoint>& path) {\n",
    "    for (int i = 0; i < path.size(); ++i) {\n",
    "        cout << \"[\" << path[i].x << \",\" << path[i].y << \"]\";\n",
    "        if (i < path.size() - 1) {\n",
    "            cout << \",\";\n",
    "        }\n",
    "    }\n",
    "}\n",
    "\n",
    "def search()\n",
    "\n",
    "\n",
    "\n",
    "\n",
    "\n",
    "\n",
    "    \n",
    "// 函数：寻找最优路径\n",
    "void search(int x, int y, int cur_P) {\n",
    "    // 将当前点加入路径并标记为VISITED\n",
    "    pathStack.push_back(mazePoint(x, y));\n",
    "    maze[x][y] = VISITED;\n",
    "     \n",
    "    // 如果当前点为出口且当前体力值>=0，则更新final_P与minCostPath，并返回\n",
    "    if (x == 0 && y == m-1 && cur_P >= 0) {\n",
    "        if (cur_P > final_P) {\n",
    "            final_P = cur_P;\n",
    "            minCostPath = pathStack;\n",
    "        }\n",
    "        pathStack.pop_back();   // 为了回退至之前的节点，将当前结点弹出\n",
    "        maze[x][y] = 1;    // 注意：之前maze[x][y]被标记为VISITED（值为2），回退后应该将其还原为1\n",
    "        return;\n",
    "    }\n",
    "     \n",
    "    // 如果当前点并非出口且当前体力值>=0，则分别向左右上下四个方向探索，并计算相应的消耗\n",
    "    // 如果新的点再边界内且为可达点，递归调用search函数\n",
    "    if (cur_P > 0) {\n",
    "        for (int i = 0; i < 4; ++i) {\n",
    "            int nx = x + dir[i][0];\n",
    "            int ny = y + dir[i][1];\n",
    "            int nP = cur_P + cost[i];\n",
    "            if (nx >= 0 && nx < n && ny >= 0 && ny < m && maze[nx][ny] == 1)\n",
    "                search(nx, ny, nP);\n",
    "        }\n",
    "    }\n",
    "     \n",
    "    pathStack.pop_back();    // 为了回退至之前的节点，将当前结点弹出\n",
    "    maze[x][y] = 1;    // 注意：之前maze[x][y]被标记为VISITED（值为2），回退后应该将其还原为1\n",
    "}\n",
    " \n",
    "// 主函数\n",
    "int main() {\n",
    "    cin >> n >> m >> P;\n",
    "    for (int i = 0; i < n; ++i)\n",
    "        for (int j = 0; j < m; ++j)\n",
    "            cin >> maze[i][j];\n",
    "     \n",
    "    search(0, 0, P);\n",
    "     \n",
    "    if (final_P != -200)    // 如果final_P更新过，输出最优路径\n",
    "        printPath(minCostPath);\n",
    "    else    // 如果final_P为初始值-200，代表其没有被更新过，也就意味着没有可行路径\n",
    "        cout << \"Can not escape!\";\n",
    "     \n",
    "    return 0;\n",
    "}\n"
   ]
  },
  {
   "cell_type": "code",
   "execution_count": null,
   "metadata": {},
   "outputs": [],
   "source": [
    "##思路：这道题感觉因为每一步体力根据方向损失固定，所以到某个点，使用步数最少一定损失体力最少，\n",
    "##多的步都是浪费体力，所以可以从起点开始广搜，一直最先搜到终点的路径是最剩体力的，如果体力还小于0，就不能到。\n",
    "\n",
    "n, m, p = [int(x) for x in input().split()]\n",
    "mat0 = []\n",
    "for _ in range(n):\n",
    "    mat0.append([int(x) for x in input().split()])\n",
    "mat1 = [[None for j in range(m)] for i in range(n)]\n",
    "mat1[0][0] = [0, 0, p]  # mat1保存到达[x, y]的前一个点和到达[x, y]剩余的p\n",
    "route = [[0, 0]]\n",
    "steps = [[1, 0], [-1, 0], [0, 1], [0, -1]]\n",
    "flag = True     #其实遍历到0，m-1点就可以停止了\n",
    "while route and flag:\n",
    "    x0, y0 = route.pop(0)\n",
    "    for step in steps:\n",
    "        x1, y1 = x0 + step[0], y0 + step[1]\n",
    "        if 0 <= x1 < n and 0 <= y1 < m and mat0[x1][y1] and mat1[x1][y1] is None:\n",
    "            if step[0] == -1:\n",
    "                new_p = mat1[x0][y0][2] - 3\n",
    "            elif step[0] == 0:\n",
    "                new_p = mat1[x0][y0][2] - 1\n",
    "            else:\n",
    "                new_p = mat1[x0][y0][2]\n",
    "            mat1[x1][y1] = [x0, y0, new_p]\n",
    "            route.append([x1, y1])\n",
    "            if x1==0 and y1==m-1:\n",
    "                flag = False\n",
    "                break\n",
    "if mat1[0][m-1][2] < 0:\n",
    "    print('Can not escape!')\n",
    "else:\n",
    "    res = []\n",
    "    x, y = 0, m-1\n",
    "    while [x, y] != [0, 0]:\n",
    "        res.append([x, y])\n",
    "        x, y = mat1[x][y][0], mat1[x][y][1]\n",
    "    res.append([0, 0])\n",
    "    print(','.join(['[{},{}]'.format(x[0], x[1]) for x in res[::-1]]))"
   ]
  },
  {
   "cell_type": "code",
   "execution_count": null,
   "metadata": {},
   "outputs": [],
   "source": [
    "\n",
    "\n",
    "def isValid(matrix,n,m,p,x,y,visited):\n",
    "    isvisit=(x*m+y in visited) #是否访问\n",
    "    isvalid=(0<=x<n and 0<=y<m) and matrix[x][y]==1#是否通路\n",
    "    hasp=(p>=0)#是否有剩余能量值\n",
    "    return not isvisit and isvalid and hasp #是否可走\n",
    " \n",
    "def getPath(matrix, n, m, p, x, y, visited, path):\n",
    "    if (x, y) == (0, m - 1):\n",
    "        return True\n",
    "    else:\n",
    "        nextpos=[(x,y+1,p-1),(x-1,y,p-3),(x,y-1,p-1),(x+1,y,p)]\n",
    "        #向右，向上，向左，向下 (贪心思想，尽可能以最小的消耗靠近终点--右上角\n",
    "        for nextx,nexty,nextp in nextpos:\n",
    "            if isValid(matrix,n,m,nextp,nextx,nexty,visited):\n",
    "                path.append([nextx,nexty])\n",
    "                visited.add(nextx * m + nexty)\n",
    "                if getPath(matrix, n, m, nextp,nextx,nexty, visited, path):\n",
    "                    return True\n",
    "                path.pop(-1)\n",
    "                visited.remove(nextx * m + nexty)\n",
    "        return False\n",
    "if __name__ == \"__main__\":\n",
    "    n, m, p = map(int, raw_input().split(' '))\n",
    "    matrix = []\n",
    "    for i in range(n):\n",
    "        matrix.append(map(int, raw_input().split(' ')))\n",
    "    visited = set()\n",
    "    path = [[0, 0]]\n",
    "    if getPath(matrix, n, m, p, 0, 0, visited, path):\n",
    "        print ','.join(map(str, path)).replace(' ', '')\n",
    "    else:\n",
    "        print \"Can not escape!\"\n"
   ]
  },
  {
   "cell_type": "code",
   "execution_count": null,
   "metadata": {},
   "outputs": [],
   "source": []
  },
  {
   "cell_type": "code",
   "execution_count": null,
   "metadata": {},
   "outputs": [],
   "source": []
  },
  {
   "cell_type": "markdown",
   "metadata": {},
   "source": [
    "### 28. 滴滴2017秋招 进制转换 （数学知识）"
   ]
  },
  {
   "cell_type": "markdown",
   "metadata": {},
   "source": [
    "#### 给定一个十进制数M，以及需要转换的进制数N。将十进制数M转化为N进制数"
   ]
  },
  {
   "cell_type": "code",
   "execution_count": null,
   "metadata": {},
   "outputs": [],
   "source": [
    "##一开始没有考虑负数的情况\n",
    "M,N = (int(i) for i in input().split())\n",
    "transf_map={10:'A',11:'B',12:'C',13:'D',14:'E',15:'F'}\n",
    "digit_list=[]\n",
    "now=1\n",
    "digit=0\n",
    "if M<0:\n",
    "    flag_negative=True\n",
    "else:flag_negative=False\n",
    "M=abs(M)\n",
    "while M>0:\n",
    "    middle = M%(pow(N,now))\n",
    "    digit = middle//pow(N,now-1)\n",
    "    digit_list.append(digit)\n",
    "    M=M-digit*(pow(N,(now-1)))\n",
    "    now+=1\n",
    "digit_list=digit_list[::-1]\n",
    "result=''\n",
    "for i in digit_list:\n",
    "    if i>9:\n",
    "        i=transf_map[i]\n",
    "    else:\n",
    "        i=str(i)\n",
    "    result+=i\n",
    "    \n",
    "if flag_negative:\n",
    "    print('-'+result)  \n",
    "else:\n",
    "    print(result)"
   ]
  },
  {
   "cell_type": "markdown",
   "metadata": {},
   "source": [
    "### 29. 滴滴2017秋招 数字和为sum的方法数 （典型动态规划）"
   ]
  },
  {
   "cell_type": "markdown",
   "metadata": {},
   "source": [
    "#### 给定一个有n个正整数的数组A和一个整数sum,求选择数组A中部分数字和为sum的方案数。当两种选取方案有一个数字的下标不一样,我们就认为是不同的组成方案。"
   ]
  },
  {
   "cell_type": "code",
   "execution_count": null,
   "metadata": {},
   "outputs": [],
   "source": [
    "n,sum_num = (int(i) for i in input().split())\n",
    "A=[int(i) for i in input().split()]\n",
    "\n",
    "dp=[[ 0 for i in range(sum_num+1)] for j in range(n)]\n",
    "for i in range(n):\n",
    "    dp[i][0]=1     ##这里一开始错误的设为0，要注意\n",
    "for i in range(1,sum_num+1):\n",
    "    if i==A[0]:\n",
    "        dp[0][i]=1\n",
    "    else:dp[0][i]=0\n",
    "for i in range(1,n):\n",
    "    for j in range(1,sum_num+1):\n",
    "        if A[i]>j:\n",
    "            dp[i][j]=dp[i-1][j]\n",
    "        else:\n",
    "            dp[i][j]=dp[i-1][j]+dp[i-1][j-A[i]]\n",
    "\n",
    "print(dp[n-1][sum_num])"
   ]
  },
  {
   "cell_type": "markdown",
   "metadata": {},
   "source": [
    "### 30. 网易2019编程题 牛牛找工作  （排序/模拟/贪心） @@"
   ]
  },
  {
   "cell_type": "markdown",
   "metadata": {},
   "source": [
    "#### 为了找到自己满意的工作，牛牛收集了每种工作的难度和报酬。牛牛选工作的标准是在难度不超过自身能力值的情况下，牛牛选择报酬最高的工作。在牛牛选定了自己的工作后，牛牛的小伙伴们来找牛牛帮忙选工作，牛牛依然使用自己的标准来帮助小伙伴们。牛牛的小伙伴太多了，于是他只好把这个任务交给了你。"
   ]
  },
  {
   "cell_type": "markdown",
   "metadata": {},
   "source": [
    "****************"
   ]
  },
  {
   "cell_type": "markdown",
   "metadata": {},
   "source": [
    "#### 输入描述:每个输入包含一个测试用例。每个测试用例的第一行包含两个正整数，分别表示工作的数量N(N<=100000)和小伙伴的数量M(M<=100000)。接下来的N行每行包含两个正整数，分别表示该项工作的难度Di(Di<=1000000000)和报酬Pi(Pi<=1000000000)。接下来的一行包含M个正整数，分别表示M个小伙伴的能力值Ai(Ai<=1000000000)。保证不存在两项工作的报酬相同。\n",
    "#### 输出描述:对于每个小伙伴，在单独的一行输出一个正整数表示他能得到的最高报酬。一个工作可以被多个人选择。"
   ]
  },
  {
   "cell_type": "code",
   "execution_count": null,
   "metadata": {},
   "outputs": [],
   "source": [
    "##最初写的超时"
   ]
  },
  {
   "cell_type": "code",
   "execution_count": null,
   "metadata": {},
   "outputs": [],
   "source": [
    "#ac 90%\n",
    "N,M = (int(i) for i in input().split())\n",
    "job=[]\n",
    "for i in range(N):\n",
    "    job.append([int(i) for i in input().split()])\n",
    "A=[int(i) for i in input().split()]\n",
    "\n",
    "res = [0] * (N + M)\n",
    "maps = dict()\n",
    "for index in job:\n",
    "    d, s = job[index][0], job[index][1]\n",
    "    maps[d] = s\n",
    "    res[index] = d\n",
    "for index,j in enumerate(A):\n",
    "        res[index + n] = j\n",
    "    if ability not in maps:\n",
    "        maps[j] = 0\n",
    "res.sort()\n",
    "maxSalary = 0\n",
    "for index in range(n + m):\n",
    "    maxSalary = max(maxSalary, maps[res[index]])  ##从小向大更新最大值\n",
    "    maps[res[index]] = maxSalary\n",
    "for index in range(m):\n",
    "    print(maps[A[index]])"
   ]
  },
  {
   "cell_type": "code",
   "execution_count": null,
   "metadata": {},
   "outputs": [],
   "source": [
    "#ac 100%\n",
    "import sys\n",
    "def main():\n",
    "    lines = sys.stdin.readlines()\n",
    "    lines = [l.strip().split() for l in lines if l.strip()]\n",
    "    n, m = int(lines[0][0]), int(lines[0][1])\n",
    "    res = [0] * (n + m)\n",
    "    abilities = list(map(int, lines[-1]))\n",
    "    maps = dict()\n",
    "    for index, l in enumerate(lines[1:-1]):\n",
    "        d, s = int(l[0]), int(l[1])\n",
    "        maps[d] = s\n",
    "        res[index] = d\n",
    "    for index, ability in enumerate(abilities):\n",
    "        res[index + n] = ability\n",
    "        if ability not in maps:\n",
    "            maps[ability] = 0\n",
    "    res.sort()\n",
    "    maxSalary = 0\n",
    "    for index in range(n + m):\n",
    "        maxSalary = max(maxSalary, maps[res[index]])\n",
    "        maps[res[index]] = maxSalary\n",
    "    for index in range(m):\n",
    "        print(maps[abilities[index]])\n",
    "if __name__ == '__main__':\n",
    "    main()\n",
    "     "
   ]
  },
  {
   "cell_type": "code",
   "execution_count": null,
   "metadata": {},
   "outputs": [],
   "source": [
    "###思路：\n",
    "这道题是卡时间的，如果直接暴力枚举，复杂度O(mn)，\n",
    "必然会超时，卡80%，所以我们要想一个更优化的策略。\n",
    "思路：\n",
    "先将工作按难度排序，复杂度为O(nlogn)。\n",
    "因为工作可以重复选，那么可知员工就是要选的工作\n",
    "就是在他能力值范围内的最大报酬的工作，所以把每\n",
    "个工作的报酬更新为其难度范围内的工作报酬的最大\n",
    "值。好比如果job[i].diff<maxDiff{job[0]~job[i-1]}，\n",
    "那么job[i].diff=maxDiff{job[0]~job[i-1]}。\n",
    " \n",
    "然后再对员工的能力值进行排序，复杂度为O(mlogm)。\n",
    "如果员工p的能力大于等于当前工作j的难度，那么就换下一\n",
    "个难度更高的工作(++j)，如果员工p的能力小于当前工作的\n",
    "难度，那么员工p只能胜任前一个工作(j-1)，然后换下一个\n",
    "能力比员工p更强的员工p+1来挑选工作。因为p+1能力比p高，\n",
    "所以他就可以从工作j挑起，那么挑选工作的复杂度实际是O(m+n)。\n",
    " \n",
    "员工挑选完工作后，把员工报酬按原序输出即可。\n",
    " \n",
    "所以总的复杂度就是max{O(nlogn), O(mlogm), O(m+n)} < O(mn)"
   ]
  },
  {
   "cell_type": "markdown",
   "metadata": {},
   "source": [
    "### 31. 网易2019编程题 被3整除 （数学）"
   ]
  },
  {
   "cell_type": "markdown",
   "metadata": {},
   "source": [
    "#### 小Q得到一个神奇的数列: 1, 12, 123,...12345678910,1234567891011...。并且小Q对于能否被3整除这个性质很感兴趣。小Q现在希望你能帮他计算一下从数列的第l个到第r个(包含端点)有多少个数可以被3整除。"
   ]
  },
  {
   "cell_type": "code",
   "execution_count": null,
   "metadata": {},
   "outputs": [],
   "source": [
    "#提示数组越界\n",
    "l,r = (int(i) for i in input().split())\n",
    "count=0\n",
    "for i in range(l,r+1):\n",
    "    if i%3%2==0:\n",
    "        count+=1\n",
    "print(count)"
   ]
  },
  {
   "cell_type": "code",
   "execution_count": null,
   "metadata": {},
   "outputs": [],
   "source": [
    "#ac 70%\n",
    "l,r = (int(i) for i in input().split())\n",
    "count=0\n",
    "for i in range(l,r+1):\n",
    "    if i%3!=1:count+=1\n",
    "\n",
    "print(count)"
   ]
  },
  {
   "cell_type": "code",
   "execution_count": null,
   "metadata": {},
   "outputs": [],
   "source": [
    "#ac 100%\n",
    "import sys\n",
    "while True:\n",
    "    line = sys.stdin.readline()\n",
    "    if line.strip() == \"\":\n",
    "        break\n",
    "    l = int(line.strip().split()[0])\n",
    "    r = int(line.strip().split()[1])\n",
    "    count = 0\n",
    "    for i in range(1,r+1):\n",
    "        if i%3 != 1:\n",
    "            count += 1\n",
    "    print(count)"
   ]
  },
  {
   "cell_type": "code",
   "execution_count": null,
   "metadata": {},
   "outputs": [],
   "source": [
    "####牛客网有些题不接受input()??"
   ]
  },
  {
   "cell_type": "markdown",
   "metadata": {},
   "source": [
    "### 32.网易2019编程题 安置路灯 （数组/模拟/贪心）"
   ]
  },
  {
   "cell_type": "markdown",
   "metadata": {},
   "source": [
    "#### 小Q正在给一条长度为n的道路设计路灯安置方案。为了让问题更简单,小Q把道路视为n个方格,需要照亮的地方用'.'表示, 不需要照亮的障碍物格子用'X'表示。小Q现在要在道路上设置一些路灯, 对于安置在pos位置的路灯, 这盏路灯可以照亮pos - 1, pos, pos + 1这三个位置。小Q希望能安置尽量少的路灯照亮所有'.'区域, 希望你能帮他计算一下最少需要多少盏路灯。\n",
    "\n"
   ]
  },
  {
   "cell_type": "markdown",
   "metadata": {},
   "source": [
    "*****************"
   ]
  },
  {
   "cell_type": "markdown",
   "metadata": {},
   "source": [
    "#### 输入描述:输入的第一行包含一个正整数t(1 <= t <= 1000), 表示测试用例数接下来每两行一个测试数据, 第一行一个正整数n(1 <= n <= 1000),表示道路的长度。第二行一个字符串s表示道路的构造,只包含'.'和'X'。\n",
    "#### 输出描述:对于每个测试用例, 输出一个正整数表示最少需要多少盏路灯。"
   ]
  },
  {
   "cell_type": "code",
   "execution_count": null,
   "metadata": {},
   "outputs": [],
   "source": [
    "times=int(input())\n",
    "\n",
    "for i in range(times):\n",
    "    n=int(input())\n",
    "    string=list(input())\n",
    "    length=len(string)\n",
    "    count=0\n",
    "    i=0\n",
    "    while i<length:###这个很重要\n",
    "        if string[i]=='X':\n",
    "            i+=1\n",
    "        else:\n",
    "            count+=1\n",
    "            i+=3\n",
    "    print(count)"
   ]
  },
  {
   "cell_type": "markdown",
   "metadata": {},
   "source": [
    "### 33. 网易2019编程题 数对   （数学）"
   ]
  },
  {
   "cell_type": "markdown",
   "metadata": {},
   "source": [
    "#### 牛牛以前在老师那里得到了一个正整数数对(x, y), 牛牛忘记他们具体是多少了。但是牛牛记得老师告诉过他x和y均不大于n, 并且x除以y的余数大于等于k。牛牛希望你能帮他计算一共有多少个可能的数对。"
   ]
  },
  {
   "cell_type": "markdown",
   "metadata": {},
   "source": [
    "*****************"
   ]
  },
  {
   "cell_type": "markdown",
   "metadata": {},
   "source": [
    "#### 输入描述:输入包括两个正整数n,k(1 <= n <= 10^5, 0 <= k <= n - 1)。 注意k可以等于0\n",
    "#### 输出描述:对于每个测试用例, 输出一个正整数表示可能的数对数量。"
   ]
  },
  {
   "cell_type": "code",
   "execution_count": null,
   "metadata": {},
   "outputs": [],
   "source": [
    "##这题好多特殊情况边界考虑，以下代码ac 80%\n",
    "\n",
    "n,k=(int(i) for i in input().split())\n",
    "count=0\n",
    "for y in range(k+1,n+1):\n",
    "    max=n//y\n",
    "    max_res=n%y\n",
    "    if max==0:  #max不会等于0的呀\n",
    "        count+=(y-k)*1\n",
    "    if max_res<k:\n",
    "        count+=(y-k)*max\n",
    "    else:\n",
    "        count+=(y-k)*max+(max_res-k+1)\n",
    "    #print(y,count)\n",
    "print(count)\n"
   ]
  },
  {
   "cell_type": "code",
   "execution_count": null,
   "metadata": {},
   "outputs": [],
   "source": [
    "##修改以上代码,ac100%\n",
    "import sys\n",
    "line=sys.stdin.readline().strip()\n",
    "n=int(line.split()[0])\n",
    "k=int(line.split()[1])\n",
    "def shudui(n,k):\n",
    "    if k==0:\n",
    "        return n**2\n",
    "    else:\n",
    "        count=0\n",
    "        for y in range(k+1,n+1):\n",
    "            count+=(y-k)*(n//y)\n",
    "            if n%y>=k:\n",
    "                count+=n%y-k+1\n",
    "        return count\n",
    "print(shudui(n,k))\n",
    "            \n",
    "        "
   ]
  },
  {
   "cell_type": "code",
   "execution_count": null,
   "metadata": {},
   "outputs": [],
   "source": [
    "class Solution:\n",
    "    def shudui(self,n,k):\n",
    "        if k == 0:\n",
    "            return n**2\n",
    "        else:\n",
    "            res = 0\n",
    "            for y in range(k + 1,n + 1):\n",
    "                res += (n / y) * (y - k)\n",
    "                if n % y >= k:\n",
    "                    res += n % y - k + 1\n",
    "            return res\n",
    "if '__main__'==__name__:\n",
    "    xy = [int(i) for i in input().strip().split()]\n",
    "    n = xy[0]\n",
    "    k = xy[1]\n",
    "    S = Solution()\n",
    "    res = S.shudui(n,k)\n",
    "    print res"
   ]
  },
  {
   "cell_type": "markdown",
   "metadata": {},
   "source": [
    "### 34. 网易2019编程题 牛牛的背包问题 （高级算法/穷举） @@"
   ]
  },
  {
   "cell_type": "markdown",
   "metadata": {},
   "source": [
    "#### 牛牛准备参加学校组织的春游, 出发前牛牛准备往背包里装入一些零食, 牛牛的背包容量为w。牛牛家里一共有n袋零食, 第i袋零食体积为v[i]。牛牛想知道在总体积不超过背包容量的情况下,他一共有多少种零食放法(总体积为0也算一种放法)。\n"
   ]
  },
  {
   "cell_type": "markdown",
   "metadata": {},
   "source": [
    "**************"
   ]
  },
  {
   "cell_type": "markdown",
   "metadata": {},
   "source": [
    "#### 输入描述:输入包括两行。第一行为两个正整数n和w(1 <= n <= 30, 1 <= w <= 2 * 10^9),表示零食的数量和背包的容量。第二行n个正整数v[i](0 <= v[i] <= 10^9),表示每袋零食的体积。\n",
    "#### 输出描述:输出一个正整数, 表示牛牛一共有多少种零食放法。"
   ]
  },
  {
   "cell_type": "code",
   "execution_count": null,
   "metadata": {},
   "outputs": [],
   "source": [
    "##内存超限，ac20%\n",
    "\n",
    "n,w =(int(i) for i in input().split())\n",
    "v=[int(i) for i in input().split()]\n",
    "dp=[[0 for i in range(w+1)] for j in range(n)]\n",
    "for i in range(w+1):\n",
    "    if i==v[0]:\n",
    "        dp[0][i]=1\n",
    "    else:\n",
    "        dp[0][i]=0\n",
    "for i in range(n):\n",
    "    dp[i][0]=1\n",
    "for i in range(1,n):\n",
    "    for j in range(1,w+1):\n",
    "        if j<v[i]:\n",
    "            dp[i][j]=dp[i-1][j]\n",
    "        else:\n",
    "            if j>sum(v[:(i+1)]):\n",
    "                dp[i][j]=0\n",
    "            else:\n",
    "                dp[i][j]=dp[i-1][j]+dp[i][j-v[i]]\n",
    "\n",
    "print(sum(dp[n-1]))"
   ]
  },
  {
   "cell_type": "code",
   "execution_count": null,
   "metadata": {},
   "outputs": [],
   "source": [
    "#应该用递归，ac 100%\n",
    "\n",
    "line1 = list(map(int, input().split()))\n",
    "n=line1[0]\n",
    "w=line1[1]\n",
    "v = list(map(int, input().split()))\n",
    "v.sort()\n",
    "count =1 \n",
    "def helper(cur_sum, w, v):\n",
    "    global count\n",
    "    for i, next_v in enumerate(v):\n",
    "        temp = cur_sum + next_v\n",
    "        if temp <= w:\n",
    "            count += 1\n",
    "            helper(temp, w, v[i+1:])\n",
    "        else:\n",
    "            break\n",
    "if sum(v)<=w:\n",
    "    print(2**n)   \n",
    "else:\n",
    "    helper(0, w, v)    "
   ]
  },
  {
   "cell_type": "code",
   "execution_count": null,
   "metadata": {},
   "outputs": [],
   "source": [
    "##该代码好理解一点\n",
    "\n",
    "import sys\n",
    "lines = sys.stdin.readlines()\n",
    "n,w = map(int,lines[0].split())\n",
    "v = list(map(int,lines[1].split()))\n",
    "def ss(n,w,v):\n",
    "    i=0\n",
    "    b = 0\n",
    "    if sum(v)<=w:\n",
    "        return 2**n\n",
    "    else:\n",
    "        while i<=n:\n",
    "            if i==0:\n",
    "                b = 1\n",
    "            else:\n",
    "                if w-v[i-1]>0:\n",
    "                    b += ss(i-1,w-v[i-1],v[:i])\n",
    "            i += 1\n",
    "    return b\n",
    "print(ss(n,w,v))"
   ]
  },
  {
   "cell_type": "markdown",
   "metadata": {},
   "source": [
    "### 35. 网易2019编程题 矩形重叠 （数学/穷举/高级结构）"
   ]
  },
  {
   "cell_type": "markdown",
   "metadata": {},
   "source": [
    "#### 平面内有n个矩形, 第i个矩形的左下角坐标为(x1[i], y1[i]), 右上角坐标为(x2[i], y2[i])。如果两个或者多个矩形有公共区域则认为它们是相互重叠的(不考虑边界和角落)。请你计算出平面内重叠矩形数量最多的地方,有多少个矩形相互重叠。\n",
    "\n"
   ]
  },
  {
   "cell_type": "markdown",
   "metadata": {},
   "source": [
    "******************"
   ]
  },
  {
   "cell_type": "markdown",
   "metadata": {},
   "source": [
    "#### 输入描述:输入包括五行。第一行包括一个整数n(2 <= n <= 50), 表示矩形的个数。第二行包括n个整数x1[i](-10^9 <= x1[i] <= 10^9),表示左下角的横坐标。第三行包括n个整数y1[i](-10^9 <= y1[i] <= 10^9),表示左下角的纵坐标。第四行包括n个整数x2[i](-10^9 <= x2[i] <= 10^9),表示右上角的横坐标。第五行包括n个整数y2[i](-10^9 <= y2[i] <= 10^9),表示右上角的纵坐标。\n",
    "#### 输出描述:输出一个正整数, 表示最多的地方有多少个矩形相互重叠,如果矩形都不互相重叠,输出1。\n"
   ]
  },
  {
   "cell_type": "markdown",
   "metadata": {},
   "source": [
    "******************"
   ]
  },
  {
   "cell_type": "markdown",
   "metadata": {},
   "source": [
    "#### hints:可以看n的范围，可得知 这道题可以支持几乎所有的多项式复杂度的算法"
   ]
  },
  {
   "cell_type": "markdown",
   "metadata": {},
   "source": [
    "#### 思路：看n的范围就能知道这道题可以支持几乎所有的多项式复杂度的算法了，我的算法是O(n^3)的复杂度。其实可以做到O(n^2logn)，但是要用到线段树，对于n<=50的规模来说可能会因为常数大程序反而跑得更慢。首先因为坐标的范围是1e9，因此第一步肯定是对坐标进行离散化，我们存下所有的x坐标和y坐标，然后分别进行排序。然后我们得到了两个数组，一个是x坐标的数组，一个是y坐标的数组，分别都有2n个整数，这2个数组把平面分成了(2n-1)*(2n-1)个格子。所有的初始矩形都由这些格子组成。我们可以取这些格子的对角线中点(共(2n-1)(2n-1)个)代表这些格子，然后考虑这些这些点分别包含在多少个矩形中。然后求出被覆盖最多次的格子就是答案了。"
   ]
  },
  {
   "cell_type": "code",
   "execution_count": null,
   "metadata": {},
   "outputs": [],
   "source": [
    "##大神的\n",
    "import sys\n",
    "lines = sys.stdin.readlines()\n",
    "n = int(lines[0])\n",
    "x1 = list(map(int,lines[1].split()))\n",
    "y1 = list(map(int,lines[2].split()))\n",
    "x2 = list(map(int,lines[3].split()))\n",
    "y2 = list(map(int,lines[4].split()))\n",
    "# 遍历所有点的组合（包含了矩形所有角以及交点），看一下有多少矩形包含它\n",
    "res = 1\n",
    "for x in x1+x2:\n",
    "    for y in y1+y2:\n",
    "        cnt = 0\n",
    "        for i in range(n):\n",
    "            if x > x1[i] and y > y1[i] and x <= x2[i] and y <= y2[i]:\n",
    "                cnt += 1\n",
    "        res = max(res,cnt)\n",
    "print(res)"
   ]
  },
  {
   "cell_type": "code",
   "execution_count": null,
   "metadata": {},
   "outputs": [],
   "source": [
    "#自己再写一遍\n",
    "import sys\n",
    "lines=sys.stdin.readlines()\n",
    "n=int(lines[0].strip())\n",
    "\n",
    "#左下角的横坐标\n",
    "x1=list(map(int,lines[1].strip().split()))\n",
    "#左下角的纵坐标\n",
    "y1=list(map(int,lines[2].strip().split()))\n",
    "#右上角的横坐标\n",
    "x2=list(map(int,lines[3].strip().split()))\n",
    "#右上角的纵坐标\n",
    "y2=list(map(int,lines[4].strip().split()))\n",
    "\n",
    "for x in x1+x2:\n",
    "    for y in y1+y2:\n",
    "        count=0\n",
    "        for i in range(n):\n",
    "            if x>x1[i] and y>y1[i] and x<=x2[i] and y<=y2[i]:\n",
    "                count+=1\n",
    "        res=max(res,count)\n",
    "print(res)\n",
    "\n",
    "\n"
   ]
  },
  {
   "cell_type": "markdown",
   "metadata": {},
   "source": [
    "### 36. 网易2019编程题 篮球队"
   ]
  },
  {
   "cell_type": "markdown",
   "metadata": {},
   "source": [
    "#### 小Q是篮球训练队的教练，篮球队新加入了N名队员，第i名队员的篮球水平值为ai。小Q现在要把他们按照以下的要求分为A队和B队进行训练:1、A队的队员水平值之和严格大于B队的队员水平值之和2、对于A队中的任意一名队员，如果把他分配到B队，A队的水平值之和就会严格小于B队的水平值之和。3、每个队员必须要加入一个队伍小Q现在想知道有多少种方案可以按照以上要求完成分队。"
   ]
  },
  {
   "cell_type": "markdown",
   "metadata": {},
   "source": [
    "************"
   ]
  },
  {
   "cell_type": "markdown",
   "metadata": {},
   "source": [
    "#### 输入描述:输入包括两行, 输入的第一行为一个正整数n(2 <= N <= 50), 表示队员的数量。第二行包括N个正整数 ai(1 <= ai <= 6 x 104), 表示每名队员的篮球水平值, 以空格分割。\n",
    "#### 输出描述:输出一个正整数, 表示方案数。"
   ]
  },
  {
   "cell_type": "markdown",
   "metadata": {},
   "source": [
    "************"
   ]
  },
  {
   "cell_type": "code",
   "execution_count": null,
   "metadata": {},
   "outputs": [],
   "source": [
    "//转化为0-1背包问题 设目前有A包，共n个商品，依次决定是否放入商品i，使商品总价值\n",
    "//达到指定数目(未放入的，则默认加入B包)\n",
    "//定义数组dp，其中dp[i][j]表示前i个商品中，使A包总价值为j的放置方案数量\n",
    "//dp[i][j]=dp[i-1][j]+dp[i-1][j-arr[i]]; (不放入商品i，和放入商品i的情况。\n",
    "//加号后一项需满足条件j-arr[i]>=0)\n",
    "//本问题的特殊性\n",
    "//在计算dp前，对价值数组arr进行降序(降序是为方便计算条件2中A包的商品最小价值)；\n",
    "//条件2表示 取A包内最小价值的商品放入B包，新A包总价值 < 新B包总价值\n",
    "//数组dp中，dp[i][j]表示前i个商品中，使A包总价值为j的放置方案数量。此时，\n",
    "//如商品i放入A包，则A包内的商品最小价值为arr[i](降序)。\n",
    "//若满足j>n_sum==j && j-arr[i]<n-j-arr[i],表示当前放置方案满足1,2,3条件,\n",
    "//(A包总价值j，i往后的商品都放入B包，B包总价值n_sum-j,且A包内商品最小价值arr[i])\n",
    "//则 ans+=dp[i-1][j-arr[i]](ans记录满足条件1,2,3的方案总数)\n",
    "// 如定义dp[n][n_sum+1]，则通过率60%，内存超限。因此定义dp[2][n_sum+1],因为每次\n",
    "//计算一行仅仅利用了上面一行的元素值。"
   ]
  },
  {
   "cell_type": "code",
   "execution_count": null,
   "metadata": {},
   "outputs": [],
   "source": [
    "#ac 40%\n",
    "##因为是求方案数，所以可以压缩成2*n数组\n",
    "import sys\n",
    "n = int(sys.stdin.readline())\n",
    "arr=list(map(int,sys.stdin.readline().split()))\n",
    "sum_arr=sum(arr)\n",
    "arr.sort(reverse=True)\n",
    "ans=0\n",
    "dp=[[0 for i in range(sum_arr+1)] for i in range(2)]\n",
    "dp[0][0]=1\n",
    "for i in range(1,sum_arr+1):\n",
    "    dp[0][i]=0\n",
    "for i in range(n):\n",
    "    for j in range(1,sum_arr):\n",
    "        dp[1][j]=dp[0][j]\n",
    "        if j>=arr[i]:\n",
    "            dp[1][j]+=dp[0][j-arr[i]]\n",
    "            if j>sum_arr-j and j-arr[i]<sum_arr-j+arr[i]:\n",
    "                ans+=dp[0][j-arr[i]]\n",
    "    for j in range(1,sum_arr):\n",
    "        dp[0][j]=dp[1][j]\n",
    "print(ans)"
   ]
  },
  {
   "cell_type": "code",
   "execution_count": null,
   "metadata": {},
   "outputs": [],
   "source": [
    "import sys\n",
    "n = int(sys.stdin.readline())\n",
    "arr=list(map(int,sys.stdin.readline().split()))\n",
    "sum_arr=sum(arr)\n",
    "arr.sort(reverse=True)\n",
    "array=[0 for i in range(sum_arr+1)]\n",
    "array[0]=1\n",
    "if sum_arr%2==0:\n",
    "    min=sum//2\n",
    "else:\n",
    "    min=sum//2\n",
    "mid=sum//2+1\n",
    "res=0\n",
    "for i in range(n):\n",
    "    for j in range(mid-arr[i],min):\n",
    "        if m<0:m=0\n",
    "            res+=array[m]\n",
    "\n",
    "\n",
    "import java.util.*;\n",
    "public class Main {\n",
    "        public static void main(String[] args) {\n",
    "            Scanner sc = new Scanner(System.in);\n",
    "            int n = sc.nextInt();\n",
    "            // 之所以是 Integer 数组，是为了下面逆序排序用，不能用 Arrays.sort 对基本类型进行逆序排序\n",
    "            Integer[] player = new Integer[n];\n",
    "            int sum = 0;\n",
    "            for(int i = 0; i < n; i++) {\n",
    "                player[i] = sc.nextInt();\n",
    "                sum += player[i];\n",
    "            }\n",
    "            int[] array = new int[sum + 1];// array[i] 用来存储分值为 i 的组数\n",
    "            array[0] = 1;\n",
    "            Arrays.sort(player, Collections.reverseOrder());\n",
    "            int min;\n",
    "            //mid 是 A 比 B 大的临界值，min 是 A 比 B 小的临界值\n",
    "            if(sum % 2 == 0) {\n",
    "                min = sum / 2;\n",
    "            }else {\n",
    "                min = sum / 2 + 1;\n",
    "            }\n",
    "            int mid = sum / 2 + 1;\n",
    "            long res = 0;\n",
    "            for(int i = 0; i < n; i++) {\n",
    "                // m 表示 A 队将球员 i 分配给 B 队后的水平值之和\n",
    "                // 要保证 m 小于 B 队的水平值之和且 m + player[i] 大于 B 队的水平值之和\n",
    "                for(int m = mid - player[i]; m < min; m++) {\n",
    "                    if(m < 0) m = 0;//小于0说明有一个值很大，直接把这一个人放到A队就足够了\n",
    "                    res += array[m];//每一种情况 A 队的水平值之和等于 m + player[i]分\n",
    "                }\n",
    "                for(int j = sum - player[i]; j >= 0; j--) {//一定要从后往前填，从前往后填不对\n",
    "                    array[j + player[i]] += array[j];\n",
    "                }\n",
    "            }\n",
    "            System.out.print(res);\n",
    "        }\n",
    "}"
   ]
  },
  {
   "cell_type": "code",
   "execution_count": null,
   "metadata": {},
   "outputs": [],
   "source": [
    "#include <bits/stdc++.h>\n",
    "using namespace std;\n",
    "#define N 50\n",
    "int n, n_sum;\n",
    "int a[N], dp[60000 * N] = {1};\n",
    "  \n",
    "int gcd(int x, int y)\n",
    "{\n",
    "    return y ? gcd(y, x % y) : x;\n",
    "}\n",
    "long long solve()\n",
    "{\n",
    "    int g = a[0];\n",
    "    for(int i = 1; i < n; ++i) g = gcd(g, a[i]);\n",
    "    for(int i = 0; i < n; ++i) {\n",
    "        a[i] /= g;\n",
    "        n_sum += a[i];\n",
    "    }\n",
    "    sort(a, a + n, greater<int>());\n",
    "    long long ans = 0, i, A_sum;\n",
    "    for(int i = 0; i < n; ++i) {\n",
    "        for(int A_sum = n_sum; A_sum >= a[i]; --A_sum) {\n",
    "            if(dp[A_sum - a[i]]>0 && A_sum > n_sum - A_sum && A_sum - a[i] < n_sum - A_sum + a[i]) {\n",
    "                ans += dp[A_sum - a[i]];\n",
    "            }\n",
    "            dp[A_sum] += dp[A_sum - a[i]] ;\n",
    "        }\n",
    "    }\n",
    "    return ans;\n",
    "}\n",
    "int main(void)\n",
    "{\n",
    "//    freopen(\"input.txt\", \"r\", stdin);\n",
    "    scanf(\"%d\", &n);\n",
    "    for (int i = 0; i < n; i++) {\n",
    "        scanf(\"%d\", a + i);\n",
    "    }\n",
    "  \n",
    "    long long ans = solve();\n",
    "    printf(\"%lld\", ans);\n",
    "    return 0;\n",
    "}\n",
    "  "
   ]
  },
  {
   "cell_type": "markdown",
   "metadata": {},
   "source": [
    "### 37. 网易2019编程题 字母卡片 （贪心/排序/字符串）"
   ]
  },
  {
   "cell_type": "markdown",
   "metadata": {},
   "source": [
    "#### 给你n张卡片，卡片上仅包含大写英文字母，现你可从这n张卡片中选出k张，要求得到尽可能高的分数。关于分数的计算方式，在你所选择的k张卡片中，含有相同字母的卡片分数为卡片数乘以相同卡片个数。就样例而言，选择九张D和其他任意一张，得到的结果为9*9+1 。"
   ]
  },
  {
   "cell_type": "markdown",
   "metadata": {},
   "source": [
    "**************"
   ]
  },
  {
   "cell_type": "markdown",
   "metadata": {},
   "source": [
    "#### 输入描述:输入包含两行，第一行含两个整数n，k(0<k<=n<=1,000,000）第二行为每张卡片上的字母\n",
    "#### 输出描述:输出仅包含一行，输出尽可能高的分数"
   ]
  },
  {
   "cell_type": "code",
   "execution_count": null,
   "metadata": {},
   "outputs": [],
   "source": [
    "import sys\n",
    "if __name__ == \"__main__\":\n",
    "    data=[]\n",
    "while True:\n",
    "    line = sys.stdin.readline().strip()\n",
    "    if not line:\n",
    "        break\n",
    "    tmp = line\n",
    "    data.append(tmp)\n",
    "for i in range(len(data)//2):\n",
    "    ls=list(map(int,data[2*i].split()))\n",
    "    n,m=ls[0],ls[1]\n",
    "    string=data[2*i+1]\n",
    "    dic={}\n",
    "    for k in string:\n",
    "        dic[k]=dic.get(k,0)+1\n",
    "    lis=sorted(dic.items(),key=lambda x:x[1],reverse=True)\n",
    "    a=[]\n",
    "    b=[]\n",
    "    a,b=zip(*lis)\n",
    "    re=0\n",
    "    for j in b:\n",
    "        if j >=m:\n",
    "            re+=m*m\n",
    "            break\n",
    "        else:\n",
    "            re+=j*j\n",
    "            m-=j\n",
    "    print(re)"
   ]
  },
  {
   "cell_type": "markdown",
   "metadata": {},
   "source": [
    "### 38. 网易2019编程题 N-GCD （数学）"
   ]
  },
  {
   "cell_type": "markdown",
   "metadata": {},
   "source": [
    "#### 小明很喜欢数对，又很喜欢GCD(最大公约数)。所以他想尽办法创造了一种全新的最大公约数：给出若干个数对(ai,bi)，如果一个最大的质数x可以整除每一个数对中的至少一个数字并且这个数字大于1，那么x就称为这些数对的N-GCD。现在小明给了你一些数对，希望你可以算出它们的N-GCD。"
   ]
  },
  {
   "cell_type": "markdown",
   "metadata": {},
   "source": [
    "**************"
   ]
  },
  {
   "cell_type": "markdown",
   "metadata": {},
   "source": [
    "#### 输入描述:第一行一个数字n，表示数对的个数。接下来n行，每行两个数字，用一个空格分隔，表示一个数对。满足1<=n <=150000,1<=ai,bi<=2 * 10^9。\n",
    "#### 输出描述:一个数字，这些数对的N-GCD；若N-GCD不存在，那么输出-1。"
   ]
  },
  {
   "cell_type": "markdown",
   "metadata": {},
   "source": [
    "该题的节省时间复杂度的一个技巧：\n",
    "case通过率90% 的解决思路： 时间复杂度最高是在main()的循环处\n",
    "并且 判断是否为质数的复杂度 高于 判断某一质数是否能整数每行中的某个值\n",
    " \n",
    "之前先判断是否为质数，然后判断是否能整除每行当中的某个值，通过率始终为90%\n",
    "改变顺序：先判断是否能整除，然后判断是否为质数，全部通过"
   ]
  },
  {
   "cell_type": "code",
   "execution_count": null,
   "metadata": {},
   "outputs": [],
   "source": [
    "#import sys\n",
    "#n = int(sys.stdin.readline())\n",
    "#nums=sys.stdin.readlines()\n",
    "##ac还是只有90%\n",
    "import math\n",
    "n=int(input())\n",
    "arr=[[0,0] for i in range(n)]\n",
    "for i in range(n):\n",
    "    arr[i]=[int(i) for i in input().split()]\n",
    "\n",
    "    \n",
    "def iszhishu(value):\n",
    "    for i in range(2,int(math.sqrt(value))+1):  ##竟然忘记import math，还差点发现不出问题所在\n",
    "        if value%i==0:\n",
    "            return False\n",
    "    return True\n",
    "\n",
    "def solution(arr,n):\n",
    "    limit=float('inf')\n",
    "    for i in range(n):\n",
    "        limit=min(limit,max(arr[i][0],arr[i][1]))\n",
    "\n",
    "    for i in range(limit,1,-1):\n",
    "        j=0\n",
    "        while j<n:\n",
    "            if (arr[j][0]%i!=0 and arr[j][1]%i!=0):\n",
    "                break\n",
    "            j+=1\n",
    "        if j==n and iszhishu(i): ##python的逻辑词请一定要用and or not\n",
    "            return i\n",
    "\n",
    "print(solution(arr,n))    "
   ]
  },
  {
   "cell_type": "code",
   "execution_count": null,
   "metadata": {},
   "outputs": [],
   "source": [
    "##该代码ac 100%\n",
    "\n",
    "def f(n):\n",
    "    res,i = 1,2\n",
    "    while n >= 2:\n",
    "        if n % i == 0:\n",
    "            n = n // i\n",
    "            res = i\n",
    "        else:\n",
    "            i += 1\n",
    "    return res\n",
    "def gcd(m,n):\n",
    "    if m < n:\n",
    "        m,n = n,m\n",
    "    if m % n == 0:\n",
    "        return n\n",
    "    else:\n",
    "        m = m % n\n",
    "        return gcd(n,m)\n",
    "import sys\n",
    "lines = sys.stdin.readlines()\n",
    "n = int(lines[0])\n",
    "l = []\n",
    "for i in range(n):\n",
    "    m,n1 = map(int,lines[i + 1].split())\n",
    "    l.append([m,n1])\n",
    "res = l[:]\n",
    "for i in range(1,n):\n",
    "    res[i][0] = max(gcd(res[i - 1][0],l[i][0]),gcd(res[i - 1][1],l[i][0]))\n",
    "    res[i][1] = max(gcd(res[i - 1][0],l[i][1]),gcd(res[i - 1][1],l[i][1]))\n",
    "if max(res[-1]) != 1:\n",
    "    print(max(f(res[-1][0]),f(res[-1][1])))\n",
    "else:\n",
    "    print(-1)\n"
   ]
  },
  {
   "cell_type": "code",
   "execution_count": null,
   "metadata": {},
   "outputs": [],
   "source": [
    "##ac 100%\n",
    "import math\n",
    "def fun1(a):\n",
    "    if a==2:\n",
    "        return 1\n",
    "    else:\n",
    "        for i in range(2,round(a**0.5)+1):\n",
    "            if a%i==0:\n",
    "                return 0\n",
    "        return 1\n",
    "def fun2(a,lst):\n",
    "    for j in range(len(lst[:])):\n",
    "        if lst[j][0]%i ==0 or lst[j][1]%i ==0:\n",
    "            continue\n",
    "        else:\n",
    "            return 0\n",
    "    return 1\n",
    "  \n",
    "n=int(input().strip())\n",
    "lst=[]\n",
    "for i in range(n):\n",
    "    line=list(map(int,input().strip().split()))\n",
    "    lst.append(line)       \n",
    "min_num=min(min(lst))\n",
    "gcd=[]\n",
    "if fun2(2,lst)==1:\n",
    "    gcd.append(2)\n",
    "for i in range(3,min_num+1,2):\n",
    "    if fun1(i)==1:\n",
    "        if fun2(i,lst)==1:\n",
    "            gcd.append(i)\n",
    "if len(gcd)==0:\n",
    "    print(-1)\n",
    "else:\n",
    "    print(max(gcd))\n"
   ]
  },
  {
   "cell_type": "markdown",
   "metadata": {},
   "source": [
    "### 39. 网易2019编程题 分贝壳 （查找）@@"
   ]
  },
  {
   "cell_type": "markdown",
   "metadata": {},
   "source": [
    "#### 牛牛和妞妞去海边捡了一大袋美丽的贝壳，千辛万苦地运回家后，牛牛和妞妞打算分掉这些贝壳。牛牛提出，他和妞妞轮流从还没有分配的贝壳中取一定数量的贝壳，直到贝壳分完为止。分配规则是牛牛每次取剩余贝壳的1/10（向下取整），妞妞每次固定取m个贝壳，妞妞先取。妞妞想要得到不少于一半的贝壳，又不想太过分，那么她一次最少取多少个贝壳才能得到不少于一半的贝壳呢？\n",
    "\n"
   ]
  },
  {
   "cell_type": "markdown",
   "metadata": {},
   "source": [
    "**************"
   ]
  },
  {
   "cell_type": "markdown",
   "metadata": {},
   "source": [
    "#### 输入描述:一个正整数n，表示贝壳的总数量，1<=n<=1000000000000000000。\n",
    "#### 输出描述:一个正整数m，表示妞妞一次最少取的贝壳数量。"
   ]
  },
  {
   "cell_type": "code",
   "execution_count": null,
   "metadata": {},
   "outputs": [],
   "source": [
    "##看到题目有想到要用二分查找法，但找不到着力点"
   ]
  },
  {
   "cell_type": "markdown",
   "metadata": {},
   "source": [
    "思路：\n",
    "使用二分查找下界的思想。\n",
    "将mid作为妞妞一次拿多少的值\n",
    "如果当前的mid满足“妞妞想要得到不少于一半的贝壳”，\n",
    "则记录下当前mid的值，并继续向左查找。\n",
    "否则就是mid值太小，向右查找"
   ]
  },
  {
   "cell_type": "code",
   "execution_count": null,
   "metadata": {},
   "outputs": [],
   "source": [
    "def m_get_more_shell(n,m,msum,nsum):\n",
    "    if m>n: ##n是每次牛牛拿完之后剩下的，巧妙啊！\n",
    "        return msum+n>=nsum\n",
    "    msum+=m\n",
    "    nsum+=(n-m)//10\n",
    "    left_shell=n-m-(n-m)//10\n",
    "    return m_get_more_shell(left_shell,m,msum,nsum)\n",
    "\n",
    "def find_m(n):\n",
    "    left=0  ##条件注意一下\n",
    "    right=(n+1)//2\n",
    "    while left!=right-1:  ##条件注意一下\n",
    "        mid=(left+right)//2\n",
    "        if m_get_more_shell(n,mid,0,0):\n",
    "            right=mid\n",
    "        else:\n",
    "            left=mid\n",
    "    return right\n",
    "n=int(input())\n",
    "print(find_m(n))"
   ]
  },
  {
   "cell_type": "code",
   "execution_count": null,
   "metadata": {},
   "outputs": [],
   "source": [
    "def isMinNum(m, n):\n",
    "    all = n\n",
    "    temp = 0\n",
    "    while all >=0:\n",
    "        if all<m:\n",
    "            temp += all\n",
    "            break\n",
    "        temp += m\n",
    "        all -= m\n",
    "        all -= all // 10\n",
    "    if n % 2==0:\n",
    "        mid = n // 2\n",
    "    else:\n",
    "        mid = (n+1) // 2\n",
    "    return temp>=mid\n",
    "  \n",
    "n = int(input())\n",
    "s, e = 1, n\n",
    "every = 0\n",
    "while s <= e:\n",
    "    m = s + (e - s) // 2\n",
    "    if isMinNum(m, n):\n",
    "        every = m\n",
    "        e = m - 1\n",
    "    else:\n",
    "        s = m + 1\n",
    "print(every)"
   ]
  },
  {
   "cell_type": "code",
   "execution_count": null,
   "metadata": {},
   "outputs": [],
   "source": [
    "def isMinNum(m, n):\n",
    "    all = n\n",
    "    get = 0\n",
    "    while all >=0:\n",
    "        if all<m:\n",
    "            get += all\n",
    "            break\n",
    "        get += m\n",
    "        all -= m\n",
    "        all -= all // 10\n",
    "    if n % 2==0:\n",
    "        mid = n // 2\n",
    "    else:\n",
    "        mid = (n +1) // 2\n",
    "    return get >= mid\n",
    " \n",
    "n = int(input())\n",
    "s, e = 1, n\n",
    "temp = 0\n",
    "while s<=e:\n",
    "    m = s + (e - s) // 2\n",
    "    if isMinNum(m, n):\n",
    "        temp = m\n",
    "        e = m - 1\n",
    "    else:\n",
    "        s = m +1\n",
    "print(temp)"
   ]
  },
  {
   "cell_type": "markdown",
   "metadata": {},
   "source": [
    "### 40. 网易2019编程题 美妙的约会  (贪心/模拟/排序）"
   ]
  },
  {
   "cell_type": "markdown",
   "metadata": {},
   "source": [
    "#### 牛牛和妞妞在一天晚上决定一起去看一场情人节演唱会，可是由于这场演唱会实在太出名了，有很多情侣都来观看，牛牛和妞妞不小心被人流冲散了！维持秩序的人决定，让大家排成一列，相邻两个进去的人（2k-1和2k，k为正整数）坐在相邻座位。但是现在的队伍乱糟糟的，有很多情侣都不在相邻位置。维持秩序的人同意让情侣们跟相邻的人交换位置，直到所有情侣都在2k-1和2k位置上为止。但是维持秩序的人很没有耐心，所以需要最少的交换次数，你能帮情侣们算出这个次数吗？\n"
   ]
  },
  {
   "cell_type": "markdown",
   "metadata": {},
   "source": [
    "***************"
   ]
  },
  {
   "cell_type": "markdown",
   "metadata": {},
   "source": [
    "#### 输入描述:第一行一个整数n，表示一共有n对情侣，编号从1到n。同一对情侣编号相同。1<=n<=100第二行2n个整数ai，表示编号为ai的情侣在第i个位置。1<=ai<=n\n",
    "#### 输出描述:一个整数，代表最少交换次数。"
   ]
  },
  {
   "cell_type": "markdown",
   "metadata": {},
   "source": [
    "思路：从左至右遍历非0情侣，统计两个情侣之间非0元素的个数，配对后，当前情侣置0"
   ]
  },
  {
   "cell_type": "code",
   "execution_count": null,
   "metadata": {},
   "outputs": [],
   "source": [
    "import sys\n",
    "lines = sys.stdin.readlines()\n",
    "n = int(lines[0].strip())\n",
    "an = list(map(int, lines[1].strip().split()))\n",
    " \n",
    "def count0(an):\n",
    "    tmp = 0\n",
    "    count = 0\n",
    "    for i in range(len(an)):\n",
    "        #print('i:', i)\n",
    "        if an[i] != 0 and tmp == 0:\n",
    "           # print('firstI:',i)\n",
    "            tmp = an[i]\n",
    "            an[i] = 0\n",
    "            index = i\n",
    "        elif an[i] == tmp and tmp != 0:\n",
    "            #print('secondI:', i)\n",
    "            an[i] = 0\n",
    "            return count\n",
    "        elif an[i]!=0:\n",
    "            count += 1\n",
    "    return 0\n",
    "             \n",
    "if __name__ == '__main__':\n",
    "    count = 0\n",
    "    for i in range(n-1):\n",
    "        count_single = count0(an)\n",
    "        #print(count_single)\n",
    "        count += count_single\n",
    "    #print('final:',an)\n",
    "    print(count)"
   ]
  },
  {
   "cell_type": "code",
   "execution_count": null,
   "metadata": {},
   "outputs": [],
   "source": []
  },
  {
   "cell_type": "code",
   "execution_count": null,
   "metadata": {},
   "outputs": [],
   "source": [
    "n = int(input())\n",
    "nums = list(map(int,input().split()))\n",
    "count = 0\n",
    "for i in range(n):\n",
    "    for j in range(2*n):\n",
    "        if nums[j]!=0:\n",
    "            index = nums[j]\n",
    "            x = j\n",
    " \n",
    "            nums[j] = 0\n",
    "            break\n",
    " \n",
    "    y = 0\n",
    "    for k in range(2*n):\n",
    "        if nums[k]!=0 and nums[k]!=index:\n",
    "            y+=1\n",
    "        elif nums[k]==index:\n",
    "            nums[k]=0\n",
    "            break\n",
    "    count += y\n",
    "print(count)"
   ]
  },
  {
   "cell_type": "code",
   "execution_count": null,
   "metadata": {},
   "outputs": [],
   "source": []
  },
  {
   "cell_type": "markdown",
   "metadata": {},
   "source": [
    "### 41. 拼多多编程题 选靓号 （贪心/字符串/穷举）@@"
   ]
  },
  {
   "cell_type": "markdown",
   "metadata": {},
   "source": [
    "#### A 国的手机号码由且仅由 N 位十进制数字(0-9)组成。一个手机号码中有至少 K 位数字相同则被定义为靓号。A 国的手机号可以有前导零，比如 000123456 是一个合法的手机号。小多想花钱将自己的手机号码修改为一个靓号。修改号码中的一个数字需要花费的金额为新数字与旧数字之间的差值。比如将 1 修改为 6 或 6 修改为 1 都需要花 5 块钱。给出小多现在的手机号码，问将其修改成一个靓号，最少需要多少钱？"
   ]
  },
  {
   "cell_type": "markdown",
   "metadata": {},
   "source": [
    "*****************"
   ]
  },
  {
   "cell_type": "markdown",
   "metadata": {},
   "source": [
    "#### 输入描述:第一行包含2个整数 N、K，分别表示手机号码数字个数以及靓号至少有 K 个数字相同。第二行包含 N 个字符，每个字符都是一个数字('0'-'9')，数字之间没有任何其他空白符。表示小多的手机号码。数据范围：2 <= K <= N <= 10000\n",
    "#### 输出描述:第一行包含一个整数，表示修改成一个靓号，最少需要的金额。第二行包含 N 个数字字符，表示最少花费修改的新手机号。若有多个靓号花费都最少，则输出字典序最小的靓号。"
   ]
  },
  {
   "cell_type": "code",
   "execution_count": null,
   "metadata": {},
   "outputs": [],
   "source": [
    "from collections import Counter\n",
    "def distance(dic, k, t):\n",
    "    ret = 0\n",
    "    if dic[t] >= k: return ret\n",
    "    k -= dic[t]\n",
    "    for i in range(1, 10): #当修改量为某数时，先改后一位再改前一位（字典序）\n",
    "        if t + i < 10:\n",
    "            if dic[t + i] >= k:\n",
    "                ret += i * k\n",
    "                return ret\n",
    "            else:\n",
    "                k -= dic[t + i]\n",
    "                ret += i * dic[t + i]\n",
    "        if t - i >= 0:\n",
    "            if dic[t - i] >= k:\n",
    "                ret += i * k\n",
    "                return ret\n",
    "            else:\n",
    "                k -= dic[t - i]\n",
    "                ret += i * dic[t - i]\n",
    "def modify(s, dic, k, t):\n",
    "    if dic[t] >= k: return\n",
    "    k -= dic[t]\n",
    "    for i in range(1, 10):  #先改后面再改前面\n",
    "        if t + i < 10:\n",
    "            for j in range(len(s)):\n",
    "                if k == 0: return\n",
    "                if s[j] == t + i:\n",
    "                    s[j] = t\n",
    "                    k -= 1\n",
    "        if t - i >= 0:\n",
    "            for j in range(len(s) - 1, -1, -1):\n",
    "                if k == 0: return\n",
    "                if s[j] == t - i:\n",
    "                    s[j] = t\n",
    "                    k -= 1\n",
    "if __name__ == \"__main__\":\n",
    "    n, k = map(int, input().strip().split())\n",
    "    s = list(map(int, list(input().strip())))\n",
    "    dic = Counter(s)\n",
    "    for i in range(10):\n",
    "        if i not in dic:\n",
    "            dic[i] = 0\n",
    "    ans_cost, ans_num = float(\"inf\"), -1\n",
    "    for i in range(10):\n",
    "        tmp = distance(dic, k, i)\n",
    "        if ans_cost > tmp:\n",
    "            ans_cost = tmp\n",
    "            ans_num = i\n",
    "    modify(s, dic, k, ans_num)\n",
    "    print(ans_cost)\n",
    "    print(''.join(map(str, s)))"
   ]
  },
  {
   "cell_type": "code",
   "execution_count": null,
   "metadata": {},
   "outputs": [],
   "source": []
  },
  {
   "cell_type": "markdown",
   "metadata": {},
   "source": [
    "### 42. 拼多多编程题 种树 （贪心/递归/数组）@@"
   ]
  },
  {
   "cell_type": "markdown",
   "metadata": {},
   "source": [
    "#### 小多想在美化一下自己的庄园。他的庄园毗邻一条小河，他希望在河边种一排树，共 M 棵。小多采购了 N 个品种的树，每个品种的数量是 Ai (树的总数量恰好为 M)。但是他希望任意两棵相邻的树不是同一品种的。小多请你帮忙设计一种满足要求的种树方案。"
   ]
  },
  {
   "cell_type": "markdown",
   "metadata": {},
   "source": [
    "****************"
   ]
  },
  {
   "cell_type": "markdown",
   "metadata": {},
   "source": [
    "#### 输入描述:第一行包含一个正整数 N，表示树的品种数量。第二行包含 N 个正整数，第 i (1 <= i <= N) 个数表示第 i 个品种的树的数量。数据范围：1 <= N <= 1000，1 <= M <= 2000\n",
    "#### 输出描述:输出一行，包含 M 个正整数，分别表示第 i 棵树的品种编号 (品种编号从1到 N)。若存在多种可行方案，则输出字典序最小的方案。若不存在满足条件的方案，则输出\"-\"。"
   ]
  },
  {
   "cell_type": "code",
   "execution_count": null,
   "metadata": {},
   "outputs": [],
   "source": [
    "##ac 100%\n",
    "n=int(input())\n",
    "l=list(map(int,input().split()))\n",
    "last=sum(l)\n",
    "m=max(l)\n",
    "res=[]\n",
    "if m>(last+1)//2:\n",
    "    print('-')\n",
    "else:\n",
    "    index1,index2=0,1\n",
    "    while last>0:\n",
    "        if m<(last+1)//2:\n",
    "            while l[index1]==0:\n",
    "                index1+=1\n",
    "            while index2==index1 or l[index2]==0:\n",
    "                index2+=1\n",
    "            if len(res)==0 or str(index1+1)!=res[-1]:\n",
    "                res.append(str(index1+1))\n",
    "                l[index1]-=1\n",
    "            else:\n",
    "                res.append(str(index2+1))\n",
    "                l[index2]-=1\n",
    "        else:\n",
    "            m=max(l)\n",
    "            if m<(last+1)//2:continue\n",
    "            c=l.count(m)\n",
    "            if c==2 or last%2==1:\n",
    "                if c==2:\n",
    "                    a,b=-1,-1\n",
    "                    for i in range(len(l)):  #use a,b to capture the two max\n",
    "                        if l[i]==m:\n",
    "                            if a==-1:\n",
    "                                a=i\n",
    "                            else:\n",
    "                                b=i\n",
    "                                break\n",
    "                    if len(res) ==0 or str(a+1)!=res[-1]:\n",
    "                        res.append(str(a+1))\n",
    "                        l[a]-=1\n",
    "                    else:\n",
    "                        res.append(str(b+1))\n",
    "                        l[b]-=1\n",
    "                else:\n",
    "                    st=l.index(m)\n",
    "                    res.append(str(st+1))\n",
    "                    l[st]-=1\n",
    "                      \n",
    "            else:\n",
    "                a=l.index(m)\n",
    "                while l[index1]==0:\n",
    "                    index1+=1\n",
    "                while index2==index1 or l[index2]==0:\n",
    "                    index2+=1\n",
    "                if len(res)==0 or str(index1+1)!=res[-1]:\n",
    "                    res.append(str(index1+1))\n",
    "                    l[index1]-=1\n",
    "                else:\n",
    "                    res.append(str(index2+1))\n",
    "                    l[index2]-=1\n",
    "        last-=1\n",
    "    print(' '.join(res))"
   ]
  },
  {
   "cell_type": "code",
   "execution_count": null,
   "metadata": {},
   "outputs": [],
   "source": [
    "###改写c代码，有点问题，思路和上面是一样的\n",
    "def find_max_index(arr,n):\n",
    "    idx=-1\n",
    "    max_num=0\n",
    "    for i in range(n):\n",
    "        if arr[i]>max_num:\n",
    "            idx=i\n",
    "            max_num=arr[i]\n",
    "    return idx\n",
    "\n",
    "def dfs(arr,b,n,last,step):\n",
    "    idx=find_max_index(arr,n)\n",
    "    if idx==-1:\n",
    "        return True\n",
    "    if arr[idx]>(m+1)//2:\n",
    "        return False\n",
    "    if arr[idx]==(m+1)//2:\n",
    "        a[idx]-=1\n",
    "        m-=1\n",
    "        b[step]=idx+1\n",
    "        if dfs(arr,b,n,last,step+1):return True\n",
    "        a[idx]+=1\n",
    "        m+=1\n",
    "    else:\n",
    "        for i in range(n):\n",
    "            if arr[i]>0 and (step==0 or b[step-1]!=i+1):\n",
    "                arr[i]-=1\n",
    "                m-=1\n",
    "                b[step]=i+1\n",
    "                if dfs(arr,b,n,last,step+1): return True\n",
    "                arr[i]+=1\n",
    "                m+=1\n",
    "    return False\n",
    "\n",
    "n=int(input())\n",
    "arr=list(map(int,input().split()))\n",
    "last=sum(l)\n",
    "b=[0 for i in range(last)]\n",
    "if dfs(arr,b,n,last,0):\n",
    "    for i in range(last):\n",
    "        print(b[i]+' ')\n",
    "    else:print('-')\n",
    "\n",
    " \n"
   ]
  },
  {
   "cell_type": "markdown",
   "metadata": {},
   "source": [
    "### 43. 拼多多编程题 回合制游戏 （查找/数学/贪心）"
   ]
  },
  {
   "cell_type": "markdown",
   "metadata": {},
   "source": [
    "#### 你在玩一个回合制角色扮演的游戏。现在你在准备一个策略，以便在最短的回合内击败敌方角色。在战斗开始时，敌人拥有HP格血量。当血量小于等于0时，敌人死去。一个缺乏经验的玩家可能简单地尝试每个回合都攻击。但是你知道辅助技能的重要性。在你的每个回合开始时你可以选择以下两个动作之一：聚力或者攻击。聚力会提高你下个回合攻击的伤害。攻击会对敌人造成一定量的伤害。如果你上个回合使用了聚力，那这次攻击会对敌人造成buffedAttack点伤害。否则，会造成normalAttack点伤害。给出血量HP和不同攻击的伤害，buffedAttack和normalAttack，返回你能杀死敌人的最小回合数。"
   ]
  },
  {
   "cell_type": "markdown",
   "metadata": {},
   "source": [
    "******************"
   ]
  },
  {
   "cell_type": "markdown",
   "metadata": {},
   "source": [
    "#### 输入描述:第一行是一个数字HP。第二行是一个数字normalAttack。第三行是一个数字buffedAttack。1 <= HP,buffedAttack,normalAttack <= 10^9\n",
    "#### 输出描述:输出一个数字表示最小回合数"
   ]
  },
  {
   "cell_type": "code",
   "execution_count": null,
   "metadata": {},
   "outputs": [],
   "source": [
    "import math\n",
    " \n",
    "if __name__ == \"__main__\":\n",
    "    hp = int(input().strip())\n",
    "    normalAttack = int(input().strip())\n",
    "    buffedAttack = int(input().strip())\n",
    "    ans = 0\n",
    "    if 2 * normalAttack >= buffedAttack:\n",
    "        ans = math.ceil(hp / normalAttack)\n",
    "    else:\n",
    "        ans = math.floor(hp / buffedAttack) * 2\n",
    "        hp = hp % buffedAttack\n",
    "        if hp > 0: #当蓄力的伤害高于普通伤害的二倍的时候,尽可能多打蓄力伤害，判断最后是不是只需打一次普通伤害就行了\n",
    "            if hp <= normalAttack:\n",
    "                ans += 1\n",
    "            else:\n",
    "                ans += 2\n",
    "    print(ans)"
   ]
  },
  {
   "cell_type": "code",
   "execution_count": null,
   "metadata": {},
   "outputs": [],
   "source": [
    "##mine，用简单的数学推导就可以做\n",
    "##但是ac 95%，考察细致和思路的完整性\n",
    "import math\n",
    "hp=int(input())\n",
    "normal=int(input())\n",
    "buffed=int(input())\n",
    "if buffed<=2*normal:\n",
    "    print(math.ceil(hp/normal))\n",
    "else:\n",
    "    print(math.ceil(hp/buffed)*2)"
   ]
  },
  {
   "cell_type": "markdown",
   "metadata": {},
   "source": [
    "### 44. 腾讯2017编程题 编码 (模拟/字符串）"
   ]
  },
  {
   "cell_type": "markdown",
   "metadata": {},
   "source": [
    "#### 假定一种编码的编码范围是a ~ y的25个字母，从1位到4位的编码，如果我们把该编码按字典序排序，形成一个数组如下： a, aa, aaa, aaaa, aaab, aaac, … …, b, ba, baa, baaa, baab, baac … …, yyyw, yyyx, yyyy 其中a的Index为0，aa的Index为1，aaa的Index为2，以此类推。 编写一个函数，输入是任意一个编码，输出这个编码对应的Index."
   ]
  },
  {
   "cell_type": "markdown",
   "metadata": {},
   "source": [
    "****************"
   ]
  },
  {
   "cell_type": "markdown",
   "metadata": {},
   "source": [
    "#### 输入描述:输入一个待编码的字符串,字符串长度小于等于100.\n",
    "#### 输出描述:输出这个编码的index"
   ]
  },
  {
   "cell_type": "code",
   "execution_count": null,
   "metadata": {},
   "outputs": [],
   "source": [
    "def give_index(string):\n",
    "    map_for_use={'a':1,'b':2,'c':3,'d':4,'e':5,'f':6,\n",
    "             'g':7,'h':8,'i':9,'j':10,'k':11,'l':12,\n",
    "             'm':13,'n':14,'o':15,'p':16,'q':17,'r':18,\n",
    "             's':19,'t':20,'u':21,'v':22,'w':23,'x':24,'y':25}\n",
    "    fixed_num1=1+25+25*25+25*25*25\n",
    "    fixed_num2=1+25+25*25\n",
    "    fixed_num3=1+25\n",
    "    if len(string)==1:\n",
    "        tmp1=(map_for_use[string]-1)*fixed_num1\n",
    "        return(tmp1)\n",
    "    if len(string)==2:\n",
    "        tmp1=(map_for_use[string[0]]-1)*fixed_num1\n",
    "        tmp2=(map_for_use[string[1]]-1)*fixed_num2+1\n",
    "        return(tmp1+tmp2)\n",
    "    if len(string)==3:\n",
    "        tmp1=(map_for_use[string[0]]-1)*fixed_num1\n",
    "        tmp2=(map_for_use[string[1]]-1)*fixed_num2+1\n",
    "        tmp3=(map_for_use[string[2]]-1)*fixed_num3+1\n",
    "        return(tmp1+tmp2+tmp3)\n",
    "    if len(string)==4:\n",
    "        tmp1=(map_for_use[string[0]]-1)*fixed_num1\n",
    "        tmp2=(map_for_use[string[1]]-1)*fixed_num2+1\n",
    "        tmp3=(map_for_use[string[2]]-1)*fixed_num3+1\n",
    "        tmp4=(map_for_use[string[3]]-1)*1+1\n",
    "        return(tmp1+tmp2+tmp3+tmp4)\n",
    "\n",
    "    "
   ]
  },
  {
   "cell_type": "code",
   "execution_count": null,
   "metadata": {},
   "outputs": [],
   "source": [
    "string=input()"
   ]
  },
  {
   "cell_type": "code",
   "execution_count": null,
   "metadata": {},
   "outputs": [],
   "source": [
    "print(give_index(string))"
   ]
  },
  {
   "cell_type": "markdown",
   "metadata": {},
   "source": [
    "### 45. 小红书编程题 薯券使用问题  （一个压缩状态的dp）"
   ]
  },
  {
   "cell_type": "code",
   "execution_count": null,
   "metadata": {},
   "outputs": [],
   "source": [
    "str = list(input().split())\n",
    "amount = int(str[0])\n",
    "coins = list(map(int, str[1].lstrip(\"[\").rstrip(\"]\").split(\",\")))\n",
    "dp = [0] * (amount + 1)\n",
    "dp[0] = 1\n",
    "for coin in coins:\n",
    "    for i in range(amount - coin + 1):\n",
    "        dp[i + coin] += dp[i]\n",
    "print(dp[amount])\n",
    "\n"
   ]
  },
  {
   "cell_type": "markdown",
   "metadata": {},
   "source": [
    "### 46. 腾讯2017编程题 geohash编码"
   ]
  },
  {
   "cell_type": "markdown",
   "metadata": {},
   "source": [
    "##### geohash编码：geohash常用于将二维的经纬度转换为字符串，分为两步：第一步是经纬度的二进制编码，第二步是base32转码。此题考察纬度的二进制编码：算法对纬度[-90, 90]通过二分法进行无限逼近（取决于所需精度，本题精度为6）。注意，本题进行二分法逼近过程中只采用向下取整来进行二分，针对二分中间值属于右区间。算法举例如下： 针对纬度为80进行二进制编码过程：\n",
    "##### 1) 区间[-90, 90]进行二分为[-90, 0),[0, 90]，成为左右区间，可以确定80为右区间，标记为1；\n",
    "##### 2) 针对上一步的右区间[0, 90]进行二分为[0, 45),[45, 90]，可以确定80是右区间，标记为1；\n",
    "##### 3) 针对[45, 90]进行二分为[45, 67),[67,90],可以确定80为右区间，标记为1；\n",
    "##### 4) 针对[67,90]进行二分为[67, 78),[78,90]，可以确定80为右区间，标记为1；\n",
    "##### 5) 针对[78, 90]进行二分为[78, 84),[84, 90]，可以确定80为左区间，标记为0；\n",
    "##### 6) 针对[78, 84)进行二分为[78, 81), [81, 84)，可以确定80为左区间，标记为0；\n"
   ]
  },
  {
   "cell_type": "markdown",
   "metadata": {},
   "source": [
    "******************"
   ]
  },
  {
   "cell_type": "markdown",
   "metadata": {},
   "source": [
    "##### 输入描述:输入包括一个整数n,(-90 ≤ n ≤ 90)\n",
    "##### 输出描述:输出二进制编码"
   ]
  },
  {
   "cell_type": "code",
   "execution_count": null,
   "metadata": {},
   "outputs": [],
   "source": [
    "s = int(input())\n",
    "ans = ''\n",
    "start = -90\n",
    "end = 90\n",
    "for i in range(6):\n",
    "    mid = int((start+end)/2)\n",
    "    if s<mid:\n",
    "        ans+='0'\n",
    "        end = mid\n",
    "    elif s>=mid:\n",
    "        ans+='1'\n",
    "        start = mid\n",
    "print(ans)\n"
   ]
  },
  {
   "cell_type": "markdown",
   "metadata": {},
   "source": [
    "### 47. 度小满笔试编程题 链式边权 （分治/查找/数学）"
   ]
  },
  {
   "cell_type": "markdown",
   "metadata": {},
   "source": [
    "#### n个点连成一条链，从左往右依次从1到n编号。相邻点之间有边相连，一共有n-1条边。所有的边从1到n-1编号，第i条边连接了点i和i+1。第i个点有点权ai，定义第i条边的权重为wi：有多少点对x，y满足在第i条边的左侧（x≤i），y在第i条边的右侧（y>i），且x和y的点权不同。给出每个点的点权，请求出所有边的边权。"
   ]
  },
  {
   "cell_type": "markdown",
   "metadata": {},
   "source": [
    "***************"
   ]
  },
  {
   "cell_type": "markdown",
   "metadata": {},
   "source": [
    "#### 输入描述:第一行输入一个数n。(2≤n≤100000)  第二行输入n个数，a1,a2,…,an (1≤ai≤109)\n",
    "#### 输出描述:输出n-1个数，依次为每条边的权重，不要在行末输出多余的空格。"
   ]
  },
  {
   "cell_type": "code",
   "execution_count": null,
   "metadata": {},
   "outputs": [],
   "source": [
    "\n",
    "import collections\n",
    "n = eval(input())\n",
    "a = list(map(int,input().split()))\n",
    "  \n",
    "lw = collections.Counter()\n",
    "l_count = 0\n",
    "rw = collections.Counter(a)\n",
    "r_count = n\n",
    "res = [0] * (n-1)\n",
    "for i in range(n-1):\n",
    "    lw[a[i]] += 1\n",
    "    l_count += 1\n",
    "    rw[a[i]] -= 1\n",
    "    r_count -= 1\n",
    "    res[i] = res[i-1] + (r_count - rw[a[i]]) - (l_count - lw[a[i]]) ##这个状态转移方程有点难想\n",
    "print( ' '.join(map(str,res)))"
   ]
  },
  {
   "cell_type": "markdown",
   "metadata": {},
   "source": [
    "### 48. 度小满笔试编程题 商品交易"
   ]
  },
  {
   "cell_type": "markdown",
   "metadata": {},
   "source": [
    "#### 珐达采下个月要去鸥洲各国考察一趟，采购流通神秘石并从中搞点油水。珐达采会按顺序依次经过序号分别为1, 2, 3, …, n的鸥洲国家，在第i个国家神秘石的流通价格为Ai鸥。因为行程紧张，在每个国家的停留时间有限，所以他只能花费Ai鸥买入一块神秘石，或者卖出一块手中的神秘石获得Ai鸥，或者什么都不做，而且因为神秘石的保存需要极其先进的高级材料容器，其材料稀有且制作困难，珐达采只有一份容器，故无论何时珐达采手里 最多只能拥有一块神秘石。珐达采想知道最终能从中获利最大多少鸥。因为交易需要手续费，所以珐达采还想知道在获利最大收益的同时，最少需要交易多少次。因为珐达采是大财阀，所以你可以认为他一开始金钱无限。\n"
   ]
  },
  {
   "cell_type": "markdown",
   "metadata": {},
   "source": [
    "*************"
   ]
  },
  {
   "cell_type": "markdown",
   "metadata": {},
   "source": [
    "#### 输入描述:第一行一个数n。（1≤n≤100000）第二行n个数，第i个数表示Ai。（1≤Ai≤1e9）\n",
    "#### 输出描述:共一行，两个数，分别代表最大收益和对应的最少交易次数。"
   ]
  },
  {
   "cell_type": "code",
   "execution_count": null,
   "metadata": {},
   "outputs": [],
   "source": [
    "## 思路：找出相邻的波谷和波峰"
   ]
  },
  {
   "cell_type": "code",
   "execution_count": null,
   "metadata": {},
   "outputs": [],
   "source": [
    "n = int(input())\n",
    "num = list(map(int, input().split()))\n",
    "deal = 0\n",
    "profit = 0\n",
    "cnt = 0\n",
    "for i in range(1,n):\n",
    "    if num[i] > num[i-1]:\n",
    "        profit += num[i]-num[i-1]\n",
    "        if deal == 0:\n",
    "            cnt += 1\n",
    "        deal = 1\n",
    "    if num[i] < num[i-1]:\n",
    "        cnt += deal\n",
    "        deal = 0\n",
    "print(profit,cnt+deal)"
   ]
  },
  {
   "cell_type": "code",
   "execution_count": null,
   "metadata": {},
   "outputs": [],
   "source": [
    "##自己再写一遍\n",
    "n=int(input())\n",
    "num=[int(i) for i in input().split()]\n",
    "profit=0\n",
    "count=0\n",
    "deal=0\n",
    "for i in range(1,n):    ##要根据后面的情况才能确定是否要在前面某时刻买下神秘石\n",
    "    if num[i]>num[i-1]:\n",
    "        profit+=num[i]-num[i-1]\n",
    "        if deal==0:    ##如果说没买神秘石\n",
    "            count+=1   #买下它，交易数加1\n",
    "        deal=1         #拥有了神秘石\n",
    "    if num[i]<num[i-1]: #如果后面降价\n",
    "        count+=deal     #拥有神秘石就卖，没有神秘石就不交易\n",
    "        deal=0\n",
    "print(profit,count)"
   ]
  },
  {
   "cell_type": "markdown",
   "metadata": {},
   "source": [
    "### 49. 2020腾讯笔试 健身房"
   ]
  },
  {
   "cell_type": "markdown",
   "metadata": {},
   "source": [
    "#### 公司给小Q放了n天的假，他有个奇怪的习惯：不会连续两天工作或锻炼，只有当公司开业，小q才能去工作，只有当健身房营业 ，小q才能去健身，小q一天只能干一件事，给出放假天数，公司和健身房的营业情况，求小q最少需要休息几天"
   ]
  },
  {
   "cell_type": "markdown",
   "metadata": {},
   "source": [
    "#### 输入描述：第一行一个数表示放假天数n; 第二行n个数表示公司是否营业；第三行n个数表示健身房是否营业（1为营业0为不营业）"
   ]
  },
  {
   "cell_type": "code",
   "execution_count": null,
   "metadata": {},
   "outputs": [],
   "source": [
    "###这是一个在每个节点选择与不选择的问题，并且是求最优问题，可以用动态规划。"
   ]
  },
  {
   "cell_type": "code",
   "execution_count": null,
   "metadata": {},
   "outputs": [],
   "source": [
    "n=int(input())\n",
    "work=[int(i) for i in input().split()]\n",
    "keep=[int(i) for i in input().split()]"
   ]
  },
  {
   "cell_type": "code",
   "execution_count": null,
   "metadata": {},
   "outputs": [],
   "source": [
    "dp=[[0 for _ in range(n)] for _ in range(3)]#0表示第i天只能休息，1表示第i天上班，2表示第i天健身\n",
    "dp[0][0]=1\n",
    "if work[0]==1:\n",
    "    dp[1][0]=0\n",
    "if keep[0]==1:\n",
    "    dp[2][0]=0\n",
    "for i in range(1,n):\n",
    "    ##第i天工作\n",
    "    if work[i]==1:\n",
    "        if keep[i-1]==1:\n",
    "            dp[1][i]=min(dp[0][i-1],dp[2][i-1])\n",
    "        else:\n",
    "            dp[1][i]=dp[0][i-1]\n",
    "    else:\n",
    "        dp[1][i]=n\n",
    "    ##第i天健身    \n",
    "    if keep[i]==1:\n",
    "        if work[i-1]==1:\n",
    "            dp[2][i]=min(dp[0][i-1],dp[1][i-1])\n",
    "        else:\n",
    "            dp[2][i]=dp[0][i-1]\n",
    "    else:\n",
    "        dp[2][i]=n\n",
    "        \n",
    "    min_num=dp[0][i-1]\n",
    "    if work[i-1]==1:\n",
    "        min_num=min(min_num,dp[1][i-1])\n",
    "    if keep[i-1]==1:\n",
    "        min_num=min(min_num,dp[2][i-1])\n",
    "    dp[0][i]=min_num+1\n",
    "    #print(dp[0][i],dp[1][i],dp[2][i])\n",
    "        \n",
    "print(min(dp[0][n-1],dp[1][n-1],dp[2][n-1]))"
   ]
  },
  {
   "cell_type": "markdown",
   "metadata": {},
   "source": [
    "### 50. 2020腾讯笔试 冰淇淋"
   ]
  },
  {
   "cell_type": "markdown",
   "metadata": {},
   "source": [
    "#### 做冰淇淋需要 n 种原料，现每种原料有存货 W = [w1, w2, ...] 个，对应的价格 V = [v1, v2, ...]。存货用完就需要去商店买，现共有钱 M 元。问，总共能做多少冰淇淋。"
   ]
  },
  {
   "cell_type": "code",
   "execution_count": null,
   "metadata": {},
   "outputs": [],
   "source": [
    "#n=3;m=10\n",
    "#w = [5, 5, 5]\n",
    "#v = [2, 1, 3]\n",
    "n,m=(int(i) for i in input().split())\n",
    "w=[int(i) for i in input().split()]\n",
    "v=[int(i) for i in input().split()]\n",
    "\n",
    "def solution(n,m,w,v):\n",
    "    least=min(w)\n",
    "    max_w=max(w); add=m//sum(v)\n",
    "    most=max_w+add\n",
    "\n",
    "    while least<=most:\n",
    "        mid=(least+most)>>1\n",
    "        price=0\n",
    "        for i in range(n):\n",
    "            if mid-w[i]>0:\n",
    "                price+=(mid-w[i])*v[i]\n",
    "        if price<m:\n",
    "            least=mid+1\n",
    "        elif price>m:\n",
    "            most=mid-1\n",
    "        else:\n",
    "            return mid\n",
    "    return least-1\n",
    "            \n",
    "\n",
    "print(solution(n,m,w,v))"
   ]
  },
  {
   "cell_type": "code",
   "execution_count": null,
   "metadata": {},
   "outputs": [],
   "source": [
    "##别人的\n",
    "def fun(W, V, M):\n",
    "    map =list(zip(W, V))\n",
    "    map = sorted(map, key=lambda x: (x[0], x[1]))  # 先按个数排序，再按价格排序\n",
    "    W = [x[0] for x in map]\n",
    "    V = [x[1] for x in map]\n",
    "    res = W[0]  # 最少能做的个数\n",
    "    curSum = V[0]  # 当前总价\n",
    "    i = 0\n",
    "    while i <= len(W) - 2:  # 遍历到倒数第二个元素位置\n",
    "        while W[i+1] == W[i]: # 若与后面的存货相等，则要将后面的价格加入curSum\n",
    "            curSum += V[i + 1]\n",
    "            i += 1\n",
    "            if i == len(W) - 1:  # 若已经遍历到最后一个了，说明后面的所有存货都相等了。直接统一计算即可。\n",
    "                res += M // curSum\n",
    "                return res\n",
    "        if M - curSum * (W[i + 1] - W[i]) >= 0:  # 如果买得起就买\n",
    "            res += W[i+1] - W[i]\n",
    "            M -= curSum * (W[i + 1] - W[i])\n",
    "        else:  # 否则能买多少买多少\n",
    "            res += M // curSum\n",
    "        curSum += V[i + 1]  # 滚动增加当前总价\n",
    "        i += 1\n",
    "    # 若存货已全部消耗完时，还有余额，则所有统一购买。\n",
    "    res += M // curSum\n",
    "    return res\n",
    "W = [5, 5, 5]\n",
    "V = [2, 1, 3]\n",
    "m = 10\n",
    "print(fun(W, V, m))"
   ]
  },
  {
   "cell_type": "markdown",
   "metadata": {},
   "source": [
    "### 51. 2020腾讯笔试 拔栏杆"
   ]
  },
  {
   "cell_type": "markdown",
   "metadata": {},
   "source": [
    "#### 找连续的和为最小的序列"
   ]
  },
  {
   "cell_type": "code",
   "execution_count": null,
   "metadata": {},
   "outputs": [],
   "source": [
    "##实质就是一直在和第一个数做差，差最大的那个就是答案"
   ]
  },
  {
   "cell_type": "code",
   "execution_count": null,
   "metadata": {},
   "outputs": [],
   "source": [
    "n, k = list(map(int, input().split()))\n",
    "h = list(map(int, input().split()))\n",
    "idxMinimum = 1\n",
    "if n == k:\n",
    "    pass\n",
    "else:\n",
    "    cha = [h[k] - h[0]]\n",
    "    for i in range(2, n-k+1):\n",
    "        cha.append(h[i+k-1] - h[i-1] + cha[-1])\n",
    " \n",
    "    idxMinimum = cha.index(min(cha)) + 2\n",
    "print(idxMinimum)"
   ]
  },
  {
   "cell_type": "code",
   "execution_count": null,
   "metadata": {},
   "outputs": [],
   "source": [
    "##考试时我的思路完全错了，要用巧妙的方式储存每个滑动窗口的值！！！！！"
   ]
  },
  {
   "cell_type": "markdown",
   "metadata": {},
   "source": [
    "### 52. b站2019编程题 扭蛋机"
   ]
  },
  {
   "cell_type": "markdown",
   "metadata": {},
   "source": [
    "#### 22娘和33娘接到了小电视君的扭蛋任务：一共有两台扭蛋机，编号分别为扭蛋机2号和扭蛋机3号，22娘使用扭蛋机2号，33娘使用扭蛋机3号。扭蛋机都不需要投币，但有一项特殊能力：扭蛋机2号：如果塞x（x范围为>=0正整数）个扭蛋进去，然后就可以扭到2x+1个；扭蛋机3号：如果塞x（x范围为>=0正整数）个扭蛋进去，然后就可以扭到2x+2个。22娘和33娘手中没有扭蛋，需要你帮她们设计一个方案，两人“轮流扭”（谁先开始不限，扭到的蛋可以交给对方使用），用“最少”的次数，使她们能够最后恰好扭到N个交给小电视君。"
   ]
  },
  {
   "cell_type": "markdown",
   "metadata": {},
   "source": [
    "#### 输入描述:输入一个正整数，表示小电视君需要的N个扭蛋。\n",
    "#### 输出描述:输出一个字符串，每个字符表示扭蛋机，字符只能包含\"2\"和\"3\"。"
   ]
  },
  {
   "cell_type": "code",
   "execution_count": null,
   "metadata": {},
   "outputs": [],
   "source": [
    "N=int(input())\n",
    "result=''\n",
    "while N>2:\n",
    "    if N%2==0:\n",
    "        result+='3'\n",
    "        N=(N-2)>>1\n",
    "    if N%2==1:\n",
    "        result+='2'\n",
    "        N=(N-1)>>1\n",
    "if N==2:\n",
    "    result+='3'\n",
    "if N==1:\n",
    "    result+='2'\n",
    "print(result[::-1])   "
   ]
  },
  {
   "cell_type": "markdown",
   "metadata": {},
   "source": [
    "### 53. b站2019编程题 脸滚键盘"
   ]
  },
  {
   "cell_type": "markdown",
   "metadata": {},
   "source": [
    "#### av394281 中，充满威严的蕾米莉亚大小姐因为触犯某条禁忌，被隙间妖怪八云紫（紫m……èi）按住头在键盘上滚动。同样在弹幕里乱刷梗被紫姐姐做成罪袋的你被指派找到大小姐脸滚键盘打出的一行字中的第 `k` 个仅出现一次的字。(为简化问题，大小姐没有滚出 ascii 字符集以外的字)\n"
   ]
  },
  {
   "cell_type": "markdown",
   "metadata": {},
   "source": [
    "***************"
   ]
  },
  {
   "cell_type": "markdown",
   "metadata": {},
   "source": [
    "#### 输入描述:每个输入都有若干行，每行的第一个数字为`k`，表示求第`k`个仅出现一次的字。然后间隔一个半角空格，之后直到行尾的所有字符表示大小姐滚出的字符串`S`。\n",
    "#### 输出描述:输出的每一行对应输入的每一行的答案，如果无解，输出字符串`Myon~` (请不要输出多余的空行） 为了方便评测，如果答案存在且为c，请输出[c]"
   ]
  },
  {
   "cell_type": "code",
   "execution_count": null,
   "metadata": {},
   "outputs": [],
   "source": [
    "# 输入例子1:\n",
    "# 2 misakamikotodaisuki\n",
    "# 3 !bakabaka~ bakabaka~ 1~2~9!\n",
    "# 3 3.1415926535897932384626433832795028841971693993751o582097494459211451488946419191919l91919hmmhmmahhhhhhhhhh\n",
    "# 7 www.bilibili.com/av170001\n",
    "# 1 111\n",
    "# 输出例子1:\n",
    "# [d]\n",
    "# [9]\n",
    "# [l]\n",
    "# [7]\n",
    "# Myon~"
   ]
  },
  {
   "cell_type": "code",
   "execution_count": null,
   "metadata": {},
   "outputs": [],
   "source": [
    "import sys\n",
    "def kAndsInput(Tmp):\n",
    "    for i in range(len(Tmp)):\n",
    "        if Tmp[i] == ' ':\n",
    "            break\n",
    "    k = int(Tmp[0:i])\n",
    "    s = Tmp[i+1:]\n",
    "    return k, s\n",
    "def select_kth(s,k):\n",
    "    if not s:\n",
    "        return 'Myon~'\n",
    "    dic = {}\n",
    "    for i in s:\n",
    "        dic[i] = dic.get(i,0)+1\n",
    "    l = 0\n",
    "    while l<len(s):\n",
    "        if dic[s[l]]==1:\n",
    "            k -= 1\n",
    "            if k==0:\n",
    "                return '['+s[l]+']'\n",
    "        l += 1\n",
    "    return 'Myon~'\n",
    "if __name__=='__main__':\n",
    "    Tmp = []\n",
    "    try:\n",
    "        while True:\n",
    "            line = sys.stdin.readline().strip()\n",
    "            if line == '':\n",
    "                break\n",
    "            Tmp.append(line)\n",
    "    except:\n",
    "        pass\n",
    "    for i in range(len(Tmp)):\n",
    "        k,string = kAndsInput(Tmp[i])\n",
    "        print(select_kth(string,k))"
   ]
  },
  {
   "cell_type": "markdown",
   "metadata": {},
   "source": [
    "### 54. b站2019编程题 小A最多会新认识的多少人"
   ]
  },
  {
   "cell_type": "markdown",
   "metadata": {},
   "source": [
    "#### 小A参加了一个n人的活动，每个人都有一个唯一编号i(i>=0 & i<n)，其中m对相互认识，在活动中两个人可以通过互相都认识的一个人介绍认识。现在问活动结束后，小A最多会认识多少人？"
   ]
  },
  {
   "cell_type": "markdown",
   "metadata": {},
   "source": [
    "**********"
   ]
  },
  {
   "cell_type": "markdown",
   "metadata": {},
   "source": [
    "#### 输入描述:第一行聚会的人数：n（n>=3 & n<10000）；第二行小A的编号: ai（ai >= 0 & ai < n)；第三互相认识的数目: m（m>=1 & m< n(n-1)/2）；第4到m+3行为互相认识的对，以','分割的编号。\n",
    "#### 输出描述:输出小A最多会新认识的多少人？"
   ]
  },
  {
   "cell_type": "code",
   "execution_count": null,
   "metadata": {},
   "outputs": [],
   "source": [
    "##该输入方式ac率为80%\n",
    "n = int(input())\n",
    "A = int(input())\n",
    "m = int(input())\n",
    "dic = {}\n",
    "for i in range(m):\n",
    "    [x1,x2] = map(int,input().split(','))\n",
    "    if x1 in dic:\n",
    "        dic[x1].add(x2)\n",
    "    else:\n",
    "        dic[x1] = set({x2})\n",
    "    if x2 in dic:\n",
    "        dic[x2].add(x1)\n",
    "    else:\n",
    "        dic[x2] = set({x1})\n",
    "temp = set()\n",
    "pre = len(dic[A])\n",
    "while temp != dic[A]:\n",
    "    cha = dic[A]-temp\n",
    "    temp = dic[A]\n",
    "    for j in [dic[i] for i in cha]:\n",
    "        dic[A] = dic[A]|j\n",
    "print(len([i for i in list(dic[A]) if i !=A])-pre)"
   ]
  },
  {
   "cell_type": "code",
   "execution_count": null,
   "metadata": {},
   "outputs": [],
   "source": [
    "##该输入方式ac率为93.3%\n",
    "##这个好懂一点\n",
    "import sys\n",
    "n = int(sys.stdin.readline().strip())\n",
    "A = int(sys.stdin.readline().strip())\n",
    "m = int(sys.stdin.readline().strip())\n",
    "dic = {}\n",
    "for i in range(m):    ##这步属于构建邻接链表\n",
    "    [x1,x2] = map(int,sys.stdin.readline().strip().split(','))\n",
    "    if x1 in dic:\n",
    "        dic[x1].add(x2)\n",
    "    else:\n",
    "        dic[x1] = set({x2})\n",
    "    if x2 in dic:\n",
    "        dic[x2].add(x1)\n",
    "    else:\n",
    "        dic[x2] = set({x1})\n",
    "temp = set()\n",
    "pre = len(dic[A])\n",
    "while temp != dic[A]:\n",
    "    cha = dic[A]-temp\n",
    "    temp = dic[A]\n",
    "    for j in [dic[i] for i in cha]:\n",
    "        dic[A] = dic[A]|j     ## | 这个符号用于集合中表示并集\n",
    "print(len([i for i in list(dic[A]) if i !=A])-pre)"
   ]
  },
  {
   "cell_type": "code",
   "execution_count": null,
   "metadata": {},
   "outputs": [],
   "source": [
    "##同样ac率93.3%\n",
    "\n",
    "people = int(input())\n",
    "target = int(input())\n",
    "t = int(input())\n",
    "parent = [i for i in range(people)]\n",
    "rank = [1] * people\n",
    "def find(x):\n",
    "    if parent[x] != x:\n",
    "        parent[x] = find(parent[x])\n",
    "    return parent[x]\n",
    " \n",
    "def union(x, y):\n",
    "    px, py = find(x), find(y)\n",
    "    if px != py:\n",
    "        if rank[px] >= rank[py]:\n",
    "            rank[px] += rank[py]\n",
    "            parent[py] = px\n",
    "        else:\n",
    "            parent[px] = py\n",
    "            rank[py] += rank[px]\n",
    "seen = set()\n",
    "for _ in range(t):\n",
    "    p1, p2 = list(map(int, input().split(',')))\n",
    "    union(p1, p2)\n",
    "    if p1 == target:\n",
    "        seen.add(p2)\n",
    "    elif p2 == target:\n",
    "        seen.add(p1)\n",
    "if len(seen) == 0:\n",
    "    print(0)\n",
    "count = 0\n",
    "root= find(target)\n",
    "for i in range(people):\n",
    "    if find(i) == root:\n",
    "        count += 1\n",
    "print(count - 1 - len(seen))"
   ]
  },
  {
   "cell_type": "markdown",
   "metadata": {},
   "source": [
    "### 55. b站2019编程题 简单表达式计算"
   ]
  },
  {
   "cell_type": "markdown",
   "metadata": {},
   "source": [
    "#### 给定一个合法的表达式字符串，其中只包含非负整数、加法、减法以及乘法符号（不会有括号），例如7+3*4*5+2+4-3-1，请写程序计算该表达式的结果并输出；"
   ]
  },
  {
   "cell_type": "markdown",
   "metadata": {},
   "source": [
    "#### 输入描述:输入有多行，每行是一个表达式，输入以END作为结束\n",
    "#### 输出描述:每行表达式的计算结果"
   ]
  },
  {
   "cell_type": "code",
   "execution_count": null,
   "metadata": {},
   "outputs": [],
   "source": [
    "#法一：直接eval\n",
    "while True:\n",
    "    try:\n",
    "        s = input()\n",
    "        if s != \"END\":\n",
    "            print(eval(s))\n",
    "    except:\n",
    "        break"
   ]
  },
  {
   "cell_type": "code",
   "execution_count": null,
   "metadata": {},
   "outputs": [],
   "source": [
    "#法二： exec()\n",
    "\n",
    "def main():\n",
    "    while 1:\n",
    "        i = input()\n",
    "        if i == \"END\":\n",
    "            break\n",
    "        exec(\"print(\"+i+\")\")\n",
    " \n",
    "if __name__==\"__main__\":\n",
    "    main()\n"
   ]
  },
  {
   "cell_type": "code",
   "execution_count": null,
   "metadata": {},
   "outputs": [],
   "source": [
    "#法三\n",
    "def getdigit(s):\n",
    "    k = 0\n",
    "    while k < len(s) and s[k].isdigit():\n",
    "        k += 1\n",
    "    num = int(s[:k])\n",
    "    return num, k\n",
    " \n",
    "while True:\n",
    "    try:\n",
    "        s = input()\n",
    "        #if s != \"END\":\n",
    "        #    print(eval(s))\n",
    "        flag = 1\n",
    "        res = []\n",
    "        i = 0\n",
    "        while i < len(s):\n",
    "            if s[i] == \"+\":\n",
    "                flag = 1\n",
    "                i += 1\n",
    "            elif s[i] == \"-\":\n",
    "                flag = -1\n",
    "                i += 1\n",
    "            elif s[i] == \"*\":\n",
    "                num, k = getdigit(s[i+1:])\n",
    "                i += k+1\n",
    "                res[-1] *= num\n",
    "            else:\n",
    "                num, k = getdigit(s[i:])\n",
    "                res.append(flag*num)\n",
    "                i += k\n",
    "                flag = 1\n",
    "        print(sum(res))\n",
    "    except:\n",
    "        break"
   ]
  },
  {
   "cell_type": "code",
   "execution_count": null,
   "metadata": {},
   "outputs": [],
   "source": [
    "#法四：递归\n",
    "import sys\n",
    "def cal(s):\n",
    "    if '+' in s:\n",
    "        res = 0\n",
    "        for i in s.split('+'):\n",
    "            res += cal(i)\n",
    "        return res\n",
    "    if '-' in s:\n",
    "        temp = s.split('-')\n",
    "        res = cal(temp[0])\n",
    "        for i in temp[1:]:\n",
    "            res -= cal(i)\n",
    "        return res      \n",
    "    if '*' in s:\n",
    "        res = 1\n",
    "        for i in s.split('*'):\n",
    "            res *= int(i)\n",
    "        return res\n",
    "    return int(s)\n",
    "while True:\n",
    "    s = sys.stdin.readline().strip()\n",
    "    if s == 'END':\n",
    "        break\n",
    "    print(cal(s))"
   ]
  },
  {
   "cell_type": "markdown",
   "metadata": {},
   "source": [
    "### 56. b站2019编程题 山寨金闪闪"
   ]
  },
  {
   "cell_type": "markdown",
   "metadata": {},
   "source": [
    "#### 金闪闪死后，红A拿到了王之财宝，里面有n个武器，长度各不相同。红A发现，拿其中三件武器首尾相接，组成一个三角形，进行召唤仪式，就可以召唤出一个山寨金闪闪。（例如，三件武器长度为10、15、20，可以召唤成功。若长度为10、11、30，首尾相接无法组成三角形，召唤失败。）红A于是开了一个金闪闪专卖店。他把王之财宝排成一排，每个客人会随机抽取到一个区间[l,r],客人可以选取区间里的三件武器进行召唤（客人都很聪慧，如果能找出来合适的武器，一定不会放过）。召唤结束后，客人要把武器原样放回去。m个客人光顾以后，红A害怕过多的金闪闪愉悦太多男人，于是找到了你，希望你帮他统计出有多少山寨金闪闪被召唤出来。"
   ]
  },
  {
   "cell_type": "markdown",
   "metadata": {},
   "source": [
    "**************"
   ]
  },
  {
   "cell_type": "markdown",
   "metadata": {},
   "source": [
    "#### 输入描述:第一行武器数量:n <= 1*10^7。第二行空格分隔的n个int，表示每件武器的长度。第三行顾客数量：m <= 1*10^6。后面m行，每行两个int l，r，表示每个客人被分配到的区间。（l<r）\n",
    "#### 输出描述:山寨金闪闪数量。"
   ]
  },
  {
   "cell_type": "code",
   "execution_count": null,
   "metadata": {},
   "outputs": [],
   "source": [
    "n=int(input())\n",
    "f=[int(x) for x in input().split()]\n",
    "m=int(input())\n",
    "sum=0\n",
    "for _ in range(m):\n",
    "    lr=input().split()\n",
    "    l=int(lr[0])-1\n",
    "    r=int(lr[1])-1\n",
    "    if(r-l+1>=47):\n",
    "        sum+=1\n",
    "    else:\n",
    "        num=f[l:r+1]\n",
    "        num.sort()\n",
    "        for i in range(0,len(num)-2):\n",
    "            if num[i]+num[i+1]>num[i+2]:\n",
    "                sum+=1\n",
    "                break\n",
    "print(sum)"
   ]
  },
  {
   "cell_type": "markdown",
   "metadata": {},
   "source": [
    "### 57. 快手编程题 将满二叉树转换为求和树"
   ]
  },
  {
   "cell_type": "code",
   "execution_count": null,
   "metadata": {},
   "outputs": [],
   "source": [
    "给满出二叉树，编写算法将其转化为求和树\n",
    "\n",
    "什么是求和树：二叉树的求和树， 是一颗同样结构的二叉树，其树中的每个节点将包含原始树中的左子树和右子树的和。\n",
    "\n",
    "二叉树：\n",
    "                  10\n",
    "               /      \\\n",
    "             -2        6\n",
    "           /   \\      /  \\ \n",
    "          8    -4    7    5\n",
    "\n",
    "求和树：\n",
    "                 20(4-2+12+6)\n",
    "               /      \\\n",
    "           4(8-4)      12(7+5)\n",
    "            /   \\      /  \\ \n",
    "          0      0    0    0\n",
    "\n",
    "二叉树给出前序和中序输入，求和树要求中序输出；\n",
    "所有处理数据不会大于int；"
   ]
  },
  {
   "cell_type": "markdown",
   "metadata": {},
   "source": [
    "#### 输入描述:2行整数，第1行表示二叉树的前序遍历，第2行表示二叉树的中序遍历，以空格分割\n",
    "#### 输出描述:1行整数，表示求和树的中序遍历，以空格分割\n"
   ]
  },
  {
   "cell_type": "code",
   "execution_count": null,
   "metadata": {},
   "outputs": [],
   "source": [
    "输入\n",
    "10 -2 8 -4 6 7 5\n",
    "8 -2 -4 10 7 6 5\n",
    "输出\n",
    "0 4 0 20 0 12 0"
   ]
  },
  {
   "cell_type": "code",
   "execution_count": null,
   "metadata": {},
   "outputs": [],
   "source": [
    "\"\"\"\n",
    "本题有如下规律：\n",
    "求和树的根节点 = 除本身外原二叉树所有子节点之和，\n",
    "本题中根节点为中序遍历数组中正中间项（满二叉树）\n",
    "递归求得左右子树，直到子树节点个数为1返回[0]。\n",
    "需要考虑根节点在两侧的情况，树节点个数为0时，返回空[]\n",
    "\"\"\"\n",
    "def func(d):\n",
    "    if len(d) == 1: return [0]  ##先设好终止条件\n",
    "    #elif len(d) == 0: return []\n",
    "    mid = len(d) // 2  # 满二叉树根节点即正中间数值，前序遍历数组本题中用不到，可删除\n",
    "    return func(d[:mid]) + [sum(d[:]) - d[mid]] + func(d[mid + 1:])\n",
    " \n",
    "if __name__ == \"__main__\":\n",
    "    a = list(map(int, input().strip().split()))\n",
    "    d = list(map(int, input().strip().split()))\n",
    "    ans = func(d)\n",
    "    print(' '.join(map(str, ans)))"
   ]
  },
  {
   "cell_type": "code",
   "execution_count": null,
   "metadata": {},
   "outputs": [],
   "source": [
    "\"\"\"\n",
    "不考虑满二叉树的性质，但需满足，二叉树节点数值各不相同。本测试用例也可通过\n",
    " \n",
    "\"\"\"\n",
    "import sys\n",
    " \n",
    "def func(a, d):\n",
    "    if len(a) == 1:\n",
    "        return [0]\n",
    "    elif len(a) == 0:\n",
    "        return []\n",
    "    mid = d.index(a[0])\n",
    "    d[mid] = sum(d[:]) - d[mid]\n",
    "    return func(a[1:(mid + 1)], d[:mid]) + \\\n",
    "           [sum(d[:]) - d[mid]] + \\\n",
    "           func(a[(mid + 1):], d[mid + 1:])\n",
    " \n",
    "if __name__ == \"__main__\":\n",
    "    # sys.stdin = open('input.txt', 'r')\n",
    "    a = list(map(int, input().strip().split()))\n",
    "    d = list(map(int, input().strip().split()))\n",
    "    ans = func(a, d)\n",
    "    print(' '.join(map(str, ans)))"
   ]
  },
  {
   "cell_type": "markdown",
   "metadata": {},
   "source": [
    "### 58. 快手编程题 搭积木"
   ]
  },
  {
   "cell_type": "markdown",
   "metadata": {},
   "source": [
    "#### 小明有一袋子长方形的积木，如果一个积木A的长和宽都不大于另外一个积木B的长和宽，则积木A可以搭在积木B的上面。好奇的小明特别想知道这一袋子积木最多可以搭多少层，你能帮他想想办法吗？定义每一个长方形的长L和宽W都为正整数，并且1 <= W <= L <= INT_MAX, 袋子里面长方形的个数为N, 并且 1 <= N <= 1000000.假如袋子里共有5个积木分别为 (2, 2), (2, 4), (3, 3), (2, 5), (4, 5), 则不难判断这些积木最多可以搭成4层, 因为(2, 2) < (2, 4) < (2, 5) < (4, 5)。\n"
   ]
  },
  {
   "cell_type": "markdown",
   "metadata": {},
   "source": [
    "*************"
   ]
  },
  {
   "cell_type": "markdown",
   "metadata": {},
   "source": [
    "#### 输入描述:第一行为积木的总个数 N。之后一共有N行，分别对应于每一个积木的宽W和长L\n",
    "#### 输出描述:输出总共可以搭的层数"
   ]
  },
  {
   "cell_type": "code",
   "execution_count": null,
   "metadata": {},
   "outputs": [],
   "source": [
    "输入\n",
    "5\n",
    "2 2\n",
    "2 4\n",
    "3 3\n",
    "2 5\n",
    "4 5\n",
    "输出\n",
    "4"
   ]
  },
  {
   "cell_type": "code",
   "execution_count": null,
   "metadata": {},
   "outputs": [],
   "source": [
    "##思路：相当于求一个列表的最大不减子序列长度"
   ]
  },
  {
   "cell_type": "code",
   "execution_count": null,
   "metadata": {},
   "outputs": [],
   "source": [
    "##我自己写一遍\n",
    "import bisect\n",
    "n=int(input())\n",
    "p=[]\n",
    "for _ in range(n):\n",
    "    w,l= map(int,input().split())\n",
    "    p.append((w,l))\n",
    "p.sort(key=lambda x:x[0])\n",
    "dp=[p[0][1]]\n",
    "for i in range(1,n):\n",
    "    if p[i][1]>=dp[-1]:\n",
    "        dp.append(p[i][1])\n",
    "    else:    ##其实else语句只有当下一个新数比dp的最后一个数小的时候才有意义。\n",
    "        index=bisect.bisect(dp,p[i][1])\n",
    "        dp[index]=p[i][1]\n",
    "print(len(dp))       "
   ]
  },
  {
   "cell_type": "code",
   "execution_count": null,
   "metadata": {},
   "outputs": [],
   "source": [
    "from bisect import bisect\n",
    "n = int(input())\n",
    "bricks = []\n",
    "for i in range(n):\n",
    "        w, l = map(int, input().strip().split(\" \"))\n",
    "        bricks.append((w, l))\n",
    "bricks = sorted(bricks, key=lambda x: x[0])\n",
    " \n",
    "p=[]\n",
    "for k in bricks:\n",
    "    if not p:\n",
    "        p.append(k[1])\n",
    "    elif p[-1]<=k[1]:\n",
    "        p.append(k[-1])\n",
    "    else:\n",
    "        index=bisect(p,k[-1])\n",
    "        p[index]=k[-1]\n",
    "print(len(p))\n"
   ]
  },
  {
   "cell_type": "markdown",
   "metadata": {},
   "source": [
    "### 59. 快手编程题 获得最多的奖金"
   ]
  },
  {
   "cell_type": "markdown",
   "metadata": {},
   "source": [
    "#### 小明在越南旅游，参加了当地的娱乐活动。小明运气很好，拿到了大奖， 到了最后的拿奖金环节。小明发现桌子上放着一列红包，每个红包上写着奖金数额。现在主持人给要求小明在这一列红包之间“切”2刀，将这一列红包“切”成3组，并且第一组的奖金之和等于最后一组奖金和（允许任意一组的红包集合是空）。最终第一组红包的奖金之和就是小明能拿到的总奖金。小明想知道最多能拿到的奖金是多少，你能帮他算算吗。举例解释：桌子上放了红包  1, 2, 3, 4, 7, 10。小明在“4,7”之间、“7,10” 之间各切一刀，将红包分成3组 [1, 2, 3, 4]   [7]   [10]，其中第一组奖金之和=第三组奖金之和=10，所以小明可以拿到10越南盾。"
   ]
  },
  {
   "cell_type": "markdown",
   "metadata": {},
   "source": [
    "#### 输入描述:第一行包含一个正整数n，(1<=n<= 200 000)，表示有多少个红包。第二行包含n个正整数d[i]，表示每个红包包含的奖金数额。其中1<= d[i] <= 1000 000 000\n",
    "#### 输出描述:小明可以拿到的总奖金"
   ]
  },
  {
   "cell_type": "code",
   "execution_count": null,
   "metadata": {},
   "outputs": [],
   "source": [
    "#### 示例输入\n",
    "5\n",
    "1 3 1 1 4\n",
    "#### 输出\n",
    "5\n",
    "#### 说明\n",
    "[1,3,1]  [ ]   [1,4] ，其中第一组奖金和是5，等于第三组奖金和。所以小明可以拿到5越南盾"
   ]
  },
  {
   "cell_type": "code",
   "execution_count": null,
   "metadata": {},
   "outputs": [],
   "source": [
    "#先自己试着写一写\n",
    "\n",
    "n=int(input())\n",
    "arr=[int(i) for i in input().split()]\n",
    "left,right=0,n-1\n",
    "ans=0\n",
    "while left<right:\n",
    "    if sum(arr[:left+1])<sum(arr[right:]):\n",
    "        left+=1\n",
    "    elif sum(arr[:left+1])>sum(arr[right:]):\n",
    "        right-=1\n",
    "    else:\n",
    "        ans=sum(arr[:left+1])\n",
    "        left+=1\n",
    "print(ans)\n",
    "##ac 22.22%，未能在规定时间内完成"
   ]
  },
  {
   "cell_type": "code",
   "execution_count": null,
   "metadata": {},
   "outputs": [],
   "source": [
    "##稍微改一下就可以了\n",
    "n=int(input())\n",
    "arr=[int(i) for i in input().split()]\n",
    "left,right=0,n-1\n",
    "sum_left=arr[left]\n",
    "sum_right=arr[right]\n",
    "ans=0\n",
    "while left<right:\n",
    "    if sum_left<sum_right:\n",
    "        left+=1\n",
    "        sum_left+=arr[left]\n",
    "    elif sum_left>sum_right:\n",
    "        right-=1\n",
    "        sum_right+=arr[right]\n",
    "    else:\n",
    "        ans=sum_left\n",
    "        left+=1\n",
    "        right-=1\n",
    "        sum_left+=arr[left]\n",
    "        sum_right+=arr[right]\n",
    "print(ans)\n",
    "        \n",
    "##ac 100%  "
   ]
  },
  {
   "cell_type": "code",
   "execution_count": null,
   "metadata": {},
   "outputs": [],
   "source": [
    "##别人的\n",
    "def redPacket(n, nums):\n",
    "    left, right = -1, n\n",
    "    sum_left, sum_right = 0, 0\n",
    "    res = 0\n",
    "    while left < right:\n",
    "        if sum_left == sum_right:\n",
    "            res = sum_left\n",
    "            left, right = left + 1, right - 1\n",
    "            sum_left += nums[left]\n",
    "            sum_right += nums[right]\n",
    "        elif sum_left < sum_right:\n",
    "            left += 1\n",
    "            sum_left += nums[left]\n",
    "        else:\n",
    "            right -= 1\n",
    "            sum_right += nums[right]\n",
    "    return res\n",
    "if __name__ == '__main__':\n",
    "    n = int(input())\n",
    "    nums = list(map(int, input().split()))\n",
    "    print(redPacket(n, nums))"
   ]
  },
  {
   "cell_type": "markdown",
   "metadata": {},
   "source": [
    "### 60. 京东编程题 紧急疏散"
   ]
  },
  {
   "cell_type": "markdown",
   "metadata": {},
   "source": [
    "#### 体育场突然着火了，现场需要紧急疏散，但是过道真的是太窄了，同时只能容许一个人通过。现在知道了体育场的所有座位分布，座位分布图是一棵树，已知每个座位上都坐了一个人，安全出口在树的根部，也就是1号结点的位置上。其他节点上的人每秒都能向树根部前进一个结点，但是除了安全出口以外，没有任何一个结点可以同时容纳两个及以上的人，这就需要一种策略，来使得人群尽快疏散，问在采取最优策略的情况下，体育场最快可以在多长时间内疏散完成。"
   ]
  },
  {
   "cell_type": "markdown",
   "metadata": {},
   "source": [
    "***********"
   ]
  },
  {
   "cell_type": "markdown",
   "metadata": {},
   "source": [
    "#### 输入描述:第一行包含一个正整数n，即树的结点数量（1<=n<=100000）。 接下来有n-1行，每行有两个正整数x，y，表示在x和y结点之间存在一条边。(1<=x，y<=n)\n",
    "#### 输出描述:输出仅包含一个正整数，表示所需要的最短时间"
   ]
  },
  {
   "cell_type": "code",
   "execution_count": null,
   "metadata": {},
   "outputs": [],
   "source": [
    "#输入：\n",
    "6\n",
    "2 1\n",
    "3 2\n",
    "4 3\n",
    "5 2\n",
    "6 1\n",
    "#输出：\n",
    "4"
   ]
  },
  {
   "cell_type": "code",
   "execution_count": null,
   "metadata": {},
   "outputs": [],
   "source": [
    "##审题还是有点重要的，实际再问最大子树节点个数，因为根节点可以容纳许多点"
   ]
  },
  {
   "cell_type": "code",
   "execution_count": null,
   "metadata": {},
   "outputs": [],
   "source": [
    "from collections import defaultdict, deque\n",
    "N = int(input())\n",
    "graph = defaultdict(list)\n",
    "for _ in range(N-1):\n",
    "    u, v = map(int, input().split())\n",
    "    graph[u].append(v)\n",
    "    graph[v].append(u)\n",
    "max_depth = 0\n",
    "for i in graph[1]:\n",
    "    queue = deque()\n",
    "    queue.append(i)\n",
    "    visit = set([1])    ##先把根节点1放在visit\n",
    "    count = 0\n",
    "    while queue:\n",
    "        node = queue.popleft()\n",
    "        if node not in visit:\n",
    "            visit.add(node)\n",
    "            count +=1\n",
    "            for child in graph[node]:\n",
    "                if child not in visit:\n",
    "                    # count +=1\n",
    "                    # visit.add(child)\n",
    "                    queue.append(child)\n",
    "    max_depth = max(count, max_depth)\n",
    "print(max_depth)"
   ]
  },
  {
   "cell_type": "code",
   "execution_count": null,
   "metadata": {},
   "outputs": [],
   "source": [
    "#mine\n",
    "from collections import defaultdict,deque\n",
    "n=int(input())\n",
    "tree=defaultdict(list)\n",
    "for _ in range(n-1):\n",
    "    w,l =map(int,input().split())\n",
    "    tree[w].append(l)\n",
    "    tree[l].append(w)\n",
    "##找根节点的最大子树的节点个数    \n",
    "max_depth=0\n",
    "visit=set([1])\n",
    "for i in tree[1]:\n",
    "    count=0\n",
    "    queue=deque()\n",
    "    queue.append(i)\n",
    "    while queue:\n",
    "        node=queue.popleft()\n",
    "        if node not in visit:\n",
    "            count+=1\n",
    "            visit.add(node)\n",
    "            for j in tree[node]:\n",
    "                if j not in visit:\n",
    "                    queue.append(j)\n",
    "    max_depth=max(count,max_depth)\n",
    "print(max_depth)\n",
    "##完美ac   "
   ]
  },
  {
   "cell_type": "markdown",
   "metadata": {},
   "source": [
    "### 61. 小红书编程题 树的不同形态"
   ]
  },
  {
   "cell_type": "markdown",
   "metadata": {},
   "source": [
    "#### 给定二叉树T（树深度不超过H<=10，深度从1开始，节点个数N<1024，节点编号1~N）的层序和中序遍历，输出T从左向右叶子节点以及树先序和后序遍历序列"
   ]
  },
  {
   "cell_type": "markdown",
   "metadata": {},
   "source": [
    "*************"
   ]
  },
  {
   "cell_type": "markdown",
   "metadata": {},
   "source": [
    "#### 输入描述:输入两行，分别代表层序和中序遍历结果，节点编号按单个空格分开\n",
    "#### 输出描述:依次输出从左向右叶子节点：先序遍历，后序遍历 。 节点编号按空格分开"
   ]
  },
  {
   "cell_type": "code",
   "execution_count": null,
   "metadata": {},
   "outputs": [],
   "source": [
    "#输入：\n",
    "3 5 4 2 6 7 1\n",
    "2 5 3 6 4 7 1\n",
    "#输出：\n",
    "2 6 1\n",
    "3 5 2 4 6 7 1\n",
    "2 5 6 1 7 4 3"
   ]
  },
  {
   "cell_type": "code",
   "execution_count": null,
   "metadata": {},
   "outputs": [],
   "source": [
    "class TreeNode:\n",
    "    def __init__(self, x):\n",
    "        self.val = x\n",
    "        self.left = None\n",
    "        self.right = None\n",
    "#import sys\n",
    "#layer = sys.stdin.readline().rstrip().split(' ')\n",
    "#mid = sys.stdin.readline().rstrip().split(' ')\n",
    "layer=input().split()\n",
    "mid=input().split()\n",
    "def insert(r, data, index):\n",
    "    if not r:\n",
    "        r = TreeNode(data)\n",
    "        return r\n",
    "    rootindex = mid.index(r.val)\n",
    "    if index < rootindex:\n",
    "        r.left = insert(r.left, data, index)\n",
    "    else:\n",
    "        r.right = insert(r.right, data, index)\n",
    "    return r\n",
    "root, r = None, None\n",
    "for x in layer:\n",
    "    index = mid.index(x)\n",
    "    if not root and not r:\n",
    "        root = insert(root, x, index)\n",
    "    else:\n",
    "        r = insert(root, x, index)\n",
    " \n",
    "res = ''\n",
    "def printleaf(r):\n",
    "    global res\n",
    "    if not r:\n",
    "        return\n",
    "    if not r.left and not r.right:\n",
    "        res += r.val + ' '\n",
    "    printleaf(r.left)\n",
    "    printleaf(r.right)\n",
    "printleaf(root)\n",
    "#sys.stdout.write(str(res[:-1])+'\\n')\n",
    "print(str(res[:-1]))\n",
    " \n",
    "res = ''\n",
    "def pre(r):\n",
    "    global res\n",
    "    if not r:\n",
    "        return\n",
    "    res += r.val + ' '\n",
    "    pre(r.left)\n",
    "    pre(r.right)\n",
    "pre(root)\n",
    "#sys.stdout.write(str(res[:-1])+'\\n')\n",
    "print(str(res[:-1]))\n",
    "     \n",
    "res = ''\n",
    "def post(r):\n",
    "    global res\n",
    "    if not r:\n",
    "        return\n",
    "    post(r.left)\n",
    "    post(r.right)\n",
    " \n",
    "    res += r.val + ' '\n",
    "post(root)\n",
    "#sys.stdout.write(str(res[:-1])+'\\n')\n",
    "print(str(res[:-1]))"
   ]
  },
  {
   "cell_type": "code",
   "execution_count": null,
   "metadata": {},
   "outputs": [],
   "source": [
    "##another\n",
    "class TreeNode(object):\n",
    "    def __init__(self, x):\n",
    "        self.left = None\n",
    "        self.right = None\n",
    "        self.val = x\n",
    "  \n",
    "  \n",
    "class Solution(object):\n",
    "    def __init__(self):\n",
    "        self.leaf = []\n",
    "  \n",
    "    def creatTree(self, bfsorder, inorder):\n",
    "        \"\"\"\n",
    "        从中序遍历找出左右子树，然后再从序列层次遍历中找出左右子树序列，重建二叉树\n",
    "        :param bfsorder:\n",
    "        :param inorder:\n",
    "        :return:\n",
    "        \"\"\"\n",
    "        if len(bfsorder) < 1:\n",
    "            return\n",
    "        if len(bfsorder) == 1 and bfsorder[0] not in self.leaf:\n",
    "            self.leaf.append(bfsorder[0])\n",
    "            # print(self.leaf)\n",
    "        root = TreeNode(bfsorder[0])\n",
    "        root_index = inorder.index(root.val)  # 根节点在中序遍历的索引\n",
    "        left_in = inorder[:root_index]  # 中序遍历的左子树\n",
    "        right_in = inorder[root_index + 1:]  # 中序遍历的左子树\n",
    "        left_bsf = [x for x in bfsorder if x in left_in]  # 层次遍历的左子树、\n",
    "        right_bfs = [x for x in bfsorder if x in right_in]\n",
    "        root.left = self.creatTree(left_bsf, left_in)\n",
    "        root.right = self.creatTree(right_bfs, right_in)\n",
    "        return root\n",
    "  \n",
    "    def preorder(self, root):\n",
    "        if not root:\n",
    "            return []\n",
    "        return [root.val] + self.preorder(root.left) + self.preorder(root.right)\n",
    "  \n",
    "    def postorder(self, root):\n",
    "        if not root:\n",
    "            return []\n",
    "        return self.postorder(root.left) + self.postorder(root.right) + [root.val]\n",
    "  \n",
    "s = Solution()\n",
    "bfsorder = [int(x) for x in input().split()]\n",
    "inorder = [int(x) for x in input().split()]\n",
    "root = s.creatTree(bfsorder, inorder)\n",
    "  \n",
    "pre = s.preorder(root)\n",
    "post = s.postorder(root)\n",
    "print(' '.join(list(map(str,s.leaf))))\n",
    "print(' '.join(list(map(str,pre))))\n",
    "print(' '.join(list(map(str,post))))"
   ]
  },
  {
   "cell_type": "markdown",
   "metadata": {},
   "source": [
    "### 62. 快手编程题 判断一棵满二叉树是否为二叉搜索树"
   ]
  },
  {
   "cell_type": "markdown",
   "metadata": {},
   "source": [
    "#### 给定一棵满二叉树，判定该树是否为二叉搜索树，是的话打印True，不是的话打印False\n",
    "#### 说明：\n",
    "a. 二叉搜索树（Binary Search Tree），它或者是一棵空树，或者是具有下列性质的二叉树： 若它的左子树不空，则左子树上所有结点的值均小于它的根结点的值； 若它的右子树不空，则右子树上所有结点的值均大于它的根结点的值； 它的左、右子树也分别为二叉搜索树。\n",
    "b. 满二叉树，除最后一层无任何子节点外，每一层上的所有结点都有两个子结点二叉树\n",
    "c. 树内节点数不超过 10000，非空节点值为大于0小于65536的整数，空树或空节点输入为None"
   ]
  },
  {
   "cell_type": "markdown",
   "metadata": {},
   "source": [
    "****************"
   ]
  },
  {
   "cell_type": "markdown",
   "metadata": {},
   "source": [
    "#### 输入描述:从根节点开始，逐层输入每个节点的值，空树或空节点输入为None。比如：10,5,15,3,7,13,18\n",
    "#### 输出描述:是二叉搜索树的话打印True，不是的话打印False"
   ]
  },
  {
   "cell_type": "code",
   "execution_count": null,
   "metadata": {},
   "outputs": [],
   "source": [
    "#输入：\n",
    "10,5,15,3,7,13,18\n",
    "#输出：\n",
    "True"
   ]
  },
  {
   "cell_type": "code",
   "execution_count": null,
   "metadata": {},
   "outputs": [],
   "source": [
    "##another\n",
    "##发现规律就是：根节点索引为0的话，左节点索引都是奇数，右节点索引都是偶数\n",
    "import math\n",
    "now = input()\n",
    "flag='True'\n",
    "def deal(l,key,op):\n",
    "    if l>=len(arr):\n",
    "        return True\n",
    "    if op=='left' and arr[l]>=key:\n",
    "        return False\n",
    "    elif op=='right' and arr[l]<=key:\n",
    "        return False\n",
    "    return deal(2*l+1,key,op) and deal(2*l+2,key,op)\n",
    "if now=='None':\n",
    "    print('True')\n",
    "else:\n",
    "    arr=list(map(int,now.split(',')))\n",
    "    height=int(math.log(len(arr)+1,2))\n",
    "    for i in range(height):\n",
    "        l,r=2*i+1,2*i+2\n",
    "        if not deal(l,arr[i],'left') or not deal(r,arr[i],'right'):\n",
    "            flag='False'\n",
    "            break\n",
    "    print(flag)"
   ]
  },
  {
   "cell_type": "markdown",
   "metadata": {},
   "source": [
    "### 63. 连续子区间和"
   ]
  },
  {
   "cell_type": "markdown",
   "metadata": {},
   "source": [
    "#### 小M给你一串含有c个正整数的数组, 想让你帮忙求出有多少个下标的连续区间, 它们的和大于等于x。"
   ]
  },
  {
   "cell_type": "markdown",
   "metadata": {},
   "source": [
    "#### 输入描述:第一行两个整数c x（0 < c <= 1000000, 0 <= x <= 100000000)。第二行有c个正整数（每个正整数小于等于100)。\n",
    "#### 输出描述:输出一个整数，表示所求的个数。"
   ]
  },
  {
   "cell_type": "markdown",
   "metadata": {},
   "source": [
    "**************"
   ]
  },
  {
   "cell_type": "code",
   "execution_count": null,
   "metadata": {},
   "outputs": [],
   "source": [
    "#输入\n",
    "3 6\n",
    "2 4 7\n",
    "#输出\n",
    "4\n",
    "#说明\n",
    "对于有3个整数构成的数组而言，总共有6个下标连续的区间，他们的和分别为：\n",
    "2 = 2\n",
    "4 = 4\n",
    "7 = 7\n",
    "2 + 4 = 6\n",
    "4 + 7 = 11\n",
    "2 + 4 + 7 = 13\n",
    "其中有4个和大于等于6，所以答案等于4。"
   ]
  },
  {
   "cell_type": "code",
   "execution_count": null,
   "metadata": {},
   "outputs": [],
   "source": [
    "\"\"\"\n",
    "正整数数组，sum(a[i:j])>x，则sum(a[i:j+k])都大于x，j+k<=n，k为满足条件的个数\n",
    "使用滑动窗口优化\n",
    "\"\"\"\n",
    " \n",
    "def solution(arr, target, n):  # n为数组个数\n",
    "    if n == 0:\n",
    "        return 0\n",
    "    if n == 1:\n",
    "        return 1 if arr[0] > target else 0\n",
    "    count, i, j = 0, 0, 0\n",
    "    # 这里可以把sum记录下来优化，不用每次都加一遍\n",
    "    tsum = arr[0]\n",
    "    while i < n and j < n:\n",
    "        if tsum < target:\n",
    "            j += 1\n",
    "            if j < n:\n",
    "                tsum += arr[j]\n",
    "        else:\n",
    "            tsum -= arr[i]\n",
    "            count += n - j\n",
    "            i += 1\n",
    "    return count \n",
    "  \n",
    "if __name__ == '__main__':\n",
    "    n, target = map(int, input().strip().split(' '))\n",
    "    arr = list(map(int, input().strip().split(' ')))\n",
    "    ans = solution(arr, target, n)\n",
    "    print(ans)"
   ]
  },
  {
   "cell_type": "code",
   "execution_count": null,
   "metadata": {},
   "outputs": [],
   "source": [
    "\"\"\"\"\n",
    "正整数数组，sum(a[i:j])>x，则sum(a[i:j+k])都大于x，j+k<=n，k为满足条件的个数\n",
    "使用滑动窗口优化\n",
    "\"\"\"\n",
    " \n",
    "if __name__ == \"__main__\":\n",
    "    n, x = map(int, input().strip().split())\n",
    "    a = list(map(int, input().strip().split()))\n",
    "    i, j, t_sum, ans = 0, 0, 0, 0\n",
    "    while True:\n",
    "        while j < n and t_sum < x:\n",
    "            t_sum += a[j]\n",
    "            j += 1\n",
    "        if j == n and t_sum < x:\n",
    "            break\n",
    "        ans += n - j + 1\n",
    "        t_sum -= a[i]\n",
    "        i += 1\n",
    "    print(ans)"
   ]
  },
  {
   "cell_type": "code",
   "execution_count": null,
   "metadata": {},
   "outputs": [],
   "source": [
    "##written by myself\n",
    "c,x=map(int,input().split())\n",
    "arr=[int(i) for i in input().split()]\n",
    "i,j,sum_now,ans=0,0,0,0\n",
    "while True:\n",
    "    while j<c and sum_now<x:\n",
    "        sum_now+=arr[j]\n",
    "        j+=1\n",
    "    if j==c and sum_now<x:\n",
    "        break\n",
    "    ans+=c-j+1\n",
    "    sum_now-=arr[i]\n",
    "    i+=1\n",
    "print(ans)"
   ]
  },
  {
   "cell_type": "markdown",
   "metadata": {},
   "source": [
    "### 64. 字节跳动编程题"
   ]
  },
  {
   "cell_type": "markdown",
   "metadata": {},
   "source": [
    "#### 给定一个数组序列, 需要求选出一个区间, 使得该区间是所有区间中经过如下计算的值最大的一个：区间中的最小数 * 区间所有数的和最后程序输出经过计算后的最大值即可，不需要输出具体的区间。如给定序列  [6 2 1]则根据上述公式, 可得到所有可以选定各个区间的计算值: \n",
    "[6] = 6 * 6 = 36;\n",
    "[2] = 2 * 2 = 4;\n",
    "[1] = 1 * 1 = 1;\n",
    "[6,2] = 2 * 8 = 16;\n",
    "[2,1] = 1 * 3 = 3;\n",
    "[6, 2, 1] = 1 * 9 = 9; \n",
    "#### 从上述计算可见选定区间 [6] ，计算值为 36， 则程序输出为 36。区间内的所有数字都在[0, 100]的范围内;"
   ]
  },
  {
   "cell_type": "markdown",
   "metadata": {},
   "source": [
    "*********"
   ]
  },
  {
   "cell_type": "markdown",
   "metadata": {},
   "source": [
    "#### 输入描述:第一行输入数组序列长度n，第二行输入数组序列。对于 50%的数据,  1 <= n <= 10000;对于 100%的数据, 1 <= n <= 500000;\n",
    "#### 输出描述:输出数组经过计算后的最大值。"
   ]
  },
  {
   "cell_type": "raw",
   "metadata": {},
   "source": [
    "输入\n",
    "3\n",
    "6 2 1\n",
    "输出\n",
    "36"
   ]
  },
  {
   "cell_type": "code",
   "execution_count": null,
   "metadata": {},
   "outputs": [],
   "source": [
    "##好难呀这题\n",
    "def f(nums):\n",
    "    stack = [(0,0)]   ##第一对（0，0）用于对照，将第一个数压入栈所用\n",
    "    left = right = 0\n",
    "    res = 0\n",
    "    for num in nums:\n",
    "        while num < stack[-1][0]:\n",
    "            top = stack.pop()\n",
    "            left = top[1]\n",
    "            res = max(res, top[0] * (right - top[1]))\n",
    "            #print(res)\n",
    "        right += num\n",
    "        stack.append((num, left))\n",
    "        left = right\n",
    "        \n",
    "        \n",
    "        #print(stack)\n",
    "        #print(res)\n",
    "    while len(stack) != 0:\n",
    "        top = stack.pop()\n",
    "        res = max(res, top[0] * (right - top[1]))\n",
    "    return res\n",
    "       \n",
    "n = int(input())\n",
    "nums = [int(e) for e in input().split()]\n",
    "print(f(nums))"
   ]
  },
  {
   "cell_type": "markdown",
   "metadata": {},
   "source": [
    "### 65. 机器人走方格  （简单的动态规划）"
   ]
  },
  {
   "cell_type": "markdown",
   "metadata": {},
   "source": [
    "#### 有一个XxY的网格，一个机器人只能走格点且只能向右或向下走，要从左上角走到右下角。请设计一个算法，计算机器人有多少种走法。注意这次的网格中有些障碍点是不能走的。给定一个int[][] map(C++ 中为vector >),表示网格图，若map[i][j]为1则说明该点不是障碍点，否则则为障碍。另外给定int x,int y，表示网格的大小。请返回机器人从(0,0)走到(x - 1,y - 1)的走法数，为了防止溢出，请将结果Mod 1000000007。保证x和y均小于等于50"
   ]
  },
  {
   "cell_type": "code",
   "execution_count": null,
   "metadata": {},
   "outputs": [],
   "source": [
    "class Robot:\n",
    "    def countWays(self, m, x, y):\n",
    "        if not m or len(m) != x or len(m[0]) != y:\n",
    "            return 0\n",
    "        if m[x - 1][y - 1] != 1 or m[0][0] != 1:\n",
    "            return 0\n",
    "         \n",
    "        dp = [[0] * y for i in range(x)]\n",
    "        dp[0][0] = 1\n",
    "         \n",
    "        for i in xrange(1, x):\n",
    "            if m[i][0] == 1:\n",
    "                dp[i][0] = dp[i - 1][0]\n",
    "        for j in xrange(1, y):\n",
    "            if m[0][j] == 1:\n",
    "                dp[0][j] = dp[0][j - 1]\n",
    "                 \n",
    "        for i in xrange(1, x):\n",
    "            for j in xrange(1, y):\n",
    "                if m[i][j] == 1:\n",
    "                    dp[i][j] = dp[i - 1][j] % 1000000007 + dp[i][j - 1] % 1000000007\n",
    "                     \n",
    "        return dp[x-1][y -1] % 1000000007\n"
   ]
  },
  {
   "cell_type": "markdown",
   "metadata": {},
   "source": [
    "### 66. 约瑟夫环"
   ]
  },
  {
   "cell_type": "markdown",
   "metadata": {},
   "source": [
    "#### 约瑟夫问题是一个著名的趣题。这里我们稍稍修改一下规则。有n个人站成一列。并从头到尾给他们编号，第一个人编号为1。然后从头开始报数，第一轮依次报1，2，1，2...然后报到2的人出局。接着第二轮再从上一轮最后一个报数的人开始依次报1，2，3，1，2，3...报到2，3的人出局。以此类推直到剩下以后一个人。现在需要求的即是这个人的编号。给定一个int n，代表游戏的人数。请返回最后一个人的编号\n",
    "#### 测试样例：5 返回：5"
   ]
  },
  {
   "cell_type": "code",
   "execution_count": null,
   "metadata": {},
   "outputs": [],
   "source": [
    "解题思路,模仿约瑟夫环问题\n",
    "假设n=30, 每次跳跃距离为m, 初始为m=2\n",
    "第一次筛选后剩下为 [29, 1, 3, 5, 7, 9, 11, 13, 15, 17, 19, 21, 23, 25, 27], m=3  \n",
    "第二次筛选后剩下为 [23, 29, 5, 11, 17], m=4\n",
    "第三次筛选后剩下为 [17, 23] m=5\n",
    "此时结果已出, 最后剩下肯定是17, 其实在第二次筛选后结果已出, 因为此时n/4+1<m+1, 表示下次筛选时剩下结果小于m, 为下次筛选后的第一个, 也就是本次筛选后的最后一个.\n",
    "为什么选择第二次的筛选结果呢?  因为此时还保留着位置信息x\n",
    "计算出第二次筛选后x的位置为5, 则第一次筛选的位置x=(5-2)*m+1=10, 正好是17所在的位置数\n",
    "同理, 原位置x=(10-2)*m+1=17, 所以答案为17"
   ]
  },
  {
   "cell_type": "code",
   "execution_count": null,
   "metadata": {},
   "outputs": [],
   "source": [
    "class Joseph:\n",
    "    def getResult(self, n):\n",
    "        if n <= 0:\n",
    "            return -1\n",
    "          \n",
    "        con = range(1, n + 1)\n",
    "        rest = n\n",
    "          \n",
    "        round = 1\n",
    "        while con:\n",
    "            start = 1\n",
    "            for key, person in enumerate(con):\n",
    "                if start == round + 2:\n",
    "                    start = 1\n",
    "                if start != 1:\n",
    "                    rest -= 1\n",
    "                    con[key] = -1\n",
    "                start += 1\n",
    "            con = [i for i in con if i != -1]\n",
    "            if rest == 1:\n",
    "                return con[0]\n",
    "            con.insert(0, con.pop())\n",
    "            round += 1"
   ]
  },
  {
   "cell_type": "code",
   "execution_count": null,
   "metadata": {},
   "outputs": [],
   "source": [
    "解题思路：\n",
    "1. 由于涉及到频繁的删除操作，故数据结构应该选择链表，这里选择LinkedList，其底层实现是循环双链表。\n",
    "2. 每一轮报数完毕之后，将链表尾部节点移动到链表首部，开始新一轮的报数。\n",
    "3. 链表中仅剩一个节点，程序结束。\n",
    "4. 举个例子：假设n = 24，第一个人编号为1。\n",
    "（1）第一轮：依次报1，2，1，2...然后报到2的人出局，则第一轮过后未出局的编号为1、3、5、7、9、11、13、15、17、19、21、23；\n",
    "（2）第二轮：从上一轮最后一个报数的人开始依次报1，2，3，1，2，3...报到2，3的人出局。我这里做的处理是，先将上一轮最后一个报数的编号移动到最前面，即23、1、3、5、7、9、11、13、15、17、19、21；然后开始第二轮报数，未出局的编号为23、5、11、17；\n",
    "（3）第三轮：从上一轮最后一个报数的人开始依次报1，2，3，4，1，2，3，4...报到2，3，4的人出局。同样，我这里做的处理是，先将上一轮最后一个报数的编号移动到最前面，即17、23、5、11；然后开始第三轮报数，未出局的编号为17，此时链表中仅剩一个节点，故程序结束。"
   ]
  },
  {
   "cell_type": "code",
   "execution_count": null,
   "metadata": {},
   "outputs": [],
   "source": [
    "class Joseph:\n",
    "    def getResult(self, n):\n",
    "        layer = list(range(1,n+1))\n",
    "        step = 2\n",
    "        while len(layer) > 1:\n",
    "            new_layer = layer[::step]\n",
    "            step+=1\n",
    "            new_layer=[new_layer[-1],]+new_layer[:-1]\n",
    "            layer = new_layer\n",
    "        return layer[0]\n"
   ]
  },
  {
   "cell_type": "code",
   "execution_count": null,
   "metadata": {},
   "outputs": [],
   "source": [
    "##written by myself\n",
    "class Joseph:\n",
    "    def getResult(self, n):\n",
    "        if n <= 0:\n",
    "            return -1\n",
    "        arr=list(range(1,n+1))\n",
    "        step=2\n",
    "        while len(arr)>1:\n",
    "            arr=arr[::step]\n",
    "            new_arr=[arr[-1]]+arr[:-1]\n",
    "            arr=new_arr\n",
    "            step+=1\n",
    "        return arr[0]"
   ]
  },
  {
   "cell_type": "markdown",
   "metadata": {},
   "source": [
    "### 67. 蘑菇街编程题 字符串的排列"
   ]
  },
  {
   "cell_type": "markdown",
   "metadata": {},
   "source": [
    "#### 输入一个字符串,按字典序打印出该字符串中字符的所有排列。例如输入字符串abc,则打印出由字符a,b,c所能排列出来的所有字符串abc,acb,bac,bca,cab和cba。"
   ]
  },
  {
   "cell_type": "markdown",
   "metadata": {},
   "source": [
    "#### 输入描述:输入一个字符串,长度不超过9(可能有字符重复),字符只包括大小写字母,例如ac\n",
    "#### 输出描述:[ac, ca]\n",
    "\n",
    "#### 示例输入：acc\n",
    "#### 输出：[acc, cac, cca]"
   ]
  },
  {
   "cell_type": "code",
   "execution_count": null,
   "metadata": {},
   "outputs": [],
   "source": [
    "def solve(s,cur):\n",
    "    if len(cur)==length:\n",
    "        res.add(cur)\n",
    "    for i in range(len(s)):\n",
    "        solve(s[:i]+s[i+1:],cur+s[i])  ##相当于从前面抽数放到后面\n",
    "if __name__=='__main__':\n",
    "    s = input()\n",
    "    length = len(s)  ##这是全局变量\n",
    "    res = set()      ##res也得是一个全局变量   \n",
    "    solve(s,'')\n",
    "    ans = [i for i in res]\n",
    "    new_ans = '['+', '.join(sorted(ans))+']'\n",
    "    print(new_ans)"
   ]
  },
  {
   "cell_type": "code",
   "execution_count": null,
   "metadata": {},
   "outputs": [],
   "source": [
    "##自己写一遍\n",
    "def solution(arr,cur):\n",
    "    if len(cur)==length:\n",
    "        res.add(cur)\n",
    "    for i in range(len(arr)):\n",
    "        solution(arr[:i]+arr[i+1:],cur+arr[i])\n",
    "string=input()\n",
    "res=set()\n",
    "length=len(string)\n",
    "solution(string,'')\n",
    "print('['+', '.join(sorted(res))+']')"
   ]
  },
  {
   "cell_type": "code",
   "execution_count": null,
   "metadata": {},
   "outputs": [],
   "source": [
    "##另一种写法，写一个类来存放全局变量            @@@记住这种方法\n",
    "class solution():\n",
    "    def solve(self, a):\n",
    "        self.ans = []\n",
    "        self.dfs(a, '')\n",
    "    def dfs(self, b, cur):\n",
    "        if len(cur)==len(a):\n",
    "            if cur not in self.ans:\n",
    "                self.ans.append(cur)\n",
    "        for i in range(len(b)):\n",
    "            self.dfs(b[:i]+b[i+1:], cur+b[i])\n",
    "a = input()\n",
    "s = solution()\n",
    "s.solve(a)\n",
    "ans = '['+', '.join(sorted(s.ans))+']'\n",
    "print(ans)"
   ]
  },
  {
   "cell_type": "markdown",
   "metadata": {},
   "source": [
    "### 68. 小米编程题 爬楼梯"
   ]
  },
  {
   "cell_type": "markdown",
   "metadata": {},
   "source": [
    "#### 在你面前有一个n阶的楼梯(n>=100且n<500)，你一步只能上1阶或3阶。请问计算出你可以采用多少种不同的方式爬完这个楼梯（到最后一层为爬完）。"
   ]
  },
  {
   "cell_type": "markdown",
   "metadata": {},
   "source": [
    "**************"
   ]
  },
  {
   "cell_type": "markdown",
   "metadata": {},
   "source": [
    "#### 输入描述:一个正整数，表示这个楼梯一共有多少阶\n",
    "#### 输出描述:一个正整数，表示有多少种不同的方式爬完这个楼梯"
   ]
  },
  {
   "cell_type": "markdown",
   "metadata": {},
   "source": [
    "#### 示例输入\n",
    "100\n",
    "#### 对应输出\n",
    "24382819596721629"
   ]
  },
  {
   "cell_type": "code",
   "execution_count": null,
   "metadata": {},
   "outputs": [],
   "source": [
    "line = input()\n",
    "if line == '':\n",
    "    print(None)\n",
    "n = int(line)\n",
    "if 100 <= n < 500:\n",
    "    a = [1, 1, 2]\n",
    "    for _ in range(n-3):\n",
    "        a = [a[1], a[2], a[0] + a[2]]\n",
    "    print(a[2])"
   ]
  },
  {
   "cell_type": "code",
   "execution_count": null,
   "metadata": {},
   "outputs": [],
   "source": [
    "n = int(input())\n",
    "dp = [1, 1, 1]\n",
    "for i in range(3, n + 1):\n",
    "    dp.append(dp[i - 1] + dp[i - 3])\n",
    "print(dp[n])\n"
   ]
  },
  {
   "cell_type": "code",
   "execution_count": null,
   "metadata": {},
   "outputs": [],
   "source": [
    "##mine\n",
    "n=int(input())\n",
    "tmp=[1,1,2]\n",
    "for _ in range(n-3):\n",
    "    tmp=[tmp[1],tmp[2],tmp[2]+tmp[0]]\n",
    "print(tmp[-1])"
   ]
  },
  {
   "cell_type": "markdown",
   "metadata": {},
   "source": [
    "### 69. 拼多多2018编程题 拼多多周年庆"
   ]
  },
  {
   "cell_type": "markdown",
   "metadata": {},
   "source": [
    "#### 拼多多王国的城市和道路的拓扑结构比较特别，是一个树状结构：1. 每个城市是树的一个节点；2. 城市之间的道路是树的一条边；3. 树的根节点是首都。\n",
    "#### 拼多多周年庆马上就要到了，这是拼多多王国的一个大日子。为了活跃气氛，国王想在道路上布置花灯。花灯可是很贵的东西，尽管国王想要在所有道路上都布置花灯，但是如果要花太多钱的话，是过不了财政大臣那一关的。国王把这个计划告诉财政大臣，最后他们商讨出来这么一个方案：1. 一条道路要么不布置花灯，要么整条布置花灯，不能选择其中的某一段布置；2. 除非没有道路通向首都，否则至少为一条通向首都的道路布置花灯；3. 所有布置花灯的道路构成的子图是连通的，这保证国王从首都出发，能通过只走布置了花灯的道路，把所有的花灯游览完； 4. 如果某个城市（包括首都）有大于等于2条道路通向子城市，为了防止铺张浪费，最多只能选择其中的两条路布置花灯；5. 布置花灯的道路的总长度设定一个上限。在上述方案下，国王想要使得布置花灯的道路长度越长越好，你帮国王想想办法。"
   ]
  },
  {
   "cell_type": "markdown",
   "metadata": {},
   "source": [
    "#### 输入描述:每个测试输入包含1个测试用例。输入的第一行是一个正整数m，0<m<=9900，表示布置花灯的道路的总长度的上限。输入的第二行是一个正整数n，n<=100，表示城市的个数。紧接着是n-1行输入，每行三个正整数u、v、d，表示下标为u的城市有一条长度为d的道路通向它的一个子城市v，其中0<=u<n，0<=v<n，0<d<=100。\n",
    "#### 输出描述:输出一个正整数，表示能布置花灯的道路长度的最大值\n",
    "******************\n"
   ]
  },
  {
   "cell_type": "raw",
   "metadata": {},
   "source": [
    "输入\n",
    "5\n",
    "5\n",
    "0 1 1\n",
    "0 2 2\n",
    "0 3 3\n",
    "0 4 4\n",
    "输出\n",
    "5"
   ]
  },
  {
   "cell_type": "code",
   "execution_count": null,
   "metadata": {},
   "outputs": [],
   "source": [
    "m = int(input())\n",
    "n = int(input())\n",
    " \n",
    "adj = {}\n",
    "cnt = 0\n",
    "for _ in range(n-1):\n",
    "    cur = list(map(int,input().split()))\n",
    "    adj.setdefault(cur[0],[]).append(cur[1:])\n",
    "    cnt += cur[1]\n",
    "def dfs(root,up):\n",
    "    if root not in adj or up <= 0:\n",
    "        return set([0])\n",
    "    res = {}\n",
    "    for child,weight in adj[root]:\n",
    "        if up >= weight:\n",
    "            res[child] = dfs(child, up-weight)\n",
    "            res[child] = set(x + weight for x in res[child])\n",
    "     \n",
    "    k = len(res)\n",
    "    if k == 0:\n",
    "        return set([0])\n",
    "    else:\n",
    "        cur = set()\n",
    "        for key1 in res:\n",
    "            for key2 in res:\n",
    "                if key1 == key2:\n",
    "                    cur |= res[key1]\n",
    "                elif key1 > key2:\n",
    "                    cur |= set(x + y for x in res[key1] for y in res[key2] if x + y <= up)\n",
    "        return cur | set([0])\n",
    " \n",
    "root = n * (n-1) / 2 - cnt\n",
    "ans = dfs(root,m)\n",
    "print (max(ans))"
   ]
  },
  {
   "cell_type": "code",
   "execution_count": null,
   "metadata": {},
   "outputs": [],
   "source": [
    "limit = int(input())\n",
    "city = int(input())\n",
    "a = {}\n",
    "parent = {}\n",
    "root = None\n",
    "for _ in range(city-1):\n",
    "    s = input().split()\n",
    "    u, v, d = int(s[0]), int(s[1]), int(s[2])\n",
    "    if not root:\n",
    "        root = u\n",
    "    if u not in a:\n",
    "        a[u] = {}\n",
    "    parent[v] = u\n",
    "    a[u][v] = d\n",
    "##find root\n",
    "while parent.get(root, -1) != -1:   ##set的用法：如果get不到就返回逗号后面那个树\n",
    "    root = parent.get(root)\n",
    "visited = {}\n",
    "def dfs(u):\n",
    "    if u not in visited:\n",
    "        cand = set()\n",
    "        cand.add(0)\n",
    "        if u in a:\n",
    "            sets = []\n",
    "            vs = []\n",
    "            for v in a[u]:\n",
    "                vs.append(v)\n",
    "                sets.append(dfs(v))\n",
    "            for i in range(len(sets)):  ##最多选两条路径的体现\n",
    "                d = a[u][vs[i]]\n",
    "                for c in sets[i]:\n",
    "                    if d + c <= limit:\n",
    "                        cand.add(d+c)\n",
    "                for j in range(i+1, len(sets)):  ##最多选两条路径的体现\n",
    "                    d2 = a[u][vs[j]]\n",
    "                    for c in sets[i]:\n",
    "                        for c2 in sets[j]:\n",
    "                            if c + c2 + d + d2 <= limit:\n",
    "                                cand.add(c + c2 + d + d2)\n",
    "            print(sets)\n",
    "        visited[u] = cand\n",
    "        print(visited)\n",
    "    return visited[u]\n",
    "print(max(dfs(root)))"
   ]
  },
  {
   "cell_type": "code",
   "execution_count": null,
   "metadata": {},
   "outputs": [],
   "source": [
    "limit = int(input())\n",
    "city = int(input())\n",
    "a = {}\n",
    "parent = {}\n",
    "root = None\n",
    "for _ in range(city-1):\n",
    "    s = input().split()\n",
    "    u, v, d = int(s[0]), int(s[1]), int(s[2])\n",
    "    if not root:\n",
    "        root = u\n",
    "    if u not in a:\n",
    "        a[u] = {}\n",
    "    parent[v] = u\n",
    "    a[u][v] = d\n",
    "##find root\n",
    "while parent.get(root, -1) != -1:   ##set的用法：如果get不到就返回逗号后面那个树\n",
    "    root = parent.get(root)\n",
    "visited = {}\n",
    "def dfs(u):\n",
    "    if u not in visited:\n",
    "        cand = set()\n",
    "        cand.add(0)\n",
    "        if u in a:\n",
    "            sets = []\n",
    "            vs = []\n",
    "            for v in a[u]:\n",
    "                vs.append(v)\n",
    "                sets.append(dfs(v))\n",
    "            for i in range(len(sets)):  ##最多选两条路径的体现\n",
    "                d = a[u][vs[i]]\n",
    "                for c in sets[i]:\n",
    "                    if d + c <= limit:\n",
    "                        cand.add(d+c)\n",
    "                for j in range(i+1, len(sets)):  ##最多选两条路径的体现\n",
    "                    d2 = a[u][vs[j]]\n",
    "                    for c in sets[i]:\n",
    "                        for c2 in sets[j]:\n",
    "                            if c + c2 + d + d2 <= limit:\n",
    "                                cand.add(c + c2 + d + d2)\n",
    "            print(sets)\n",
    "        visited[u] = cand\n",
    "        print(visited)\n",
    "    return visited[u]\n",
    "print(max(dfs(root)))"
   ]
  },
  {
   "cell_type": "markdown",
   "metadata": {},
   "source": [
    "### 70. 幸运子序列"
   ]
  },
  {
   "cell_type": "markdown",
   "metadata": {},
   "source": [
    "#### 牛牛得到一个长度为n的整数序列V,牛牛定义一段连续子序列的幸运值为这段子序列中最大值和次大值的异或值(次大值是严格的次大)。牛牛现在需要求出序列V的所有连续子序列中幸运值最大是多少。请你帮帮牛牛吧。"
   ]
  },
  {
   "cell_type": "markdown",
   "metadata": {},
   "source": [
    "#### 输入描述:第一行一个整数n,即序列的长度。(2<= n <= 100000)。第二行n个数，依次表示这个序列每个数值V[i], (1 ≤ V[i] ≤ 10^8)且保证V[1]到V[n]中至少存在不同的两个值.\n",
    "#### 输出描述:输出一个整数,即最大的幸运值"
   ]
  },
  {
   "cell_type": "markdown",
   "metadata": {},
   "source": [
    "************"
   ]
  },
  {
   "cell_type": "raw",
   "metadata": {},
   "source": [
    "输入\n",
    "5\n",
    "5 2 1 4 3\n",
    "输出\n",
    "7"
   ]
  },
  {
   "cell_type": "code",
   "execution_count": null,
   "metadata": {},
   "outputs": [],
   "source": [
    "##temp存放非递增，所以可以保证当前数要么是最大值，要么是次小值\n",
    "def main():\n",
    "    n=int(input())\n",
    "    v=list(map(int,input().split()))\n",
    "    res=0\n",
    "    temp=[]\n",
    "    for i in range(n):  \n",
    "        x=v[i]\n",
    "        while temp and x>temp[-1]:  ##当前为最大值，更新值\n",
    "            res=max(res,x^temp[-1])\n",
    "            del temp[-1]\n",
    "        if temp:                    ##向前寻到一个大于当前数的数，更新值\n",
    "            res=max(res,x^temp[-1])\n",
    "        temp.append(x)\n",
    "        #print(temp)\n",
    "    print (res)\n",
    "if __name__=='__main__':\n",
    "    main()\n"
   ]
  },
  {
   "cell_type": "code",
   "execution_count": null,
   "metadata": {},
   "outputs": [],
   "source": [
    "##another\n",
    "n = int(input())\n",
    "arr = list(map(int,input().strip().split(\" \")))\n",
    " \n",
    "# 暴力穷举 或者用 滑动窗口的模式 维护最大、次大两个变量\n",
    "import heapq\n",
    "def getLuckNum(arr,n):\n",
    "     \n",
    "    ans = -(1<<31)\n",
    "    for i in range(1,n+1):  #长度为i的子序列\n",
    "        for j in range(n-i+1):  #起始索引为j的序列\n",
    "            l = set(arr[j:j+i])\n",
    "            largest = heapq.nlargest(2,l)\n",
    "            if len(largest) < 2:\n",
    "                continue\n",
    "            ans = max(largest[0]^largest[1],ans)\n",
    "    print(ans)\n",
    "     \n",
    "def getLuckNum2(arr,n):#单调减栈 遇到不符合的情况弹栈计算结果\n",
    "    # 找到每个元素 左边第一个比它大的 右边第一个比它大的 计算两者异或 然后更新结果就好了 等于都不可以\n",
    "    s = []\n",
    "    ans = -(1<<31)\n",
    "    for idx in range(n):\n",
    "        while s and arr[s[-1]] <= arr[idx]:\n",
    "            #median = s.pop()  #弹出最后一个 中心\n",
    "            ans = max(ans,arr[s[-1]]^arr[idx])\n",
    "            s.pop()\n",
    "        if s:\n",
    "            ans = max(ans,arr[s[-1]]^arr[idx])\n",
    "        s.append(idx)   \n",
    "    print(ans)\n",
    "     \n",
    "getLuckNum2(arr,n)\n"
   ]
  },
  {
   "cell_type": "markdown",
   "metadata": {},
   "source": [
    "### 71. 最小栈"
   ]
  },
  {
   "cell_type": "markdown",
   "metadata": {},
   "source": [
    "#### 实现一个最小栈，有三种操作，min：得到栈中的最小值，push：在栈顶插入一个元素，pop：弹出栈顶元素，使这三种操作的时间复杂度都是O(1)"
   ]
  },
  {
   "cell_type": "markdown",
   "metadata": {},
   "source": [
    "#### 输入描述:第一行是一个数Q，接下来Q行每行表示一个操作，每行首先是操作op。若op==0,则输出当前栈中的最小值；若op==1，表示push，接着正整数x，把在x放进栈顶；若op==2，表示pop，弹出栈顶元素。保证Q<=500000,保证op==0或2时（即min操作和pop操作时）栈不为空。你可以假设一开始栈的空的。\n",
    "#### 输出描述:对应每个op==0或2，如果是op==0输出当前栈中的最小值，如果是op==2输出弹出的元素。"
   ]
  },
  {
   "cell_type": "raw",
   "metadata": {},
   "source": [
    "输入：\n",
    "7\n",
    "1 3\n",
    "1 4\n",
    "0\n",
    "1 2\n",
    "0\n",
    "2\n",
    "0\n",
    "输出：\n",
    "3\n",
    "2\n",
    "2\n",
    "3\n",
    "说明：\n",
    "第一个操作为push 3,此时栈元素为3\n",
    "第二个操作为push 4,此时栈元素为3,4\n",
    "第三个操作为min,此时栈元素为3,4，输出最小值3\n",
    "第四个操作为push 2,此时栈元素为3,4,2\n",
    "第五个操作为min,此时栈元素为3,4,2，输出最小值2\n",
    "第六个操作为pop,弹出元素2，此时栈元素为3,4，输出弹出的元素2\n",
    "第七个操作为min,此时栈元素为3,4，输出最小值3"
   ]
  },
  {
   "cell_type": "code",
   "execution_count": null,
   "metadata": {},
   "outputs": [],
   "source": [
    "##注意这里因为 得到栈中最小值 的操作时间是O(1)，所以必须额外建立一个最小栈，用函数min()直接查询是不可以的。"
   ]
  },
  {
   "cell_type": "code",
   "execution_count": null,
   "metadata": {},
   "outputs": [],
   "source": [
    "import sys\n",
    " \n",
    "stack = []\n",
    "minStack = []\n",
    "Q = int(sys.stdin.readline().strip())\n",
    "for q in range(Q):\n",
    "    line = sys.stdin.readline().strip().split(' ')\n",
    "    if(len(line) == 1):\n",
    "        op = int(line[0])\n",
    "    else:\n",
    "        op, num = list(map(int, line))\n",
    "    if(op == 1):\n",
    "        stack.append(num)\n",
    "        if(len(minStack) == 0):\n",
    "            minStack.append(num)\n",
    "        else:\n",
    "            minStack.append(min(num, minStack[-1]))\n",
    "    elif(op == 2):\n",
    "        print(stack.pop())\n",
    "        minStack.pop()\n",
    "    elif(op == 0):\n",
    "        print(minStack[-1])\n"
   ]
  },
  {
   "cell_type": "code",
   "execution_count": null,
   "metadata": {},
   "outputs": [],
   "source": [
    "##written by myself\n",
    "class Solution:\n",
    "    def __init__(self):\n",
    "        self.stack=[]\n",
    "        self.helper=[]\n",
    "    def push(self,x):\n",
    "        if len(self.stack)==0:\n",
    "            self.stack.append(x)\n",
    "            self.helper.append(x)\n",
    "        else:\n",
    "            self.stack.append(x)\n",
    "            if x<self.helper[-1]:\n",
    "                self.helper.append(x)\n",
    "            else:\n",
    "                self.helper.append(self.helper[-1])\n",
    "    def pop(self):\n",
    "        res=self.stack.pop()\n",
    "        self.helper.pop()\n",
    "        return res\n",
    "    def min(self):\n",
    "        if len(self.stack):\n",
    "            return min(self.helper)\n",
    "        else:return None\n",
    "\n",
    "\n",
    "        \n",
    "ex=Solution()\n",
    "Q=int(input())\n",
    "for i in range(Q):\n",
    "    tmp=[int(i) for i in input().split()]\n",
    "    if len(tmp)==1:\n",
    "        if tmp[0]==0:\n",
    "            print(ex.min())\n",
    "        else:\n",
    "            print(ex.pop())\n",
    "    else:\n",
    "        ex.push(tmp[1])\n",
    "    "
   ]
  },
  {
   "cell_type": "code",
   "execution_count": null,
   "metadata": {},
   "outputs": [],
   "source": [
    "class Solution:\n",
    "    def __init__(self):\n",
    "        self.stack=[]\n",
    "        self.helper=[]\n",
    "    def pop(self):\n",
    "        res=self.stack.pop()\n",
    "        self.helper.pop()\n",
    "        return res\n",
    "    def push(self,x):\n",
    "        if len(self.stack)==0:\n",
    "            self.stack.append(x)\n",
    "            self.helper.append(x)\n",
    "        else:\n",
    "            if self.helper[-1]>x:\n",
    "                self.helper.append(x)\n",
    "            else:\n",
    "                self.helper.append(self.helper[-1])\n",
    "            self.stack.append(x)\n",
    "    def min(self,):\n",
    "        if self.stack:\n",
    "            return self.helper[-1]\n",
    "Q=int(raw_input())\n",
    "minStack=Solution()\n",
    "for i in range(Q):\n",
    "    line=list(map(int,raw_input().split()))\n",
    "    # print(line)\n",
    "    if len(line)>1:\n",
    "        op,x=line\n",
    "    else:\n",
    "        op=line[0]\n",
    "    if op==0:\n",
    "        print(minStack.min())\n",
    "    elif op==1:\n",
    "        minStack.push(x)\n",
    "    elif op==2:\n",
    "        print(minStack.pop())\n",
    "\n"
   ]
  },
  {
   "cell_type": "code",
   "execution_count": null,
   "metadata": {},
   "outputs": [],
   "source": []
  },
  {
   "cell_type": "markdown",
   "metadata": {},
   "source": [
    "### 72. 航线"
   ]
  },
  {
   "cell_type": "markdown",
   "metadata": {},
   "source": [
    "#### “呼！！终于到了，可是接下来要怎么走才能到达楚楚街港港呢？”亮亮在醋溜港直发愁。 突然“啾”的一下，一只银色小船出现在亮亮的面前，上面坐着小精灵丹丹“又见面了，有什么可以帮助你的么？”小精灵向亮亮眨了眨眼睛，微笑着说。 “我想去楚楚街港，但我不知道要怎么走，请问你可以告诉我么？”亮亮按捺着激动的心情轻声问道。 “楚楚街港呀......那是个特别美好的地方”小精灵歪着头想了想，说“我只能告诉你大海上所有的航线，剩下的就只能靠你自己啦~” “只有所有的航线呀”，亮亮的内心再三挣扎，却又没有其他的办法。 “不管有多困难，我一定要达到楚楚街港，请你告诉我吧”亮亮坚定地对小精灵说。 小精灵欣赏地点了点头，递给亮亮一张航线图，并叮嘱道“时限是1000天，一定要到哦~”，然后如来时一般“啾”的一声，消失了。 亮亮现在迫切地想要抵达楚楚街港，请问亮亮最快能在第几天抵达楚楚街港呢？"
   ]
  },
  {
   "cell_type": "markdown",
   "metadata": {},
   "source": [
    "#### 输入描述:一行包含两个整数(2<=N<=500),M(1<=M<=2000)，用单个空格隔开。表示公有N个港，M条航线。起点为1，终点为N。接下来M行，每行包含五个整数P,Q(1<=P,Q<=n), K(1<=K<=1000), X,Y(0<=X,Y<=10000),代表P,Q两个港有航线并需要K天，并且该航线在第X天到第Y天天气恶劣不可通行。\n",
    "#### 输出描述:一个整数，即亮亮最快能在第几天抵达楚楚街港"
   ]
  },
  {
   "cell_type": "raw",
   "metadata": {},
   "source": [
    "输入\n",
    "4 4      \n",
    "2 1 1 7 13\n",
    "4 3 2 10 11\n",
    "1 3 8 9 12\n",
    "2 3 3 2 10\n",
    "输出\n",
    "14"
   ]
  },
  {
   "cell_type": "code",
   "execution_count": null,
   "metadata": {},
   "outputs": [],
   "source": [
    "import collections\n",
    "N,M =[int(x) for x in input().split()]\n",
    "G = collections.defaultdict(dict)\n",
    "for i in range(M):\n",
    "    s,e,c,a,b = [int(x) for x in input().split()]\n",
    "    G[s][e] = [c,a,b]\n",
    "    G[e][s] = [c,a,b]"
   ]
  },
  {
   "cell_type": "code",
   "execution_count": null,
   "metadata": {
    "scrolled": true
   },
   "outputs": [],
   "source": [
    "G"
   ]
  },
  {
   "cell_type": "code",
   "execution_count": null,
   "metadata": {},
   "outputs": [],
   "source": [
    "import collections\n",
    "N,M =[int(x) for x in input().split()]\n",
    "G = collections.defaultdict(dict)\n",
    "for i in range(M):\n",
    "    s,e,c,a,b = [int(x) for x in input().split()]\n",
    "    G[s][e] = [c,a,b]\n",
    "    G[e][s] = [c,a,b]\n",
    "ans = [float('inf') for i in range(N+1)]\n",
    "ans[1] = 1\n",
    "book=set()\n",
    "remain=set([i for i in range(N+1)])\n",
    "minv=1\n",
    "while len(book)<len(G.keys()):   ##bfs\n",
    "    book.add(minv)\n",
    "    remain.remove(minv)\n",
    "    for temp_node in G[minv]:\n",
    "        if temp_node in book:\n",
    "            continue\n",
    "        if ans[minv]+G[minv][temp_node][0]<=G[minv][temp_node][1]: ##可航行的第一种情况\n",
    "            if ans[minv]+G[minv][temp_node][0]<ans[temp_node]:\n",
    "                ans[temp_node]=ans[minv]+G[minv][temp_node][0]\n",
    "        elif ans[minv]>G[minv][temp_node][2]:   ##可航行的第二种情况\n",
    "            if ans[minv]+G[minv][temp_node][0]<ans[temp_node]:\n",
    "                ans[temp_node]=ans[minv]+G[minv][temp_node][0]\n",
    "        elif G[minv][temp_node][2]+1+G[minv][temp_node][0]<ans[temp_node]:#可航行的第三种情况\n",
    "            ans[temp_node]=G[minv][temp_node][2]+1+G[minv][temp_node][0]\n",
    "    temp_add_node=float('inf')\n",
    "    for i in remain:\n",
    "        if ans[i]<temp_add_node:\n",
    "            minv=i      ##选择那个天数最少的\n",
    "            temp_add_node=ans[i]\n",
    "print(ans[-1])\n"
   ]
  },
  {
   "cell_type": "markdown",
   "metadata": {},
   "source": [
    "### 73. shopee编程题 建物流中转站"
   ]
  },
  {
   "cell_type": "markdown",
   "metadata": {},
   "source": [
    "#### Shopee物流会有很多个中转站。在选址的过程中，会选择离用户最近的地方建一个物流中转站。假设给你一个二维平面网格，每个格子是房子则为1，或者是空地则为0。找到一个空地修建一个物流中转站，使得这个物流中转站到所有的房子的距离之和最小。 能修建，则返回最小的距离和。如果无法修建，则返回 -1。若范围限制在100*100以内的网格，如何计算出最小的距离和？当平面网格非常大的情况下，如何避免不必要的计算？"
   ]
  },
  {
   "cell_type": "markdown",
   "metadata": {},
   "source": [
    "***************"
   ]
  },
  {
   "cell_type": "markdown",
   "metadata": {},
   "source": [
    "输入描述:\n",
    "4\n",
    "0 1 1 0\n",
    "1 1 0 1\n",
    "0 0 1 0\n",
    "0 0 0 0\n",
    "先输入方阵阶数，然后逐行输入房子和空地的数据，以空格分隔。\n",
    "输出描述:\n",
    "8\n",
    "能修建，则返回最小的距离和。如果无法修建，则返回 -1。"
   ]
  },
  {
   "cell_type": "code",
   "execution_count": null,
   "metadata": {},
   "outputs": [],
   "source": [
    "def cal_distance(num,k,l):#找出距离理论上的中心位置（k,l）最近的真正中心位置（p,q）并计算总的距离\n",
    "    res = 0\n",
    "    record = 2*n\n",
    "    for i in range(n):\n",
    "        for j in range(n):\n",
    "            if num[i][j]==0:\n",
    "                temp = abs(i-k) + abs(j-l)\n",
    "                if record > temp:\n",
    "                    record = temp\n",
    "                    p,q = i,j\n",
    "    for i in range(n):\n",
    "        for j in range(n):\n",
    "            if num[i][j] == 1:\n",
    "                res += abs(i-p) + abs(j-q)\n",
    "    return res\n",
    "if __name__ == '__main__':\n",
    "    n = int(input())\n",
    "    num = []\n",
    "    for _ in range(n):\n",
    "        num.append(list(map(int,input().split())))\n",
    "    row, col, count = 0, 0, 0\n",
    "    for i in range(n):\n",
    "        for j in range(n):\n",
    "            if num[i][j]==1:\n",
    "                row += i\n",
    "                col += j\n",
    "                count += 1\n",
    "    if count == n**2:\n",
    "        print(-1)\n",
    "    else:\n",
    "        k = row/count\n",
    "        l = col/count#k,l分别是理论上的中心位置的横纵坐标，注意是int取整，即向下取整\n",
    "        x,y = k+1,l+1 # x,y是对于取整选择的一种妥协，把两种情况都考虑在内\n",
    "        print(min(cal_distance(num,k,l),cal_distance(num,x,y)))"
   ]
  },
  {
   "cell_type": "code",
   "execution_count": null,
   "metadata": {},
   "outputs": [],
   "source": [
    "##按数学直觉来看，理想点就应该是建筑群的横纵坐标的平均值\n",
    "##written by myself\n",
    "n=int(input())\n",
    "house=[]\n",
    "for i in range(n):\n",
    "    house.append([int(i) for i in input().split()])\n",
    "count=0\n",
    "row=0\n",
    "col=0\n",
    "for i in range(n):\n",
    "    for j in range(n):\n",
    "        if house[i][j]==1:\n",
    "            row+=i\n",
    "            col+=j\n",
    "            count+=1\n",
    "center_x=row/count\n",
    "center_y=col/count\n",
    "def find_nearest(house,x,y):\n",
    "    dis=n*n\n",
    "    for i in range(n):\n",
    "        for j in range(n):\n",
    "            if house[i][j]==0:\n",
    "                tmp=abs(i-x)+abs(j-y)\n",
    "                if tmp<dis:\n",
    "                    dis=tmp\n",
    "                    real_x=i\n",
    "                    real_y=j\n",
    "    return [real_x,real_y]\n",
    "def cal_dis(house,x,y):\n",
    "    dis=0\n",
    "    for i in range(n):\n",
    "        for j in range(n):\n",
    "            if house[i][j]==1:\n",
    "                dis+=abs(i-x)+abs(j-y)\n",
    "    return dis\n",
    "real=find_nearest(house,center_x,center_y)\n",
    "print(cal_dis(house,real[0],real[1]))              "
   ]
  },
  {
   "cell_type": "markdown",
   "metadata": {},
   "source": [
    "### 74. 滴滴编程题 几个岛"
   ]
  },
  {
   "cell_type": "markdown",
   "metadata": {},
   "source": [
    "#### 给定一个m行n列的二维地图, 初始化每个单元都是水.操作addLand 把单元格(row,col)变成陆地.岛屿定义为一系列相连的被水单元包围的陆地单元, 横向或纵向相邻的陆地称为相连(斜对角不算).在一系列addLand的操作过程中, 给出每次addLand操作后岛屿的个数.二维地图的每条边界外侧假定都是水."
   ]
  },
  {
   "cell_type": "markdown",
   "metadata": {},
   "source": [
    "#### 输入描述:多组测试数据，请参考例题处理 每组数据k+3行, k表示addLand操作次数 第一行:表示行数m 第二行:表示列数n 第三行:表示addLand操作次数k 第4~k+3行:row col 表示addLand的坐标。注意超过边界的坐标是无效的。\n",
    "#### 输出描述:一行,k个整数, 表示每次addLand操作后岛屿的个数, 用空格隔开，结尾无空格\n",
    "*****************"
   ]
  },
  {
   "cell_type": "code",
   "execution_count": null,
   "metadata": {},
   "outputs": [],
   "source": [
    "输入\n",
    "3\n",
    "3\n",
    "4\n",
    "0 0\n",
    "0 1\n",
    "1 2\n",
    "2 1\n",
    "输出\n",
    "1 1 2 3"
   ]
  },
  {
   "cell_type": "code",
   "execution_count": null,
   "metadata": {
    "scrolled": true
   },
   "outputs": [],
   "source": [
    "##貌似有思路\n",
    "##written by me\n",
    "##这题好多坑，考察容错输入\n",
    "m=int(input())\n",
    "n=int(input())\n",
    "k=int(input())\n",
    "res=[]\n",
    "map=[[0 for _ in range(n)] for _ in range(m)]\n",
    "count=0\n",
    "directions=[[0,1],[0,-1],[1,0],[-1,0]]\n",
    "def isok(i,j):\n",
    "    if 0<=i<m and 0<=j<n:\n",
    "        return True\n",
    "    else:\n",
    "        return False\n",
    "\n",
    "for i in range(k):\n",
    "    tmp=[int(t) for t in input().split()]\n",
    "    if isok(tmp[0],tmp[1]) and map[tmp[0]][tmp[1]]==0:\n",
    "        bridge=0\n",
    "        map[tmp[0]][tmp[1]]=1\n",
    "        for each in directions:\n",
    "            new_i=tmp[0]+each[0]\n",
    "            new_j=tmp[1]+each[1]\n",
    "            if isok(new_i,new_j):\n",
    "                if map[new_i][new_j]==1:\n",
    "                    bridge+=1\n",
    "        count+=1-bridge\n",
    "        if count==0:count=1\n",
    "    res.append(count)\n",
    "\n",
    "print(' '.join([str(t) for t in res]))\n",
    "    "
   ]
  },
  {
   "cell_type": "code",
   "execution_count": null,
   "metadata": {},
   "outputs": [],
   "source": [
    "row,col,optNum = int(input()),int(input()),int(input())\n",
    "land,islandNum,island = [],0,''\n",
    "for i in range(optNum):\n",
    "    addLand = list(map(int,input().split()))\n",
    "    if addLand[0]<0 or addLand[0]>row-1 or \\\n",
    "        addLand[1]<0 or addLand[1]>col-1:\n",
    "        pass\n",
    "    else:\n",
    "        loc = (addLand[0],addLand[1])\n",
    "        bridgeNum = 0\n",
    "        if loc not in land:\n",
    "            bridgeNum += int((loc[0]-1,loc[1]) in land)+ \\\n",
    "                 int((loc[0]+1,loc[1]) in land)+ \\\n",
    "                 int((loc[0],loc[1]-1) in land)+ \\\n",
    "                 int((loc[0],loc[1]+1) in land)\n",
    "            land.append(loc)\n",
    "            islandNum += 1-bridgeNum\n",
    "        if islandNum==0: islandNum = 1\n",
    "    island += str(islandNum)+' '\n",
    "print(island[:-1])"
   ]
  },
  {
   "cell_type": "code",
   "execution_count": null,
   "metadata": {},
   "outputs": [],
   "source": []
  },
  {
   "cell_type": "code",
   "execution_count": null,
   "metadata": {},
   "outputs": [],
   "source": [
    "##另一种写成类的方法\n",
    "import copy\n",
    " \n",
    "class Solution:\n",
    "    def numIslands(self, grid):\n",
    "        \"\"\"\n",
    "        :type grid: List[List[str]]\n",
    "        :rtype: int\n",
    "        \"\"\"\n",
    "        if not grid: return 0\n",
    "        row, col = len(grid), len(grid[0])\n",
    "        res = 0\n",
    "        for i in range(row):\n",
    "            for j in range(col):\n",
    "                if grid[i][j] == \"1\":\n",
    "                    res += 1\n",
    "                    self.merge(grid, i, j)\n",
    " \n",
    "        return res\n",
    " \n",
    "    def merge(self, grid, i, j):\n",
    "        row = len(grid)\n",
    "        col = len(grid[0])\n",
    " \n",
    "        if i < 0 or i >= row or j < 0 or j >= col or grid[i][j] != \"1\":  # 退出dfs的条件：1.越界；2.遇到值为0或者已访问的节点(X)\n",
    "            return\n",
    " \n",
    "        grid[i][j] = \"X\"  # 置为\"X\", 表示该元素已被访问。\n",
    "        \"\"\"向四个方向查找\"\"\"\n",
    "        self.merge(grid, i - 1, j)\n",
    "        self.merge(grid, i + 1, j)\n",
    "        self.merge(grid, i, j - 1)\n",
    "        self.merge(grid, i, j + 1)\n",
    " \n",
    "m, n, k = [int(input()) for _ in range(3)]\n",
    "land, grid = [[\"0\" for i in range(n)] for j in range(m)], []\n",
    "solution = Solution()\n",
    "res = [0]\n",
    "for i in range(k):\n",
    "    row, col = map(int, input().split())\n",
    "    if row < m and col < n:\n",
    "        land[row][col] = \"1\"\n",
    "        grid = copy.deepcopy(land)\n",
    "        res.append(str(solution.numIslands(grid)))\n",
    "    else:\n",
    "        res.append(res[-1])\n",
    "print(\" \".join(res[1:]))"
   ]
  },
  {
   "cell_type": "code",
   "execution_count": null,
   "metadata": {},
   "outputs": [],
   "source": []
  },
  {
   "cell_type": "code",
   "execution_count": null,
   "metadata": {},
   "outputs": [],
   "source": []
  },
  {
   "cell_type": "markdown",
   "metadata": {},
   "source": [
    "### 75. 走迷宫"
   ]
  },
  {
   "cell_type": "markdown",
   "metadata": {},
   "source": [
    "#### NowCoder最喜欢游乐场的迷宫游戏，他和小伙伴们比赛谁先走出迷宫。现在把迷宫的地图给你，你能帮他算出最快走出迷宫需要多少步吗？"
   ]
  },
  {
   "cell_type": "markdown",
   "metadata": {},
   "source": [
    "#### 输入描述:输入包含多组数据。每组数据包含一个10*10，由“#”和“.”组成的迷宫。其中“#”代表墙；“.”代表通路。入口在第一行第二列；出口在最后一行第九列。从任意一个“.”点都能一步走到上下左右四个方向的“.”点。\n",
    "#### 输出描述:对应每组数据，输出从入口到出口最短需要几步。"
   ]
  },
  {
   "cell_type": "code",
   "execution_count": null,
   "metadata": {},
   "outputs": [],
   "source": [
    "输入\n",
    "#.########\n",
    "#........#\n",
    "#........#\n",
    "#........#\n",
    "#........#\n",
    "#........#\n",
    "#........#\n",
    "#........#\n",
    "#........#\n",
    "########.#\n",
    "#.########\n",
    "#........#\n",
    "########.#\n",
    "#........#\n",
    "#.########\n",
    "#........#\n",
    "########.#\n",
    "#........#\n",
    "#.######.#\n",
    "########.#\n",
    "输出\n",
    "16\n",
    "30"
   ]
  },
  {
   "cell_type": "code",
   "execution_count": null,
   "metadata": {},
   "outputs": [],
   "source": [
    "def BFS(maz):    ##bfs不用递归，直接用一个queue来管理\n",
    "    visited=[[False for i in range(10)] for j in range(10)]\n",
    "    start=[0,1,0]\n",
    "    directs=[[1,0],[-1,0],[0,-1],[0,1]]\n",
    "    queue=[]\n",
    "    queue.append(start)\n",
    "    visited[start[0]][start[1]]=True\n",
    "    while len(queue)>0:\n",
    "        cur=queue.pop(0)\n",
    "        if cur[0]==9 and cur[1]==8:\n",
    "            return cur[2]\n",
    "        for i in range(4):\n",
    "            x=cur[0]+directs[i][0]\n",
    "            y=cur[1]+directs[i][1]\n",
    "            if 0<=x<10 and 0<=y<10 and not visited[x][y] and maz[x][y]=='.':\n",
    "                queue.append([x,y,cur[2]+1])\n",
    "                visited[x][y]=True\n",
    "while 1:\n",
    "    try:\n",
    "        maz=[]\n",
    "        for i in range(10):\n",
    "            temp=input()\n",
    "            maz.append(temp)\n",
    "        print (BFS(maz))\n",
    "    except:\n",
    "        break\n",
    "\n"
   ]
  },
  {
   "cell_type": "code",
   "execution_count": null,
   "metadata": {},
   "outputs": [],
   "source": [
    "from collections import deque\n",
    "def func(maze):\n",
    "    start = [0,1,0]\n",
    "    end = [9,8]\n",
    "    directs = [[1,0],[0,1],[-1,0],[0,-1]]\n",
    "    queue = deque()\n",
    "    visit = [[True]*len(maze[0]) for i in range(len(maze))]\n",
    "    queue.append(start)\n",
    "    visit[start[0]][start[1]] = False\n",
    "     \n",
    "    while len(queue) > 0:\n",
    "        cur = queue.popleft()\n",
    "        if cur[0] == end[0] and cur[1] == end[1]:\n",
    "            return cur[2]\n",
    "        for (dx,dy) in directs:\n",
    "            x = cur[0] + dx\n",
    "            y = cur[1] + dy\n",
    "            if x >= 0 and x < len(maze) and y >= 0 and y < len(maze[0]) and maze[x][y] == '.' and visit[x][y]:\n",
    "                queue.append([x,y,cur[2]+1])\n",
    "                visit[x][y] = False\n",
    "             \n",
    " \n",
    "while True:\n",
    "    try:\n",
    "        maze = []\n",
    "        for i in range(10):\n",
    "            tmp = input()\n",
    "            maze.append(tmp)\n",
    "        print (func(maze))\n",
    "    except:\n",
    "        break\n",
    "\n"
   ]
  },
  {
   "cell_type": "markdown",
   "metadata": {},
   "source": [
    "### 76. 基础迷宫题"
   ]
  },
  {
   "cell_type": "markdown",
   "metadata": {},
   "source": [
    "#### 小C最近在研究机器人，他想看看自己的机器人够不够智能，于是他将机器人放在一个n*m的迷宫中，看看机器人能不能在最短的时间内到达目的地，可是小C不知道最短的时间是多少，现在请你帮他算算机器人到达目的地的最短时间是多少？"
   ]
  },
  {
   "cell_type": "markdown",
   "metadata": {},
   "source": [
    "#### 输入描述:输入数据第一行两个整数n和m。n和m的范围[10,500]。接下来n行，每行m个元素，表示迷宫的每个方格。'S'表示机器人的出发点,'T'表示目的地，'#'表示该方格不能通过，'.'表示可以通过。\n",
    "#### 输出描述:输出一个整数表示机器人到达目的地的最短时间，如果机器人不能到达目的地，输出-1。"
   ]
  },
  {
   "cell_type": "code",
   "execution_count": null,
   "metadata": {},
   "outputs": [],
   "source": [
    "n,m = (int(i) for i in input().split())\n",
    "map=[]\n",
    "for i in range(n):\n",
    "    tmp=input()\n",
    "    if 'S' in tmp:\n",
    "        start=[i,tmp.index('S'),0]\n",
    "    if 'T' in tmp:\n",
    "        end=[i,tmp.index('T')]\n",
    "    map.append(tmp)\n",
    "visited=[[False for _ in range(m)] for _ in range(n)]\n",
    "directions=[[-1,0],[0,-1],[1,0],[0,1]]\n",
    "queue=[]\n",
    "queue.append(start)\n",
    "visited[start[0]][start[1]]=True\n",
    "count=0\n",
    "flag=False\n",
    "while len(queue)>0:\n",
    "    node=queue.pop(0)\n",
    "    if node[:2]==end:\n",
    "        print(node[-1])\n",
    "        flag=True\n",
    "        break\n",
    "    for each in directions:\n",
    "        x=node[0]+each[0]\n",
    "        y=node[1]+each[1]\n",
    "        if 0<=x<n and 0<=y<m and visited[x][y]==False and (map[x][y]=='.' or map[x][y]=='T'):\n",
    "            queue.append([x,y,node[2]+1])\n",
    "            visited[x][y]=True\n",
    "if flag==False:\n",
    "    print(-1)"
   ]
  },
  {
   "cell_type": "markdown",
   "metadata": {},
   "source": [
    "### 77. 小米编程题 计算题"
   ]
  },
  {
   "cell_type": "markdown",
   "metadata": {},
   "source": [
    "#### 给定n个非负整数表示每个宽度为1的柱子的高度题，计算按此排列的柱子，下雨之后能接多少雨水。雨落在柱子之间。"
   ]
  },
  {
   "cell_type": "markdown",
   "metadata": {},
   "source": [
    "************"
   ]
  },
  {
   "cell_type": "markdown",
   "metadata": {},
   "source": [
    "#### 输入描述:逗号分隔的整数，表示每根柱子的高度。柱子数n<=1000000,每根柱子的高度不大于100000\n",
    "#### 输出描述:雨水量（高度和）"
   ]
  },
  {
   "cell_type": "markdown",
   "metadata": {},
   "source": [
    "输入\n",
    "0,1,0,2,1,0,1,3,2,1,2,1\n",
    "输出\n",
    "6"
   ]
  },
  {
   "cell_type": "code",
   "execution_count": null,
   "metadata": {},
   "outputs": [],
   "source": [
    "##这是一个巧妙的题，但理解题意需要配合图\n",
    "#written by me\n",
    "def func(num):\n",
    "    rmax=0  #这是索引为-1的值\n",
    "    res=0   #记录雨水量\n",
    "    for i in num:\n",
    "        if i<rmax:\n",
    "            res+=rmax-i\n",
    "        else:\n",
    "            rmax=i\n",
    "    return res\n",
    "arr=[int(t) for t in input().split(',')]\n",
    "k=arr.index(max(arr))\n",
    "a=arr[:k]\n",
    "b=arr[k+1:][::-1]\n",
    "print(func(a)+func(b))"
   ]
  },
  {
   "cell_type": "code",
   "execution_count": null,
   "metadata": {},
   "outputs": [],
   "source": [
    "def func(num):\n",
    "    rmax=0\n",
    "    res=0\n",
    "    for i in num:\n",
    "        if i>rmax:\n",
    "            rmax=i\n",
    "        else:\n",
    "            res+=(rmax-i)\n",
    "    return res\n",
    "s=list(map(int,input().split(',')))\n",
    "k=s.index(max(s))\n",
    "a=s[:k]\n",
    "b=s[k:][::-1]\n",
    "print(func(a)+func(b))"
   ]
  },
  {
   "cell_type": "code",
   "execution_count": null,
   "metadata": {},
   "outputs": [],
   "source": [
    "nlist = list(map(int, input().split(',')))\n",
    "def count(nlist):\n",
    "    max_i, ans = 0, 0\n",
    "    for i in nlist:\n",
    "        if i > max_i:\n",
    "            max_i = i\n",
    "        else:\n",
    "            ans += max_i - i\n",
    "    return ans\n",
    " \n",
    "list1 = nlist[:nlist.index(max(nlist))+1]\n",
    "list2 = nlist[nlist.index(max(nlist)):][::-1]\n",
    " \n",
    "print(count(list1)+count(list2))"
   ]
  },
  {
   "cell_type": "markdown",
   "metadata": {},
   "source": [
    "### 78. 搜狐 Unix路径简化  （这题有点无聊）"
   ]
  },
  {
   "cell_type": "markdown",
   "metadata": {},
   "source": [
    "#### 简化 Unix 风格的路径，需要考虑的包括 \"/../\", \"//\", \"/./\" 等情况"
   ]
  },
  {
   "cell_type": "markdown",
   "metadata": {},
   "source": [
    "#### 输入描述:Unix 风格的路径\n",
    "#### 输出描述:简化后的Unix 风格路径"
   ]
  },
  {
   "cell_type": "markdown",
   "metadata": {},
   "source": [
    "输入\n",
    "/a/./b/../../c/\n",
    "输出\n",
    "/c"
   ]
  },
  {
   "cell_type": "code",
   "execution_count": null,
   "metadata": {},
   "outputs": [],
   "source": [
    "def unixPath(str):\n",
    "    s = str.split('/')\n",
    "    path = []\n",
    "    for i in range(len(s)):\n",
    "        #remove . 注意 split 有可能产生空字符‘’\n",
    "        if s[i] != '.' and s[i] != '':\n",
    "            if s[i] != '..':\n",
    "                path.append(s[i])\n",
    "            else:\n",
    "                if(len(path)>0):\n",
    "                    path.pop()\n",
    "    return '/'+'/'.join(path)\n",
    " \n",
    "if __name__ == '__main__':\n",
    "    s = input()\n",
    "    res = unixPath(s)\n",
    "    print(res)"
   ]
  },
  {
   "cell_type": "markdown",
   "metadata": {},
   "source": [
    "### 79. 高度最小的BST"
   ]
  },
  {
   "cell_type": "markdown",
   "metadata": {},
   "source": [
    "#### 对于一个元素各不相同且按升序排列的有序序列，请编写一个算法，创建一棵高度最小的二叉查找树。给定一个有序序列int[] vals,请返回创建的二叉查找树的高度。"
   ]
  },
  {
   "cell_type": "code",
   "execution_count": null,
   "metadata": {},
   "outputs": [],
   "source": [
    "class MinimalBST:\n",
    "    def buildMinimalBST(self, vals):\n",
    "        # write code here有序序列，中间元素为根节点，递归建立左右子树\n",
    "        #n=len(vals)\n",
    "         \n",
    "        if len(vals)<=2:\n",
    "            return len(vals)\n",
    "        else:\n",
    "            #left=self.buildMinimalBST(vals[0:len(vals)/2])\n",
    "            #right=self.buildMinimalBST(vals[len(vals)/2+1:])\n",
    "            return 1+max(self.buildMinimalBST(vals[0:len(vals)/2]),self.buildMinimalBST(vals[len(vals)/2+1:]))\n"
   ]
  },
  {
   "cell_type": "code",
   "execution_count": null,
   "metadata": {},
   "outputs": [],
   "source": []
  },
  {
   "cell_type": "markdown",
   "metadata": {},
   "source": [
    "### 80. 度小满2019 字符串替换"
   ]
  },
  {
   "cell_type": "markdown",
   "metadata": {},
   "source": [
    "#### 给定一个仅由小写字母x和y组成且长度不超过105的字符串，每次可以将字符串中的一个子串xy替换成字符串yyx，那么至少要替换多少次才能让字符串中不存在子串xy？\n",
    "*************\n",
    "#### 输入描述:输入给定的字符串。\n",
    "#### 输出描述:输出最少替换次数对10^9+7取模后的结果。\n"
   ]
  },
  {
   "cell_type": "code",
   "execution_count": null,
   "metadata": {},
   "outputs": [],
   "source": [
    "输入\n",
    "xxy\n",
    "输出\n",
    "3"
   ]
  },
  {
   "cell_type": "code",
   "execution_count": null,
   "metadata": {},
   "outputs": [],
   "source": [
    "##思路：变成类似yy..yx....x的情况"
   ]
  },
  {
   "cell_type": "code",
   "execution_count": null,
   "metadata": {},
   "outputs": [],
   "source": [
    "1.将“xy”变为“yyx”，本质就是将“x”向后移动，只有‘y’在增加，‘x’的数目从没变过。\n",
    "2. 每次遇到一个“y”,统计一下这个“y”前面的“x”的数目num，移动次数就是2^(num)-1.\n",
    "这里感谢大佬的思路 @写意自风流 ，幂次运算会超时，所以2^(num)-1可以优化为代码中的\n",
    "X = (2*X+1) % (10 ** 9 + 7)"
   ]
  },
  {
   "cell_type": "code",
   "execution_count": 11,
   "metadata": {},
   "outputs": [
    {
     "name": "stdout",
     "output_type": "stream",
     "text": [
      "yxyxxx\n",
      "1\n"
     ]
    }
   ],
   "source": [
    "def solution(string):\n",
    "    num = 0\n",
    "    count = 0\n",
    "    if string[0] == 'x':\n",
    "        count = 1\n",
    "    X = count\n",
    "    for i in range(1, len(string)):\n",
    "        if string[i] == 'x':\n",
    "            X = (2*X+1) % (10 ** 9 + 7)\n",
    "        else:\n",
    "            num = (num + X) % (10 ** 9 + 7)\n",
    "    return int(num % (10 ** 9 + 7))\n",
    "if __name__ == '__main__':\n",
    "    string = raw_input().strip()\n",
    "    print(solution(string))"
   ]
  },
  {
   "cell_type": "markdown",
   "metadata": {},
   "source": [
    "### 81. 360编程题 挑选镇长"
   ]
  },
  {
   "cell_type": "markdown",
   "metadata": {},
   "source": [
    "#### 360员工桂最近申请了一个长假，一个人背着包出去自助游了。路上，他经过了一个小镇，发现小镇的人们都围在一棵树下争吵。桂上前询问情况，得知小镇的人们正缺一个镇长，他们希望能选一个知名又公正的镇长，即，大家希望能选出一个人，所有人都认识他，但同时他不认识镇上除自己以外的其他人（在此，我们默认每个人自己认识自己）。可是小镇里的人太多了，一下子大家谁也说服不了谁。“这简单啊。”桂表示。于是他一下子统计出来了镇上人们相互之间的认识关系，并且一下子找到了合适的镇长人选。现在你手上也拿到了这样一份认识关系的清单。其中上面给出的认识关系是单向的，即，A认识B与B认识A是相互独立的，只给出A认识B就不能认为B认识A，例如，我认识你，你不一定认识我。而且，这里的认识关系也不具有传递性，即，A认识B，B认识C，但这不代表A认识C。同时，为了方便处理，这份清单中，镇上的N个人依次编号为1到N。你能否像桂一样快速找到合适的镇长人选呢？"
   ]
  },
  {
   "cell_type": "markdown",
   "metadata": {},
   "source": [
    "************\n",
    "#### 输入描述:首先一个正整数T（T≤20），表示数据组数。之后每组数据的第一行有2个整数n  和m  (1≤n≤105 ,0≤m≤3×105 )，依次表示镇上的人数和相互之间的认识关系数。之后m行，第 i 行每行两个数Ai和Bi   (1≤Ai ,Bi ≤n  )，表示Ai认识Bi。（保证没有重复的认识关系，但可能存在自己认识自己的认识关系）。保证所有数据中80%的数据满足n≤1000,m≤10000\n",
    "#### 输出描述:一共2T 行，每组数据对应2行。第一行，一个整数，表示你所找出来的合适的镇长人选人数num i   。第二行，num i 个整数，每两个数中间用空格隔开，表示你所选的合适的镇长的编号。特别的，如果并没有找到合适的镇长，第一行输出一个数0，第二行留空即可（参见样例）。\n"
   ]
  },
  {
   "cell_type": "code",
   "execution_count": null,
   "metadata": {},
   "outputs": [],
   "source": [
    "输入\n",
    "3\n",
    "2 0\n",
    "3 2\n",
    "1 2\n",
    "3 2\n",
    "4 5\n",
    "1 1\n",
    "2 1\n",
    "3 1\n",
    "4 1\n",
    "3 3\n",
    "输出\n",
    "0\n",
    "\n",
    "1\n",
    "2\n",
    "1\n",
    "1"
   ]
  },
  {
   "cell_type": "code",
   "execution_count": null,
   "metadata": {},
   "outputs": [],
   "source": [
    "##必然只存在一个镇长"
   ]
  },
  {
   "cell_type": "code",
   "execution_count": 2,
   "metadata": {},
   "outputs": [
    {
     "name": "stdout",
     "output_type": "stream",
     "text": [
      "l\n"
     ]
    },
    {
     "ename": "ValueError",
     "evalue": "invalid literal for int() with base 10: 'l'",
     "output_type": "error",
     "traceback": [
      "\u001b[0;31m---------------------------------------------------------------------------\u001b[0m",
      "\u001b[0;31mValueError\u001b[0m                                Traceback (most recent call last)",
      "\u001b[0;32m<ipython-input-2-c6f1034b00ae>\u001b[0m in \u001b[0;36m<module>\u001b[0;34m\u001b[0m\n\u001b[0;32m----> 1\u001b[0;31m \u001b[0;32mfor\u001b[0m \u001b[0m_\u001b[0m \u001b[0;32min\u001b[0m \u001b[0mrange\u001b[0m\u001b[0;34m(\u001b[0m\u001b[0mint\u001b[0m\u001b[0;34m(\u001b[0m\u001b[0minput\u001b[0m\u001b[0;34m(\u001b[0m\u001b[0;34m)\u001b[0m\u001b[0;34m)\u001b[0m\u001b[0;34m)\u001b[0m\u001b[0;34m:\u001b[0m\u001b[0;34m\u001b[0m\u001b[0;34m\u001b[0m\u001b[0m\n\u001b[0m\u001b[1;32m      2\u001b[0m     \u001b[0ma\u001b[0m\u001b[0;34m,\u001b[0m \u001b[0mb\u001b[0m \u001b[0;34m=\u001b[0m \u001b[0mmap\u001b[0m\u001b[0;34m(\u001b[0m\u001b[0mint\u001b[0m\u001b[0;34m,\u001b[0m \u001b[0minput\u001b[0m\u001b[0;34m(\u001b[0m\u001b[0;34m)\u001b[0m\u001b[0;34m.\u001b[0m\u001b[0msplit\u001b[0m\u001b[0;34m(\u001b[0m\u001b[0;34m)\u001b[0m\u001b[0;34m)\u001b[0m\u001b[0;34m\u001b[0m\u001b[0;34m\u001b[0m\u001b[0m\n\u001b[1;32m      3\u001b[0m     \u001b[0mknow\u001b[0m \u001b[0;34m=\u001b[0m  \u001b[0;34m[\u001b[0m\u001b[0;36m0\u001b[0m\u001b[0;34m]\u001b[0m \u001b[0;34m*\u001b[0m \u001b[0ma\u001b[0m\u001b[0;34m\u001b[0m\u001b[0;34m\u001b[0m\u001b[0m\n\u001b[1;32m      4\u001b[0m     \u001b[0;32mfor\u001b[0m \u001b[0m__\u001b[0m \u001b[0;32min\u001b[0m \u001b[0mrange\u001b[0m\u001b[0;34m(\u001b[0m\u001b[0mb\u001b[0m\u001b[0;34m)\u001b[0m\u001b[0;34m:\u001b[0m\u001b[0;34m\u001b[0m\u001b[0;34m\u001b[0m\u001b[0m\n\u001b[1;32m      5\u001b[0m         \u001b[0mguanxi\u001b[0m \u001b[0;34m=\u001b[0m \u001b[0mlist\u001b[0m\u001b[0;34m(\u001b[0m\u001b[0mmap\u001b[0m\u001b[0;34m(\u001b[0m\u001b[0mint\u001b[0m\u001b[0;34m,\u001b[0m \u001b[0minput\u001b[0m\u001b[0;34m(\u001b[0m\u001b[0;34m)\u001b[0m\u001b[0;34m.\u001b[0m\u001b[0msplit\u001b[0m\u001b[0;34m(\u001b[0m\u001b[0;34m)\u001b[0m\u001b[0;34m)\u001b[0m\u001b[0;34m)\u001b[0m\u001b[0;34m\u001b[0m\u001b[0;34m\u001b[0m\u001b[0m\n",
      "\u001b[0;31mValueError\u001b[0m: invalid literal for int() with base 10: 'l'"
     ]
    }
   ],
   "source": [
    "for _ in range(int(input())):\n",
    "    a, b = map(int, input().split())\n",
    "    know =  [0] * a\n",
    "    for __ in range(b):\n",
    "        guanxi = list(map(int, input().split()))\n",
    "        if guanxi[0] != guanxi[1]:\n",
    "            know[guanxi[0] - 1] -= 1\n",
    "            know[guanxi[1] - 1] += 1\n",
    "    have = False\n",
    "    for i in range(a):\n",
    "        if know[i] == a - 1:\n",
    "            have = True\n",
    "            print(1)\n",
    "            print(i + 1)\n",
    "    if not have:\n",
    "        print(0)\n",
    "        print(\"\")"
   ]
  },
  {
   "cell_type": "markdown",
   "metadata": {},
   "source": [
    "### 82. 快手2019编程题 机器人移动范围"
   ]
  },
  {
   "cell_type": "markdown",
   "metadata": {},
   "source": [
    "#### 地上有一个m行和n列的方格。一个机器人从坐标0,0的格子开始移动，每一次只能向左，右，上，下四个方向移动一格，但是不能进入行坐标和列坐标的数位之和大于k的格子。 例如，当k为18时，机器人能够进入方格（35,37），因为3+5+3+7 = 18。但是，它不能进入方格（35,38），因为3+5+3+8 = 19。请问该机器人能够达到多少个格子？"
   ]
  },
  {
   "cell_type": "markdown",
   "metadata": {},
   "source": [
    "#### 输入描述:一行三个正整数由空格分开，分别代表行数m，列数n，和坐标数位之和的阈值k，0 < m <= 100, 0 < n <= 100, 0 < k <= 20。\n",
    "#### 输出描述:一个正整数，代表该机器人能够到达的格子数量。\n"
   ]
  },
  {
   "cell_type": "code",
   "execution_count": null,
   "metadata": {},
   "outputs": [],
   "source": [
    "输入\n",
    "3 3 6\n",
    "输出\n",
    "9"
   ]
  },
  {
   "cell_type": "code",
   "execution_count": null,
   "metadata": {},
   "outputs": [],
   "source": [
    "m, n, k = list(map(int, input().strip().split()))\n",
    "directions=[[0,1],[1,0]]\n",
    "def judge(i,j,k):\n",
    "    res=0\n",
    "    while i>0:\n",
    "        res+=i%10\n",
    "        i//=10\n",
    "    while j>0:\n",
    "        res+=j%10\n",
    "        j//=10\n",
    "    if res<=k:\n",
    "        return True\n",
    "    else:\n",
    "        return False\n",
    "def dfs(i,j,m,n,k,book):\n",
    "    ans=0\n",
    "    if 0<=i<m and 0<=j<n and not book[i][j]and judge(i,j,k):\n",
    "        book[i][j]=True\n",
    "        ans+=1\n",
    "        for dire in directions:\n",
    "            new_i=i+dire[0]\n",
    "            new_j=j+dire[1]\n",
    "            ans+=dfs(new_i,new_j,m,n,k,book)\n",
    "    return ans\n",
    "book=[[False]*n for _ in range(m)]\n",
    "print(dfs(0,0,m,n,k,book))"
   ]
  },
  {
   "cell_type": "code",
   "execution_count": null,
   "metadata": {},
   "outputs": [],
   "source": [
    "##剑指原题\n",
    "##先自己写一遍\n",
    "def GetDigitSum(i,j):\n",
    "    result=0\n",
    "    while i>0:\n",
    "        result+=i%10\n",
    "        i=i//10\n",
    "    while j>0:\n",
    "        result+=j%10\n",
    "        j=j//10\n",
    "    return result\n",
    "\n",
    "def isok(i,j):\n",
    "    flag=False\n",
    "    if 0<=i<m and 0<=j<n and GetDigitSum(i,j)<=k:\n",
    "        flag=True\n",
    "    return flag\n",
    "\n",
    "record=[int(i) for i in input().split()]\n",
    "m=record[0]; n=record[1]; k=record[2]\n",
    "directions=[[-1,0],[1,0],[0,-1],[0,1]]\n",
    "##先试一下bfs,可ac\n",
    "visited=[[True for i in range(n)] for i in range(m)]\n",
    "from collections import deque\n",
    "queue=deque()\n",
    "queue.append([0,0])\n",
    "visited[0][0]=False\n",
    "count=1\n",
    "\n",
    "while (len(queue)>0):\n",
    "    node=queue.popleft()\n",
    "    for each in directions:\n",
    "        if isok(node[0]+each[0],node[1]+each[1]) and visited[node[0]+each[0]][node[1]+each[1]]:\n",
    "            queue.append([node[0]+each[0],node[1]+each[1]])\n",
    "            count+=1\n",
    "            visited[node[0]+each[0]][node[1]+each[1]]=False\n",
    "            \n",
    "\n",
    "print(count)\n",
    "        \n",
    "##再试一下dfs\n",
    "def dfs(i,j,book):\n",
    "    ans=0\n",
    "    if isok(i,j) and book[i][j]:\n",
    "        ans+=1\n",
    "        book[i][j]=False\n",
    "        for each in directions:\n",
    "            new_i=i+each[0]\n",
    "            new_j=j+each[1]\n",
    "            ans+=dfs(new_i,new_j,book)\n",
    "    return ans\n",
    "book=[[True for i in range(n)] for i in range(m)]\n",
    "print(dfs(0,0,book))\n",
    "            \n",
    "    \n",
    "    \n",
    "    \n",
    "        "
   ]
  },
  {
   "cell_type": "code",
   "execution_count": null,
   "metadata": {},
   "outputs": [],
   "source": [
    "def GetDigitSum(i,j):\n",
    "    result=0\n",
    "    while i>0:\n",
    "        result+=i%10\n",
    "        i=i//10\n",
    "    while j>0:\n",
    "        result+=j%10\n",
    "        j=j//10\n",
    "    return result\n",
    "def isok(i,j,m,n,k):\n",
    "    flag=False\n",
    "    if 0<=i<m and 0<=j<n and GetDigitSum(i,j)<=k:\n",
    "        flag=True\n",
    "    return flag\n",
    "\n",
    "record=[int(i) for i in input().split()]\n",
    "m=record[0]; n=record[1]; k=record[2]\n",
    "directions=[[-1,0],[1,0],[0,-1],[0,1]]\n",
    "##再试一下dfs,ac 80%,老是说我数组越界，看不明白\n",
    "def dfs(i,j,book,m,n,k):\n",
    "    ans=0\n",
    "    if isok(i,j,m,n,k) and book[i][j]:\n",
    "        ans+=1\n",
    "        book[i][j]=False\n",
    "        for each in directions:\n",
    "            new_i=i+each[0]\n",
    "            new_j=j+each[1]\n",
    "            ans+=dfs(new_i,new_j,book,m,n,k)\n",
    "    return ans\n",
    "book=[[True for i in range(n)] for i in range(m)]\n",
    "print(dfs(0,0,book,m,n,k))"
   ]
  },
  {
   "cell_type": "markdown",
   "metadata": {},
   "source": [
    "### 83. 字节跳动2019 毕业旅行问题"
   ]
  },
  {
   "cell_type": "markdown",
   "metadata": {},
   "source": [
    "#### 小明目前在做一份毕业旅行的规划。打算从北京出发，分别去若干个城市，然后再回到北京，每个城市之间均乘坐高铁，且每个城市只去一次。由于经费有限，希望能够通过合理的路线安排尽可能的省一些路上的花销。给定一组城市和每对城市之间的火车票的价钱，找到每个城市只访问一次并返回起点的最小车费花销。\n",
    "****************\n",
    "#### 输入描述:城市个数n（1<n≤20，包括北京）；城市间的车票价钱 n行n列的矩阵 m[n][n]\n",
    "#### 输出描述:最小车费花销 s\n"
   ]
  },
  {
   "cell_type": "code",
   "execution_count": null,
   "metadata": {},
   "outputs": [],
   "source": [
    "输入\n",
    "4\n",
    "0 2 6 5\n",
    "2 0 4 4\n",
    "6 4 0 2\n",
    "5 4 2 0\n",
    "输出\n",
    "13"
   ]
  },
  {
   "cell_type": "code",
   "execution_count": null,
   "metadata": {},
   "outputs": [],
   "source": [
    "#TSP 状压DP\n",
    " \n",
    "n = int(input())\n",
    "m = []\n",
    "for i in range(n):\n",
    "    m.append(list(map(int, input().split())))\n",
    "V = 1 << (n-1)  #(n-1)个数所能产生的集合\n",
    "dp = [[float(\"inf\")] * V for i in range(n)] # dp[i][j]:从节点i只经过集合j所有点再回到0点所需要的最小开销\n",
    " \n",
    "for i in range(n):\n",
    "    dp[i][0] = m[i][0]\n",
    "for j in range(1,V):\n",
    "    for i in range(n): ##i城市出发\n",
    "        for k in range(1,n):  #能不能先到k城市\n",
    "            if (j >> (k-1) & 1) == 1: #可以途径k\n",
    "                dp[i][j] = min(dp[i][j], m[i][k] + dp[k][j ^ (1 << (k-1))])\n",
    "                \n",
    "#从0出发，经过所有点，再回到0的费用\n",
    "print(dp[0][(1 << (n-1)) - 1])\n"
   ]
  },
  {
   "cell_type": "code",
   "execution_count": null,
   "metadata": {},
   "outputs": [],
   "source": [
    "##以下是易懂的暴力解"
   ]
  },
  {
   "cell_type": "code",
   "execution_count": null,
   "metadata": {},
   "outputs": [],
   "source": [
    "from itertools import permutations\n",
    "city = int(input())\n",
    "prices = dict()\n",
    "for ci in range(city):\n",
    "    seq = list(map(int, input().strip().split()))\n",
    "    prices[ci] = seq\n",
    "possible = list(map(list, permutations(range(1, city))))\n",
    "waste = float('inf')\n",
    "for pu in possible:\n",
    "    current = 0\n",
    "    start = 0\n",
    "    for idx in pu:\n",
    "        current += prices[start][idx]\n",
    "        start = idx\n",
    "    current += prices[start][0]\n",
    "    if current < waste:\n",
    "        waste = current\n",
    "print(waste)\n",
    "\n"
   ]
  },
  {
   "cell_type": "markdown",
   "metadata": {},
   "source": [
    "### 84. 字节跳动2019 机器人跳跃问题"
   ]
  },
  {
   "cell_type": "markdown",
   "metadata": {},
   "source": [
    "#### 机器人正在玩一个古老的基于DOS的游戏。游戏中有N+1座建筑——从0到N编号，从左到右排列。编号为0的建筑高度为0个单位，编号为i的建筑的高度为H(i)个单位。 起初， 机器人在编号为0的建筑处。每一步，它跳到下一个（右边）建筑。假设机器人在第k个建筑，且它现在的能量值是E, 下一步它将跳到第个k+1建筑。它将会得到或者失去正比于与H(k+1)与E之差的能量。如果 H(k+1) > E 那么机器人就失去 H(k+1) - E 的能量值，否则它将得到 E - H(k+1) 的能量值。游戏目标是到达第个N建筑，在这个过程中，能量值不能为负数个单位。现在的问题是机器人以多少能量值开始游戏，才可以保证成功完成游戏？\n",
    "*************\n",
    "#### 输入描述:第一行输入，表示一共有 N 组数据. 第二个是 N 个空格分隔的整数，H1, H2, H3, ..., Hn 代表建筑物的高度\n",
    "#### 输出描述:输出一个单独的数表示完成游戏所需的最少单位的初始能量"
   ]
  },
  {
   "cell_type": "code",
   "execution_count": null,
   "metadata": {},
   "outputs": [],
   "source": [
    "输入\n",
    "5\n",
    "3 4 3 2 4\n",
    "输出\n",
    "4\n",
    "*******\n",
    "输入\n",
    "3\n",
    "4 4 4\n",
    "输出\n",
    "4\n",
    "*******\n",
    "输入\n",
    "3\n",
    "1 6 4\n",
    "输出\n",
    "3\n"
   ]
  },
  {
   "cell_type": "code",
   "execution_count": null,
   "metadata": {},
   "outputs": [],
   "source": [
    "N = int(input())\n",
    "H = [int(x) for x in input().split(' ')]\n",
    "k = len(H) - 1\n",
    "E = 0\n",
    "while(k >= 0):\n",
    "    s = H[k] + E\n",
    "    E = int((s + 1)/2)\n",
    "    k -= 1\n",
    "print(E)\n"
   ]
  },
  {
   "cell_type": "code",
   "execution_count": null,
   "metadata": {},
   "outputs": [],
   "source": [
    "##该题重在分析，不管当前能量E比要跳的高度高还是低，跳完都是2E-H。\n",
    "##按照该递推公式，要希望一开始的能力尽可能小，最后能量应为0.\n",
    "\n",
    "#written by myself\n",
    "N=int(input())\n",
    "h=[int(i) for i in input().split()]\n",
    "E=0\n",
    "k=N-1\n",
    "while k>0:\n",
    "    tmp=E+h[k]\n",
    "    E=(tmp+1)>>1\n",
    "    k-=1\n",
    "print(E)\n",
    "    "
   ]
  },
  {
   "cell_type": "markdown",
   "metadata": {},
   "source": [
    "### 85. shopee编程题 实现字通配符*"
   ]
  },
  {
   "cell_type": "markdown",
   "metadata": {},
   "source": [
    "#### 在Linux Shell命令下通配符'*'表示0个或多个字符, 现编写一段代码实现通配符'*'的功能，注意只需要实现'*', 不用实现其他通配符。"
   ]
  },
  {
   "cell_type": "markdown",
   "metadata": {},
   "source": [
    "***************\n",
    "#### 输入描述:第一行输入通配字符串。第二行输入要匹配查找的字符串\n",
    "#### 输出描述:输出所有匹配的字串起始位置和长度，每行一个匹配输出。如果不匹配，则输出 -1 0。如果有多个按照起始位置和长度的正序输出。"
   ]
  },
  {
   "cell_type": "code",
   "execution_count": null,
   "metadata": {},
   "outputs": [],
   "source": [
    "输入\n",
    "shopee*.com\n",
    "shopeemobile.com\n",
    "输出\n",
    "0 16\n",
    "说明\n",
    "0 起始位置，16长度\n",
    "\n",
    "输入\n",
    "*.com\n",
    "shopeemobile.com\n",
    "输出\n",
    "0 16\n",
    "1 15\n",
    "2 14\n",
    "3 13\n",
    "4 12\n",
    "5 11\n",
    "6 10\n",
    "7 9\n",
    "8 8\n",
    "9 7\n",
    "10 6\n",
    "11 5\n",
    "12 4"
   ]
  },
  {
   "cell_type": "code",
   "execution_count": null,
   "metadata": {},
   "outputs": [],
   "source": [
    "tongstr = input()\n",
    "chastr = input()\n",
    "st = [None] * 2\n",
    "if tongstr.find('*') == -1:\n",
    "    print(\"-1 0\")\n",
    "else:\n",
    "    k = tongstr.find('*');\n",
    "    k = tongstr.find('*', k + 1)\n",
    "    # 有多个*的情况\n",
    "    if k != -1:\n",
    "        sta = tongstr.split('*')\n",
    "        n = len(sta)\n",
    "        k = [None] * n\n",
    "        i = 1\n",
    "        k[0] = chastr.find(sta[0])\n",
    "        if k[0] == -1:\n",
    "            print(\"-1 0\")\n",
    "        # 第一个存在\n",
    "        count = 1\n",
    "        while k[0] >= 0:\n",
    "            # 找到第一个的位置，找之后除最后一个字符串的位置\n",
    "            i = 1\n",
    "            while i < n - 1:\n",
    "                k[i] = chastr.find(sta[i], k[i - 1] + 1)\n",
    "                if k[i] == -1 and count == 1:\n",
    "                    print(\"-1 0\")\n",
    "                    count += 1\n",
    "                    break\n",
    "                i += 1\n",
    "            # 中间每个字符串都存在，找最后一个的位置\n",
    "            if i == n - 1:\n",
    "                k[n - 1] = chastr.find(sta[n - 1], k[n - 2] + 1)\n",
    "                if k[n - 1] == -1:\n",
    "                    print(\"-1 0\")\n",
    "                while k[n - 1] >= k[0]:\n",
    "                    print(str(k[0]) + ' ' + str(k[n - 1] - k[0] + len(sta[n - 1])))\n",
    "                    k[n - 1] = chastr.find(sta[n - 1], k[n - 1] + 1)\n",
    "            k[0] = chastr.find(sta[0], k[0] + 1)\n",
    "            count += 1\n",
    " \n",
    " \n",
    "    # 只有一个*的情况\n",
    "    else:\n",
    "        st[0], st[1] = tongstr.split('*')\n",
    "        # 要判断kx和ky是否存在\n",
    "        # 如果st[0]不存在,则返回位置为0\n",
    " \n",
    "        # 如果前半段没有，后半段有一个或多个\n",
    "        if len(st[0]) == 0 and len(st[1]) != 0:\n",
    "            ky = chastr.find(st[1])\n",
    "            # 找到的第一个后字符串的位置\n",
    "            if ky == -1:\n",
    "                print(\"-1 0\")\n",
    "            while ky != -1:\n",
    "                # 输出从0开始到ky开头的所有情况\n",
    "                i = 0\n",
    "                while i <= ky:\n",
    "                    # 第一个参数为开始位置，第二个为长度\n",
    "                    print(str(i) + ' ' + str(ky + len(st[1]) - i))\n",
    "                    i += 1\n",
    "                ky = chastr.find(st[1], ky + 1)\n",
    " \n",
    "        # 如果前半段有一个或多个，后半段没有\n",
    "        if len(st[0]) != 0 and len(st[1]) == 0:\n",
    "            kx = chastr.find(st[0])\n",
    "            if kx == -1:\n",
    "                print(\"-1 0\")\n",
    "            while kx != -1:\n",
    "                i = 0\n",
    "                while i < len(chastr) + 1:\n",
    "                    print(str(kx) + ' ' + str(kx + len(st[0]) + i))\n",
    "                    i += 1\n",
    "                kx = chastr.find(st[0], kx + 1)\n",
    " \n",
    "        # 如果前后两段都不为空\n",
    "        if len(st[0]) != 0 and len(st[1]) != 0:\n",
    "            kx = chastr.find(st[0])\n",
    "            ky = chastr.find(st[1], kx + 1)\n",
    "            if kx == -1 or ky == -1:\n",
    "                print(\"-1 0\")\n",
    "            else:\n",
    "                while kx != -1:\n",
    "                    ky = chastr.find(st[1], kx + 1)\n",
    "                    while ky != -1:\n",
    "                        print(str(kx) + ' ' + str(ky + len(st[1]) - kx))\n",
    "                        ky = chastr.find(st[1], ky + 1)\n",
    "                    kx = chastr.find(st[0], kx + 1)\n",
    " \n",
    "        # 如果前半段后半段都没有\n",
    "        if len(st[0]) == 0 and len(st[1]) == 0:\n",
    "            if len(chastr) == 0:\n",
    "                print(\"-1 0\")\n",
    "            else:\n",
    "                i = 0\n",
    "                while i < len(chastr):\n",
    "                    for j in range(1, len(chastr) - i + 1):\n",
    "                        print(str(i) + ' ' + str(j))\n",
    "                    i += 1"
   ]
  },
  {
   "cell_type": "markdown",
   "metadata": {},
   "source": [
    "### 86.bilibili编程题  ん...红茶？"
   ]
  },
  {
   "cell_type": "markdown",
   "metadata": {},
   "source": [
    "#### 高贵的蕾米莉亚大小姐每天需要饮用定量 B 型血的红茶以保持威严，并且要分两杯在不同时段饮用。女仆长十六夜咲夜每天可以制作很多杯不同剂量 B 型血的红茶供蕾米莉亚大小姐饮用。某日，你和天才妖精琪露诺偷偷潜入红魔馆被咲夜抓住，要求在今日份的红茶中挑出所有满足大小姐要求的茶杯，否则……"
   ]
  },
  {
   "cell_type": "markdown",
   "metadata": {},
   "source": [
    "#### 输入描述:每个样例有三行输入，第一行输入表示茶杯个数，第二行输入表示每份茶杯里的 B 型血剂量，第三行表示大小姐今天的定量\n",
    "#### 输出描述:对每一个样例，输出所有可能的搭配方案，如果有多种方案，请按每个方案的第一杯 B 型血剂量的大小升序排列。如果无法找到任何一种满足大小姐的方案，输出\"NO\"(不包括引号)并换行。"
   ]
  },
  {
   "cell_type": "code",
   "execution_count": null,
   "metadata": {},
   "outputs": [],
   "source": [
    "输入\n",
    "7\n",
    "2 4 6 1 3 5 7\n",
    "7\n",
    "输出\n",
    "1 6\n",
    "2 5\n",
    "3 4\n",
    "备注:\n",
    "茶杯个数不超过100000，保证茶杯里的B型血剂量两两不同。"
   ]
  },
  {
   "cell_type": "code",
   "execution_count": null,
   "metadata": {},
   "outputs": [],
   "source": [
    "###written by me\n",
    "ncup=int(input())\n",
    "arr=[int(t) for t in input().split()]\n",
    "nsum=int(input())\n",
    "arr.sort()\n",
    "start=0\n",
    "end=ncup-1\n",
    "ans=[]\n",
    "while start<end:\n",
    "    if arr[start]+arr[end]==nsum:\n",
    "        if [arr[start],arr[end]] not in ans:\n",
    "            ans.append([arr[start],arr[end]])\n",
    "            start+=1\n",
    "    elif arr[start]+arr[end]<nsum:\n",
    "        start+=1\n",
    "    elif arr[start]+arr[end]>nsum:\n",
    "        end-=1\n",
    "    print(ans)\n",
    "if len(ans)==0:\n",
    "    print('NO')\n",
    "else:\n",
    "    for i in range(len(ans)):\n",
    "        print(ans[i][0],ans[i][1])"
   ]
  },
  {
   "cell_type": "code",
   "execution_count": 5,
   "metadata": {},
   "outputs": [
    {
     "name": "stdout",
     "output_type": "stream",
     "text": [
      "8\n",
      "2 2 4 6 1 3 5 7\n",
      "7\n",
      "1 6\n",
      "2 5\n",
      "2 5\n",
      "3 4\n"
     ]
    }
   ],
   "source": [
    "##这样就不会漏掉，如果有相同树的情况\n",
    "\n",
    "numCup = int(input())\n",
    "doseB = list(map(int, input().split()))\n",
    "doseNeed = int(input())\n",
    "doseB.sort()\n",
    "res_all = []\n",
    "start = 0\n",
    "end = numCup-1\n",
    "while start < end:\n",
    "    a = doseB[start]\n",
    "    b = doseB[end]\n",
    "    if a+b == doseNeed:\n",
    "        res_all.append([a,b])  \n",
    "    \n",
    "    \n",
    "    if a+b > doseNeed: #这个条件块是独立的，也就是说相等的情况下，不是左右指针各移动，而是只移动左指针。\n",
    "        end -= 1\n",
    "    else:\n",
    "        start +=1\n",
    "        \n",
    "        \n",
    "    #print(start,end)\n",
    "if len(res_all) == 0:\n",
    "    print('NO')\n",
    "else:\n",
    "    for item in res_all:\n",
    "        print('%s %s'%(item[0],item[1]))"
   ]
  },
  {
   "cell_type": "code",
   "execution_count": 6,
   "metadata": {},
   "outputs": [
    {
     "name": "stdout",
     "output_type": "stream",
     "text": [
      "8\n",
      "2 2 4 6 1 3 5 7\n",
      "7\n",
      "1 6\n",
      "2 5\n",
      "2 5\n",
      "3 4\n"
     ]
    }
   ],
   "source": [
    "##给出的数据存在相同数据，特别应对\n",
    "def plan_num(n, arr, sum):\n",
    "    arr.sort()\n",
    "    plan = []\n",
    "    start = 0\n",
    "    end = n - 1\n",
    "    while start < end:\n",
    "        if arr[start] + arr[end] == sum:\n",
    "            plan.append([arr[start], arr[end]])\n",
    "            while arr[start] == arr[start + 1] and start + 1 != end:\n",
    "                plan.append([arr[start + 1], arr[end]])\n",
    "                start += 1\n",
    "            while arr[end] == arr[end - 1] and end - 1 != start:\n",
    "                plan.append([arr[start], arr[end - 1]])\n",
    "                end -= 1\n",
    "            start += 1\n",
    "            end -= 1\n",
    "        elif arr[start] + arr[end] < sum:\n",
    "            start += 1\n",
    "        else:\n",
    "            end -= 1\n",
    "    return plan\n",
    "if __name__ == \"__main__\":\n",
    "    n = int(input())\n",
    "    arr = list(map(int, input().split()))\n",
    "    sum = int(input())\n",
    "    plan = plan_num(n, arr, sum)\n",
    "    if plan == []:\n",
    "        print(\"NO\")\n",
    "    else:\n",
    "        for i in range(len(plan)):\n",
    "            print(plan[i][0], plan[i][1])"
   ]
  },
  {
   "cell_type": "markdown",
   "metadata": {},
   "source": [
    "### 87. 滴滴2020笔试 算法转移（重新安排计算式的数字顺序）"
   ]
  },
  {
   "cell_type": "markdown",
   "metadata": {},
   "source": [
    "#### 给出一个仅包含加减乘除四种运算符的算式(不含括号)，如1+2*3/4，在保持运算符顺序不变的情况下，现在你可以进行若干次如下操作：如果交换相邻的两个数，表达式值不变，那么你就可以交换这两个数。"
   ]
  },
  {
   "cell_type": "markdown",
   "metadata": {},
   "source": [
    "#### 输入:第一行包含一个整数n，表示算式的长度，即包含n个数字和n-1个运算符。(1≤n≤100000)。第二行包含一个含有n个非0整数和n-1个运算符的算式，整数与运算符用空格隔开，运算符包括“+，-，*，/”，整数的绝对值不超过1000。\n",
    "#### 输出:按要求输出字典序最小的表达式，数字与符号之间用空格隔开。\n"
   ]
  },
  {
   "cell_type": "code",
   "execution_count": null,
   "metadata": {},
   "outputs": [],
   "source": [
    "样例输入\n",
    "6\n",
    "3 + 2 + 1 + -4 * -5 + 1\n",
    "样例输出\n",
    "1 + 2 + 3 + -5 * -4 + 1 "
   ]
  },
  {
   "cell_type": "code",
   "execution_count": null,
   "metadata": {},
   "outputs": [],
   "source": [
    "n=int(input())\n",
    "s=list(input().split(\" \"))\n",
    "#for i in range(len(s)):\n",
    "#    if s[i] in ['+','-','*','/']:\n",
    "#        j=i\n",
    "#        break\n",
    "for i in range(len(s)):\n",
    "    if s[i] in ['+','-','*','/']:\n",
    "        new_s=s[:]\n",
    "        for j in range(i,0,-2):\n",
    "            if int(new_s[j+1])>int(new_s[j-1]):\n",
    "                break\n",
    "            t=new_s[j+1]\n",
    "            new_s[j+1]=new_s[j-1]\n",
    "            new_s[j-1]=t\n",
    "            if eval(\"\".join(new_s))==eval(\"\".join(s)):\n",
    "                s=new_s[:]\n",
    "            else:\n",
    "                break\n",
    "print(\" \".join(s))"
   ]
  },
  {
   "cell_type": "code",
   "execution_count": null,
   "metadata": {},
   "outputs": [],
   "source": [
    "##其实不用考虑什么 +-*/ 的运算顺序，直接换，每次检查换完一个之后值是否还相等\n",
    "##总觉得这个思路是巧合"
   ]
  },
  {
   "cell_type": "code",
   "execution_count": null,
   "metadata": {},
   "outputs": [],
   "source": [
    "##另一种思路\n",
    "#先写一个快速排序\n",
    "def partition(arr,l,r):\n",
    "    pivot=arr[r]\n",
    "    i=l-1\n",
    "    for k in range(l,r):\n",
    "        if arr[k]<pivot:\n",
    "            i+=1    ##先将i加1再交换元素位置\n",
    "            arr[i],arr[k]=arr[k],arr[i]\n",
    "    arr[r],arr[i+1]=arr[i+1],arr[r]\n",
    "    return i+1\n",
    "            \n",
    "def quick_sort(arr,l,r):\n",
    "    if l<r:\n",
    "        q=partition(arr,l,r)\n",
    "        quick_sort(arr,l,q-1)\n",
    "        quick_sort(arr,q+1,r)\n",
    "    return arr\n",
    "\n",
    "n=int(input())\n",
    "record=[t for t in input().split()]\n",
    "sign=['+']+record[1:-1:2]\n",
    "num= [int(t) for t in record[0::2]]\n",
    "l,r=0,0\n",
    "while (r<n-1):\n",
    "    while sign[r+1]==sign[r]:\n",
    "        r+=1\n",
    "        \n",
    "    if sign[l]=='+':\n",
    "        if sign[r+1]=='*' or sign[r+1]=='/':\n",
    "            quick_sort(num,l,r-1)\n",
    "        if sign[r+1]=='-':\n",
    "            quick_sort(num,l,r)\n",
    "    if sign[l]=='-':\n",
    "        if sign[r+1]=='*' or sign[r+1]=='/':\n",
    "            quick_sort(num,l,r-1)\n",
    "        if sign[r+1]=='+':\n",
    "            quick_sort(num,l,r)\n",
    "    if sign[l]=='*':\n",
    "        if sign[l-1]=='+' or sign[l-1]=='-':\n",
    "            quick_sort(num,l-1,r)\n",
    "        if sign[l-1]=='/':\n",
    "            quick_sort(num,l,r)\n",
    "    if sign[l]=='/':\n",
    "        quick_sort(num,l,r)\n",
    "    l=r+1\n",
    "    r+=1\n",
    "    \n",
    "result=[]\n",
    "for i in range(n):\n",
    "    result.append(sign[i])\n",
    "    result.append(num[i])\n",
    "result=[str(t) for t in result[1:]] \n",
    "print(' '.join(result))"
   ]
  },
  {
   "cell_type": "markdown",
   "metadata": {},
   "source": [
    "### 88. 滴滴2020笔试 多源D点（关于一颗树的两个节点的距离）"
   ]
  },
  {
   "cell_type": "markdown",
   "metadata": {},
   "source": [
    "#### 输入：第一行包含三个正整数，n,m,d分别表示树上有n个结点，其中有m个点是特殊点，d是如题所示的距离。（1<=n,m,d<=50000）。第二行m个整数，表示特殊的点的编号，编号在1-n之间。第三行有n-1个整数，第i个数表示第i+1号结点的父亲结点的编号，同样在1-n之间。\n",
    "#### 输出：仅包含一个整数，即符合题目要求的点的数量。"
   ]
  },
  {
   "cell_type": "code",
   "execution_count": null,
   "metadata": {},
   "outputs": [],
   "source": [
    "样例输入\n",
    "6 2 3\n",
    "2 1\n",
    "3 4 5 6 1\n",
    "样例输出\n",
    "2"
   ]
  },
  {
   "cell_type": "code",
   "execution_count": null,
   "metadata": {},
   "outputs": [],
   "source": [
    "####我自己写的BFS，有很多重复计算####\n",
    "from collections import defaultdict\n",
    "n,m,d = map(int,input().split())\n",
    "spec = [int(c) for c in input().split()]\n",
    "lis = [int(c) for c in input().split()]\n",
    "# nei为节点邻接表\n",
    "neighbor = defaultdict(list)\n",
    "for i in range(n-1):\n",
    "    neighbor[i+2].append(lis[i])\n",
    "    neighbor[lis[i]].append(i+2)\n",
    "\n",
    "def bfs(node0):\n",
    "    queue=[]\n",
    "    visited=set()\n",
    "    queue.append(node0)\n",
    "    visited.add(node0)\n",
    "    dis=[0 for _ in range(n+1)]\n",
    "    step=0\n",
    "    while queue:\n",
    "        node=queue.pop()\n",
    "        step+=1\n",
    "        for each in neighbor[node]:\n",
    "            if each not in visited:\n",
    "                queue.append(each)\n",
    "                visited.add(each)\n",
    "                dis[each]=step\n",
    "            #print(queue)\n",
    "    return dis\n",
    "\n",
    "count=0\n",
    "for i in range(1,n+1):\n",
    "    dis=0\n",
    "    for point in spec:\n",
    "        dis=max(bfs(point)[i],dis)\n",
    "    if dis<=d:\n",
    "        count+=1\n",
    "print(count)   "
   ]
  },
  {
   "cell_type": "code",
   "execution_count": null,
   "metadata": {},
   "outputs": [],
   "source": [
    "##别人的\n",
    "n,m,d = map(int,input().split())\n",
    "spec = [int(c) for c in input().split()]\n",
    "lis = [int(c) for c in input().split()]\n",
    "# nei为节点邻接表\n",
    "nei = [[] for _ in range(n+1)]\n",
    "for i in range(n-1):\n",
    "    nei[i+2].append(lis[i])\n",
    "    nei[lis[i]].append(i+2)\n",
    " \n",
    "for i in range(1,n+1):\n",
    "    nei[i].append(i)\n",
    " \n",
    "flag = [0] * (n+1)\n",
    "for i in range(m):\n",
    "    dis = 1\n",
    "    queue = [spec[i]]\n",
    "    # 存储bfs遍历的节点\n",
    "    see = set()\n",
    "    while queue:\n",
    "        size = len(queue)\n",
    "        while size != 0 :\n",
    "            tmp = queue.pop(0)\n",
    " \n",
    "            for j in range(len(nei[tmp])):\n",
    "                if nei[tmp][j] not in see:\n",
    "                    see.add(nei[tmp][j])\n",
    "                    flag[nei[tmp][j]] += 1\n",
    " \n",
    "            for i in nei[tmp]:\n",
    "                if i != tmp:\n",
    "                    queue.append(i)\n",
    "            size -= 1\n",
    "        dis += 1\n",
    "        if dis > d:\n",
    "            break\n",
    "#共有多少合适的点\n",
    "count = 0\n",
    "for i in range(len(flag)):\n",
    "    if flag[i] == m:\n",
    "        count += 1\n",
    "print(count)"
   ]
  },
  {
   "cell_type": "code",
   "execution_count": null,
   "metadata": {},
   "outputs": [],
   "source": [
    "####DFS####\n",
    "\n",
    "import collections\n",
    "n,m,d = map(int,input().strip().split())\n",
    "l = list(map(int,input().strip().split()))\n",
    "w = list(map(int,input().strip().split()))\n",
    "a = collections.defaultdict(int)  # child -> father\n",
    "b = collections.defaultdict(int)  # father -> child\n",
    " \n",
    "for i in range(n-1):\n",
    "    a[i+2] = w[i]\n",
    "    b[w[i]] = i+2\n",
    "res = []\n",
    "for i in range(m):\n",
    "    new = [l[i]]\n",
    "    level = 0\n",
    "    now = l[i]\n",
    "    while a[now] != 0 and level < d:\n",
    "        new.append(a[now])\n",
    "        level += 1\n",
    "        now = a[now]\n",
    "    level = 0\n",
    "    now = l[i]\n",
    "    while b[now] != 0  and level < d:\n",
    "        new.append(b[now])\n",
    "        level += 1\n",
    "        now = b[now]\n",
    "    if i==0:\n",
    "        res.extend(new)\n",
    "    else:\n",
    "        res = [x for x in res if x in new]\n",
    "#print(res)\n",
    "print(len(res))"
   ]
  },
  {
   "cell_type": "markdown",
   "metadata": {},
   "source": [
    "### 89. 顺丰科技2020笔试题 学习机 （并查集算法相关）"
   ]
  },
  {
   "cell_type": "markdown",
   "metadata": {},
   "source": [
    "#### 某学术会议上，一共有n个人参加，现在已知每个人会的语言（一个人可能不会任何语言）。现在有一种学习机，每一个学习机可以在会议期间使一个人暂时掌握一种自己不会的语言，问要使得任意两人都要能直接或者间接的交流至少准备多少个学习机？间接交流的意思是：可以通过其他参加会议的人翻译（可能或出现很多人一起帮忙翻译的情况）进行交流。如：第一个人和第二个人会第一种语言，第二个人和第三个人会第二种语言，那么第一个人可以和第三个人进行交流（通过第二个人的翻译）"
   ]
  },
  {
   "cell_type": "markdown",
   "metadata": {},
   "source": [
    "#### 输入：第一行3个数n,m,k代表人数，语言数，已知的信息数 接下来k行，每行两个数u,v，代表u第个人会第v种语言\n",
    "#### 输出：输出需要准备的学习机的个数"
   ]
  },
  {
   "cell_type": "code",
   "execution_count": null,
   "metadata": {},
   "outputs": [],
   "source": [
    "样例输入\n",
    "3 3 2\n",
    "2 3\n",
    "3 1\n",
    "样例输出\n",
    "2"
   ]
  },
  {
   "cell_type": "code",
   "execution_count": null,
   "metadata": {},
   "outputs": [],
   "source": [
    "##思路：简单来说就是会同一个语言的人是可以连起来的，\n",
    "##此外一个人会多种语言那么这些语言也可以被连起来，\n",
    "##考虑这两个数组就可以比较方便表示图节点的连接关系，然后dfs就行了"
   ]
  },
  {
   "cell_type": "markdown",
   "metadata": {},
   "source": [
    "### 90. 流利说编程题 连续子数组最大和"
   ]
  },
  {
   "cell_type": "markdown",
   "metadata": {},
   "source": [
    "#### 题目描述:输入一个整形数组（可能有正数和负数），求数组中连续子数组（最少有一个元素）的最大和。要求时间复杂度为O(n)。"
   ]
  },
  {
   "cell_type": "markdown",
   "metadata": {},
   "source": [
    "#### 输入描述:【重要】第一行为数组的长度N（N>=1）。接下来N行，每行一个数，代表数组的N个元素\n",
    "#### 输出描述: 最大和的结果"
   ]
  },
  {
   "cell_type": "code",
   "execution_count": null,
   "metadata": {},
   "outputs": [],
   "source": [
    "示例输入\n",
    "8\n",
    "1\n",
    "-2\n",
    "3\n",
    "10\n",
    "-4\n",
    "7\n",
    "2\n",
    "-5\n",
    "\n",
    "输出\n",
    "18\n",
    "\n",
    "说明\n",
    "最大子数组为 3, 10, -4, 7, 2"
   ]
  },
  {
   "cell_type": "code",
   "execution_count": null,
   "metadata": {},
   "outputs": [],
   "source": [
    "n=int(input())\n",
    "list1=[]\n",
    "for i in range(n):\n",
    "    list1.append(int(input()))\n",
    "if n<=1:\n",
    "    print(list1[0])\n",
    "    exit()\n",
    "sum,res_max=0,0\n",
    "for j in list1:\n",
    "    sum=max(sum+j,0)\n",
    "    if res_max<sum:\n",
    "        res_max=sum\n",
    "print(res_max)"
   ]
  },
  {
   "cell_type": "markdown",
   "metadata": {},
   "source": [
    "### 91. shopee2019编程题 shopee的办公室（二）"
   ]
  },
  {
   "cell_type": "markdown",
   "metadata": {},
   "source": [
    "#### 题目描述：shopee的办公室非常大，小虾同学的位置坐落在右上角，而大门却在左下角，可以把所有位置抽象为一个网格（门口的坐标为0，0），小虾同学很聪明，每次只向上，或者向右走，因为这样最容易接近目的地，但是小虾同学不想让自己的boss们看到自己经常在他们面前出没，或者迟到被发现。他决定研究一下如果他不通过boss们的位置，他可以有多少种走法？"
   ]
  },
  {
   "cell_type": "code",
   "execution_count": null,
   "metadata": {},
   "outputs": [],
   "source": [
    "输入描述:\n",
    "第一行 x,y,n (0<x<=30, 0<y<=30, 0<=n<= 20) 表示x,y小虾的座位坐标,n 表示boss的数量（ n <= 20）\n",
    "\n",
    "接下来有n行, 表示boss们的坐标(0<xi<= x, 0<yi<=y，不会和小虾位置重合)\n",
    "\n",
    "x1, y1\n",
    "\n",
    "x2, y2\n",
    "\n",
    "……\n",
    "\n",
    "xn, yn\n",
    "输出描述:\n",
    "输出小虾有多少种走法"
   ]
  },
  {
   "cell_type": "code",
   "execution_count": null,
   "metadata": {},
   "outputs": [],
   "source": [
    "示例\n",
    "输入\n",
    "3 3 2\n",
    "1 1\n",
    "2 2\n",
    "输出\n",
    "4"
   ]
  },
  {
   "cell_type": "code",
   "execution_count": null,
   "metadata": {},
   "outputs": [],
   "source": [
    "def walk(matrix):\n",
    "    n = len(matrix);\n",
    "    m = len(matrix[0]);\n",
    "    dp = [[0 for _ in range(m)] for _ in range(n)];\n",
    "    for i in range(n-1,-1,-1):\n",
    "        if(matrix[i][m-1] ==1):\n",
    "            break;\n",
    "        else:\n",
    "            dp[i][m-1] = 1;\n",
    "     \n",
    "    for j in range(m-1,-1,-1):\n",
    "        if(matrix[n-1][j] == 1):\n",
    "            break;\n",
    "        else:\n",
    "            dp[n-1][j] = 1;\n",
    "     \n",
    "    #1 represent boss\n",
    "    for i in range(n-2,-1,-1):\n",
    "        for j in range(m-2,-1,-1):\n",
    "            if(matrix[i][j] != 1):\n",
    "                dp[i][j] = dp[i+1][j] + dp[i][j+1];\n",
    "            else:\n",
    "                dp[i][j] = 0;\n",
    "    return dp[0][0];\n",
    " \n",
    "[x,y,n] = [int(i) for i in input().split(' ')];\n",
    "matrix = [[0 for _ in range(y+1)] for _ in range(x+1)];\n",
    "for i in range(n):\n",
    "    xi,yi = input().split(' ');\n",
    "    matrix[int(xi)][int(yi)] = 1;\n",
    "\n",
    "res = walk(matrix);\n",
    "print(res);"
   ]
  },
  {
   "cell_type": "markdown",
   "metadata": {},
   "source": [
    "### 92. 寒武纪编程题 回文数索引"
   ]
  },
  {
   "cell_type": "markdown",
   "metadata": {},
   "source": [
    "#### 题目描述：给定一个仅由小写字母组成的字符串。现在请找出一个位置，删掉那个字母之后，字符串变成回文。请放心总会有一个合法的解。如果给定的字符串已经是一个回文串，那么输出-1。\n",
    "****************\n",
    "#### 输入描述:第一行包含T，测试数据的组数。后面跟有T行，每行包含一个字符串。\n",
    "#### 输出描述:如果可以删去一个字母使它变成回文串，则输出任意一个满足条件的删去字母的位置（下标从0开始）。例如：bcc我们可以删掉位置0的b字符。\n"
   ]
  },
  {
   "cell_type": "code",
   "execution_count": null,
   "metadata": {},
   "outputs": [],
   "source": [
    "示例输入\n",
    "3\n",
    "aaab\n",
    "baa\n",
    "aaa\n",
    "\n",
    "输出\n",
    "3\n",
    "0\n",
    "-1"
   ]
  },
  {
   "cell_type": "code",
   "execution_count": null,
   "metadata": {},
   "outputs": [],
   "source": [
    "def func(str_list):\n",
    "    key = 0\n",
    "    for i in range(0,len(str_list)):\n",
    "        j = len(str_list)-i-1\n",
    "        if i<j:\n",
    "            if str_list[i] == str_list[j]:\n",
    "                pass\n",
    "            elif str_list[i] == str_list[j-1]:\n",
    "                return j\n",
    "            else:\n",
    "                return i\n",
    "        else:\n",
    "            return -1\n",
    "         \n",
    "N = int(input())\n",
    "for i in range(N):\n",
    "    sample = input().strip()\n",
    "    get = func(sample)\n",
    "    print(get)\n"
   ]
  },
  {
   "cell_type": "code",
   "execution_count": null,
   "metadata": {},
   "outputs": [],
   "source": []
  },
  {
   "cell_type": "markdown",
   "metadata": {},
   "source": [
    "### 93. 京东2019编程题 寻找子串"
   ]
  },
  {
   "cell_type": "markdown",
   "metadata": {},
   "source": [
    "#### 题目描述：给出m个字符串S1，S2，...，Sm和一个单独的字符串T。请在T中选出尽可能多的子串同时满足：  1）这些子串在T中互不相交。  2）这些子串都是S1，S2，...，Sm中的某个串。  问最多能选出多少个子串。\n",
    "************\n",
    "#### 输入描述:第一行一个数m（1≤m≤10），接下来m行，每行一个串。最后一行输入一个串T。输入中所有单个串的长度不超过100000，串中只会出现小写字母。\n",
    "#### 输出描述:输出一个数，最多能选出多少串。"
   ]
  },
  {
   "cell_type": "code",
   "execution_count": null,
   "metadata": {},
   "outputs": [],
   "source": [
    "示例1\n",
    "输入\n",
    "3\n",
    "aa\n",
    "b\n",
    "ac\n",
    "bbaac\n",
    "输出\n",
    "3"
   ]
  },
  {
   "cell_type": "code",
   "execution_count": null,
   "metadata": {},
   "outputs": [],
   "source": [
    "maxn = 100005\n",
    "Next = [0]*maxn\n",
    "# 初始化next矩阵\n",
    "def init(t):\n",
    "    l = len(t)\n",
    "    Next[0] = -1\n",
    "    k = -1\n",
    "    j = 0\n",
    "    while j < l-1:\n",
    "        if k==-1 or t[j] == t[k]:\n",
    "            k+=1\n",
    "            j+=1\n",
    "            Next[j] = k\n",
    "        else:\n",
    "            k = Next[k]\n",
    " \n",
    "def KMP(t, s):\n",
    "    st = []\n",
    "    init(t)\n",
    "    i = 0\n",
    "    j = 0\n",
    "    lt = len(t)\n",
    "    ls = len(s)\n",
    "    while i < ls:\n",
    "        if j == -1 or s[i] == t[j]:\n",
    "            i+=1\n",
    "            j+=1\n",
    "        else:\n",
    "            j=Next[j]\n",
    "        if j == lt:\n",
    "             \n",
    "            st.append([i-j, i-j+lt-1])\n",
    "            j=0\n",
    "    return st\n",
    "n = int(input())\n",
    "string = []\n",
    "for i in range(n):\n",
    "    string.append(input())\n",
    "target = input()\n",
    " \n",
    "pList = []\n",
    "for t in string:\n",
    "    pList+=KMP(t, target)\n",
    "def takeSecond(ele):\n",
    "    return ele[1]\n",
    "pList.sort(key = takeSecond)\n",
    "pre = -1\n",
    "count = 0\n",
    "for l in pList:\n",
    "    if l[0]>pre:\n",
    "        count += 1\n",
    "        pre = l[1]\n",
    "print(count)"
   ]
  },
  {
   "cell_type": "code",
   "execution_count": null,
   "metadata": {},
   "outputs": [],
   "source": [
    "def kmp(string, pattern):\n",
    "    next_array = [0] * len(pattern)\n",
    " \n",
    "    def cal_next_array(pattern):\n",
    "        next_array[0] = -1\n",
    "        cursor, j = -1, 0\n",
    "        while j < len(pattern)-1:\n",
    "            if cursor == -1 or pattern[j] == pattern[cursor]:\n",
    "                cursor += 1\n",
    "                j += 1\n",
    "                next_array[j] = cursor\n",
    "            else:\n",
    "                cursor = next_array[cursor]\n",
    " \n",
    "    cal_next_array(pattern)\n",
    "    i, j = 0, 0\n",
    "    index = []\n",
    "    while i < len(string):\n",
    "        if j == -1 or string[i] == pattern[j]:\n",
    "            i += 1\n",
    "            j += 1\n",
    "        else:\n",
    "            j = next_array[j]\n",
    "        if j == len(pattern):\n",
    "            index.append([i-j, i-1])\n",
    "            j = 0\n",
    "    return index\n",
    " \n",
    " \n",
    "if __name__ == '__main__':\n",
    "    num = int(input().strip())\n",
    "    patterns = []\n",
    "    for _ in range(num):\n",
    "        patterns.append(input().strip())\n",
    "    string = input().strip()\n",
    " \n",
    "    res = []\n",
    "    for pattern in patterns:\n",
    "        res += kmp(string, pattern)\n",
    " \n",
    "    res.sort(key=lambda su: su[1])\n",
    "    pre, count = -1, 0\n",
    "    for ru in res:\n",
    "        if ru[0] > pre:\n",
    "            pre = ru[1]\n",
    "            count += 1\n",
    "    print(count)"
   ]
  },
  {
   "cell_type": "code",
   "execution_count": null,
   "metadata": {},
   "outputs": [],
   "source": [
    "def find_interval(string, pattern):\n",
    "    res = [];\n",
    "    cur = 0;\n",
    "    while True:\n",
    "        if pattern in string[cur:]:\n",
    "            start = string.index(pattern, cur);\n",
    "            end = start + len(pattern) - 1;\n",
    "            res.append([start, end]);\n",
    "            cur = end + 1;\n",
    "        else:\n",
    "            break\n",
    "    return res;\n",
    " \n",
    "def withoutcross_count(intervals):\n",
    "    intervals = sorted(intervals,key=lambda x: x[1]);\n",
    "    pre, count = -1, 0;\n",
    "    for interval in intervals:\n",
    "        if interval[0] > pre:\n",
    "            pre = interval[1];\n",
    "            count += 1;\n",
    "    return count;\n",
    "num = int(input());\n",
    "patterns = []\n",
    "for _ in range(num):\n",
    "    patterns.append(input());\n",
    " \n",
    "string = input();\n",
    " \n",
    "intervals = []\n",
    "for pattern in patterns:\n",
    "    intervals += find_interval(string, pattern)\n",
    "ans = withoutcross_count(intervals);\n",
    "print(ans);\n"
   ]
  },
  {
   "cell_type": "markdown",
   "metadata": {},
   "source": [
    "### 94. 好奇的薯队长"
   ]
  },
  {
   "cell_type": "markdown",
   "metadata": {},
   "source": [
    "#### 题目描述：薯队长在平时工作中需要经常跟数字打交道，某一天薯队长收到了一个满是数字的表格，薯队长注意到这些数字里边很多数字都包含1，比如101里边包含两个1，616里包含一个1。请你设计一个程序帮薯队长计算任意一个正整数n(0<n<=2147483647)，从1到n（包括n）的所有整数数字里含有多少个1。\n",
    "*****************\n",
    "#### 输入描述:正整数n(0<n<=2147483647)\n",
    "#### 输出描述:从1到n（包括n）的所有整数数字里含有多少个1"
   ]
  },
  {
   "cell_type": "code",
   "execution_count": null,
   "metadata": {},
   "outputs": [],
   "source": [
    "示例1\n",
    "输入\n",
    "1\n",
    "输出\n",
    "1\n",
    "\n",
    "示例2\n",
    "输入\n",
    "13\n",
    "输出\n",
    "6\n",
    "说明\n",
    "从1到13（包括13）有13个数字，其中包含1的数字有1，10，11，12，13，这些数字里分别有1，1，2，1，1个1，所以从1到13（包括13）的整数数字中一共有1+1+2+1+1=6个1"
   ]
  },
  {
   "cell_type": "code",
   "execution_count": null,
   "metadata": {},
   "outputs": [],
   "source": [
    "def NumberOf1Between1AndN_Solution(n):\n",
    "    mult, sumTimes = 1, 0\n",
    "    while n//mult > 0:\n",
    "        high, mod = divmod(n, mult*10)\n",
    "        curNum, low = divmod(mod, mult)\n",
    "        if curNum > 1:\n",
    "            sumTimes += high*mult + mult\n",
    "        elif curNum == 1:\n",
    "            sumTimes += high*mult + low + 1\n",
    "        else:\n",
    "            sumTimes += high*mult\n",
    "        mult = mult*10\n",
    "    print(sumTimes)\n",
    "if __name__ == '__main__':\n",
    "    n = int(input())\n",
    "    NumberOf1Between1AndN_Solution(n)"
   ]
  },
  {
   "cell_type": "markdown",
   "metadata": {},
   "source": [
    "### 95. 配比"
   ]
  },
  {
   "cell_type": "markdown",
   "metadata": {},
   "source": [
    "#### 题目描述：小M要制作一种黑暗饮料，这种饮料的原料有n种，编号为1-n，已知小M的容器最多容纳V升材料，黑暗料理的各种原料配比为 a1 : a2 : a3 : ... : an, 每种原料分别有b1，b2，... bn升。  问小M最多可以制作多少升这种饮料。小M使用的各种原料体积和不能超过V。\n",
    "**************\n",
    "#### 输入描述:输入第一行，两个正整数n和V，表示原料种类数和容器容积。(1<=n<=1000，1<=V<=1000000) 输入第二行包含n个数a1,a2,a3,...an，表示n种原料的配比。 输入第三行包含n个数b1,b2,b3...bn，表示小M拥有的各种原料数。 （数字间以空格隔开）\n",
    "#### 输出描述:输出包含一个非负数，表示小M最多可以制作多少饮料，结果保留4位小数。\n"
   ]
  },
  {
   "cell_type": "code",
   "execution_count": null,
   "metadata": {},
   "outputs": [],
   "source": [
    "示例1\n",
    "输入\n",
    "1 100\n",
    "1\n",
    "40\n",
    "输出\n",
    "40.0000"
   ]
  },
  {
   "cell_type": "code",
   "execution_count": null,
   "metadata": {},
   "outputs": [],
   "source": [
    "a = [int(x) for x in input().split()]\n",
    "ratio = [int(x) for x in input().split()]\n",
    "v = [int(x) for x in input().split()]\n",
    "n = a[0]\n",
    "V = a[1]\n",
    "sum_ratio = sum(ratio)\n",
    "one_v_ratio = min(list(map(lambda r,v:v/r,ratio,v)))\n",
    "v_may = min(one_v_ratio * sum_ratio,V)\n",
    "print(\"%.4f\"%v_may)\n"
   ]
  },
  {
   "cell_type": "code",
   "execution_count": null,
   "metadata": {},
   "outputs": [],
   "source": []
  },
  {
   "cell_type": "markdown",
   "metadata": {},
   "source": [
    "### 96. 雀魂启动！"
   ]
  },
  {
   "cell_type": "markdown",
   "metadata": {},
   "source": [
    "#### 题目描述:小包最近迷上了一款叫做雀魂的麻将游戏，但是这个游戏规则太复杂，小包玩了几个月了还是输多赢少。于是生气的小包根据游戏简化了一下规则发明了一种新的麻将，只留下一种花色，并且去除了一些特殊和牌方式（例如七对子等），具体的规则如下：总共有36张牌，每张牌是1~9。每个数字4张牌。你手里有其中的14张牌，如果这14张牌满足如下条件，即算作和牌。14张牌中有2张相同数字的牌，称为雀头。除去上述2张牌，剩下12张牌可以组成4个顺子或刻子。顺子的意思是递增的连续3个数字牌（例如234,567等），刻子的意思是相同数字的3个数字牌（例如111,777）\n",
    "\n"
   ]
  },
  {
   "cell_type": "code",
   "execution_count": null,
   "metadata": {},
   "outputs": [],
   "source": [
    "例如：\n",
    "1 1 1 2 2 2 6 6 6 7 7 7 9 9 可以组成1,2,6,7的4个刻子和9的雀头，可以和牌\n",
    "1 1 1 1 2 2 3 3 5 6 7 7 8 9 用1做雀头，组123,123,567,789的四个顺子，可以和牌\n",
    "1 1 1 2 2 2 3 3 3 5 6 7 7 9 无论用1 2 3 7哪个做雀头，都无法组成和牌的条件。\n",
    "现在，小包从36张牌中抽取了13张牌，他想知道在剩下的23张牌中，再取一张牌，取到哪几种数字牌可以和牌。"
   ]
  },
  {
   "cell_type": "markdown",
   "metadata": {},
   "source": [
    "#### 输入描述:输入只有一行，包含13个数字，用空格分隔，每个数字在1~9之间，数据保证同种数字最多出现4次。\n",
    "#### 输出描述:输出同样是一行，包含1个或以上的数字。代表他再取到哪些牌可以和牌。若满足条件的有多种牌，请按从小到大的顺序输出。若没有满足条件的牌，请输出一个数字0"
   ]
  },
  {
   "cell_type": "code",
   "execution_count": null,
   "metadata": {},
   "outputs": [],
   "source": [
    "示例1\n",
    "输入\n",
    "1 1 1 2 2 2 5 5 5 6 6 6 9\n",
    "输出\n",
    "9\n",
    "说明\n",
    "可以组成1,2,6,7的4个刻子和9的雀头\n",
    "\n",
    "示例2\n",
    "输入\n",
    "1 1 1 1 2 2 3 3 5 6 7 8 9\n",
    "输出\n",
    "4 7\n",
    "说明\n",
    "用1做雀头，组123,123,567或456,789的四个顺子\n",
    "\n",
    "示例3\n",
    "输入\n",
    "1 1 1 2 2 2 3 3 3 5 7 7 9\n",
    "输出\n",
    "0\n",
    "说明\n",
    "来任何牌都无法和牌\n",
    "\n",
    "备注:\n",
    "请不要根据自己的常识为题目增加未提及的条件\n",
    "对于20%的数据，保证和牌时一定是4个刻子+雀头的形式"
   ]
  },
  {
   "cell_type": "code",
   "execution_count": null,
   "metadata": {},
   "outputs": [],
   "source": [
    "## Solution 1\n",
    "def isHu(nums):\n",
    "    \"\"\"\n",
    "    判断是否可以胡牌\n",
    "    :param nums:\n",
    "    :return:\n",
    "    \"\"\"\n",
    "    if not nums:\n",
    "        return True\n",
    "    n = len(nums)\n",
    "    count0 = nums.count(nums[0])\n",
    "    # 没出现过雀头，且第一个数字出现的次数 >= 2,去掉雀头剩下的能不能和牌\n",
    "    if n % 3 != 0 and count0 >= 2 and isHu(nums[2:]) == True:\n",
    "        return True\n",
    "    # 如果第一个数字出现次数 >= 3，去掉这个刻子后看剩下的能和牌\n",
    "    if count0 >= 3 and isHu(nums[3:]) == True:\n",
    "        return True\n",
    "    # 如果存在顺子，移除顺子后剩下的能和牌\n",
    "    if nums[0] + 1 in nums and nums[0] + 2 in nums:\n",
    "        last_nums = nums.copy()\n",
    "        last_nums.remove(nums[0])\n",
    "        last_nums.remove(nums[0] + 1)\n",
    "        last_nums.remove(nums[0] + 2)\n",
    "        if isHu(last_nums) == True:\n",
    "            return True\n",
    "    # 以上条件都不满足，则不能和牌\n",
    "    return False\n",
    "   \n",
    "def main(nums):\n",
    "    \"\"\"\n",
    "    遍历所有可以抓到的牌看能不能胡牌\n",
    "    :return:\n",
    "    \"\"\"\n",
    "    d = {}\n",
    "    for i in nums:\n",
    "        d[i] = d.get(i,0) + 1\n",
    "    card_list = set(range(1,10)) - {i for i,v in d.items() if v==4}\n",
    "    res = []\n",
    "    for i in card_list:\n",
    "        if isHu(sorted(nums + [i])):  # 如果这种抽牌方式可以和牌\n",
    "            res.append(i)  # 加入和牌类型列表\n",
    "    res = ' '.join(str(x) for x in sorted(res)) if res else '0'\n",
    "    print(res)\n",
    "   \n",
    "   \n",
    "s = input()\n",
    "nums = [int(x) for x in s.split()]\n",
    "main(nums)"
   ]
  },
  {
   "cell_type": "code",
   "execution_count": null,
   "metadata": {},
   "outputs": [],
   "source": [
    "## Solution 2\n",
    "def isHu(hands):\n",
    "    if not hands:return True\n",
    "    count0 = hands.count(hands[0])\n",
    "    #开头出现雀头\n",
    "    if len(hands)%3 !=0 and count0>=2 and isHu(hands[2:]):\n",
    "        return True\n",
    "    #开头出现刻子\n",
    "    if count0>=3 and isHu(hands[3:]):\n",
    "        return True\n",
    "    #开头出现顺子\n",
    "    if hands[0]+1 in hands and hands[0]+2 in hands:\n",
    "        newhands = hands.copy()\n",
    "        newhands.remove(hands[0])\n",
    "        newhands.remove(hands[0]+1)\n",
    "        newhands.remove(hands[0]+2)\n",
    "        return isHu(newhands)\n",
    "    return False\n",
    "def main(hands):\n",
    "    d = {}\n",
    "    for i in hands:\n",
    "        d[i] = d.get(i,0)+1\n",
    "    rest_cards = set(range(1,10))-{k for k,v in d.items() if v==4}\n",
    "    result = []\n",
    "    for card in rest_cards:\n",
    "        if isHu(sorted(hands+[card])):\n",
    "            result.append(card)\n",
    "    result = ' '.join(list(map(str,result))) if result else '0'\n",
    "    print(result)\n",
    "hands = list(map(int, input().strip().split()))\n",
    "main(hands)\n"
   ]
  },
  {
   "cell_type": "code",
   "execution_count": null,
   "metadata": {},
   "outputs": [],
   "source": []
  }
 ],
 "metadata": {
  "kernelspec": {
   "display_name": "Python 3",
   "language": "python",
   "name": "python3"
  },
  "language_info": {
   "codemirror_mode": {
    "name": "ipython",
    "version": 3
   },
   "file_extension": ".py",
   "mimetype": "text/x-python",
   "name": "python",
   "nbconvert_exporter": "python",
   "pygments_lexer": "ipython3",
   "version": "3.7.1"
  }
 },
 "nbformat": 4,
 "nbformat_minor": 2
}
